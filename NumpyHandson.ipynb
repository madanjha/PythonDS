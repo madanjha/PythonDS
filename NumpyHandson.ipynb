{
  "cells": [
    {
      "cell_type": "markdown",
      "metadata": {
        "id": "view-in-github",
        "colab_type": "text"
      },
      "source": [
        "<a href=\"https://colab.research.google.com/github/madanjha/PythonDS/blob/main/NumpyHandson.ipynb\" target=\"_parent\"><img src=\"https://colab.research.google.com/assets/colab-badge.svg\" alt=\"Open In Colab\"/></a>"
      ]
    },
    {
      "cell_type": "markdown",
      "id": "338eb3eb-6619-4c9b-ab17-e41c4eb8fc7e",
      "metadata": {
        "id": "338eb3eb-6619-4c9b-ab17-e41c4eb8fc7e"
      },
      "source": [
        "NUMPY HANDSON"
      ]
    },
    {
      "cell_type": "code",
      "execution_count": null,
      "id": "bd3a3d48-971d-434e-9ca7-95289ac8212d",
      "metadata": {
        "id": "bd3a3d48-971d-434e-9ca7-95289ac8212d"
      },
      "outputs": [],
      "source": [
        "import numpy as np"
      ]
    },
    {
      "cell_type": "markdown",
      "id": "99e824ca-f3f3-4913-84b7-ff5be5e624be",
      "metadata": {
        "id": "99e824ca-f3f3-4913-84b7-ff5be5e624be"
      },
      "source": [
        "Q1. Create a numpy array module and with a data type integer and float"
      ]
    },
    {
      "cell_type": "code",
      "execution_count": null,
      "id": "403ce37a-4555-463c-a86f-ba2e0e11f125",
      "metadata": {
        "id": "403ce37a-4555-463c-a86f-ba2e0e11f125",
        "outputId": "b10763bf-ab7e-4506-f1d4-102a5e82589f"
      },
      "outputs": [
        {
          "data": {
            "text/plain": [
              "array([1, 2, 3, 4, 5, 6])"
            ]
          },
          "execution_count": 2,
          "metadata": {},
          "output_type": "execute_result"
        }
      ],
      "source": [
        "Arr1 = np.array([1,2,3,4.1,5,6],dtype = int)\n",
        "Arr1"
      ]
    },
    {
      "cell_type": "code",
      "execution_count": null,
      "id": "e6704917-af15-4ba6-8b26-19ae06583814",
      "metadata": {
        "id": "e6704917-af15-4ba6-8b26-19ae06583814",
        "outputId": "727995a7-d403-46d5-9e62-1edd09eb1b9b"
      },
      "outputs": [
        {
          "data": {
            "text/plain": [
              "array([1. , 2. , 3. , 4.1, 5. , 6. ])"
            ]
          },
          "execution_count": 3,
          "metadata": {},
          "output_type": "execute_result"
        }
      ],
      "source": [
        "Arr2 = np.array([1,2,3,4.1,5,6],dtype = float)\n",
        "Arr2"
      ]
    },
    {
      "cell_type": "code",
      "execution_count": null,
      "id": "cebca0f8-1018-44b7-a9e6-87024b2a5224",
      "metadata": {
        "id": "cebca0f8-1018-44b7-a9e6-87024b2a5224",
        "outputId": "da5a9c62-5c7a-4eac-a3c4-eedb13fb22a1"
      },
      "outputs": [
        {
          "data": {
            "text/plain": [
              "dtype('int32')"
            ]
          },
          "execution_count": 4,
          "metadata": {},
          "output_type": "execute_result"
        }
      ],
      "source": [
        "Arr1.dtype"
      ]
    },
    {
      "cell_type": "code",
      "execution_count": null,
      "id": "1d09673e-0a5d-40d1-8a4f-d0f895d7ab59",
      "metadata": {
        "id": "1d09673e-0a5d-40d1-8a4f-d0f895d7ab59",
        "outputId": "ba0818f4-6399-4a79-e34a-034b3038c42e"
      },
      "outputs": [
        {
          "data": {
            "text/plain": [
              "dtype('float64')"
            ]
          },
          "execution_count": 5,
          "metadata": {},
          "output_type": "execute_result"
        }
      ],
      "source": [
        "Arr2.dtype"
      ]
    },
    {
      "cell_type": "markdown",
      "id": "6562937c-2ebd-4eae-8303-92c3c0c3bed6",
      "metadata": {
        "id": "6562937c-2ebd-4eae-8303-92c3c0c3bed6"
      },
      "source": [
        "Q2. Create numpy arrays that have zero,one,two,three and four dimensions respectively. Also, print the shape and dimensions of each array."
      ]
    },
    {
      "cell_type": "code",
      "execution_count": null,
      "id": "628a38cd-f5c7-4d25-8083-4e8d98275fae",
      "metadata": {
        "id": "628a38cd-f5c7-4d25-8083-4e8d98275fae",
        "outputId": "aca333e8-7134-42cb-fbab-89746a851c4a"
      },
      "outputs": [
        {
          "data": {
            "text/plain": [
              "array(45)"
            ]
          },
          "execution_count": 6,
          "metadata": {},
          "output_type": "execute_result"
        }
      ],
      "source": [
        "ZD = np.array(45)\n",
        "ZD"
      ]
    },
    {
      "cell_type": "code",
      "execution_count": null,
      "id": "5da7db07-fdd9-469c-b3f3-9d1a1f996e38",
      "metadata": {
        "id": "5da7db07-fdd9-469c-b3f3-9d1a1f996e38",
        "outputId": "1a215610-31c5-4b5d-8638-d5f9c4a59fbb"
      },
      "outputs": [
        {
          "data": {
            "text/plain": [
              "()"
            ]
          },
          "execution_count": 7,
          "metadata": {},
          "output_type": "execute_result"
        }
      ],
      "source": [
        "ZD.shape"
      ]
    },
    {
      "cell_type": "code",
      "execution_count": null,
      "id": "dcd63ebb-6234-4d9b-8dee-6d2d1c151d57",
      "metadata": {
        "id": "dcd63ebb-6234-4d9b-8dee-6d2d1c151d57",
        "outputId": "43755841-22c3-460e-a594-3f9793bbbb84"
      },
      "outputs": [
        {
          "data": {
            "text/plain": [
              "0"
            ]
          },
          "execution_count": 8,
          "metadata": {},
          "output_type": "execute_result"
        }
      ],
      "source": [
        "ZD.ndim"
      ]
    },
    {
      "cell_type": "code",
      "execution_count": null,
      "id": "efd5e424-2a45-4713-8ca4-a3bd14dfce90",
      "metadata": {
        "id": "efd5e424-2a45-4713-8ca4-a3bd14dfce90",
        "outputId": "7e035d59-a795-418c-8f78-3e27c10209ac"
      },
      "outputs": [
        {
          "data": {
            "text/plain": [
              "array([1, 2, 3, 4, 5])"
            ]
          },
          "execution_count": 9,
          "metadata": {},
          "output_type": "execute_result"
        }
      ],
      "source": [
        "OD = np.array([1,2,3,4,5])\n",
        "OD"
      ]
    },
    {
      "cell_type": "code",
      "execution_count": null,
      "id": "3a10fd50-443b-4f17-ba3e-24555e15eeb5",
      "metadata": {
        "id": "3a10fd50-443b-4f17-ba3e-24555e15eeb5",
        "outputId": "85a97329-e754-490d-d656-2a266b9659c4"
      },
      "outputs": [
        {
          "data": {
            "text/plain": [
              "(5,)"
            ]
          },
          "execution_count": 10,
          "metadata": {},
          "output_type": "execute_result"
        }
      ],
      "source": [
        "OD.shape #5 columns only"
      ]
    },
    {
      "cell_type": "code",
      "execution_count": null,
      "id": "33bc033d-c6a9-4331-8dd3-9e84e4e4f59d",
      "metadata": {
        "id": "33bc033d-c6a9-4331-8dd3-9e84e4e4f59d",
        "outputId": "1013c923-006c-4935-b9b5-b78c5e587492"
      },
      "outputs": [
        {
          "data": {
            "text/plain": [
              "1"
            ]
          },
          "execution_count": 11,
          "metadata": {},
          "output_type": "execute_result"
        }
      ],
      "source": [
        "OD.ndim"
      ]
    },
    {
      "cell_type": "code",
      "execution_count": null,
      "id": "f7747081-fda6-4f37-abf7-6f82918de6f0",
      "metadata": {
        "id": "f7747081-fda6-4f37-abf7-6f82918de6f0",
        "outputId": "b0d635a7-4a08-40fe-857c-7a7de9519d22"
      },
      "outputs": [
        {
          "data": {
            "text/plain": [
              "array([[1, 2, 3],\n",
              "       [4, 5, 6]])"
            ]
          },
          "execution_count": 12,
          "metadata": {},
          "output_type": "execute_result"
        }
      ],
      "source": [
        "TD = np.array([[1,2,3],[4,5,6]]) #matrix\n",
        "TD"
      ]
    },
    {
      "cell_type": "code",
      "execution_count": null,
      "id": "06b5a4ff-e790-450c-bf5f-1ba6490c8305",
      "metadata": {
        "id": "06b5a4ff-e790-450c-bf5f-1ba6490c8305",
        "outputId": "8b011b34-d5ee-41bb-88aa-4058c181e57e"
      },
      "outputs": [
        {
          "data": {
            "text/plain": [
              "(2, 3)"
            ]
          },
          "execution_count": 13,
          "metadata": {},
          "output_type": "execute_result"
        }
      ],
      "source": [
        "TD.shape"
      ]
    },
    {
      "cell_type": "code",
      "execution_count": null,
      "id": "9b56c46e-f78f-4d93-86c6-51a5f472c17e",
      "metadata": {
        "id": "9b56c46e-f78f-4d93-86c6-51a5f472c17e",
        "outputId": "1a7f6ff2-6729-4563-eeb8-1b48fe1e46a7"
      },
      "outputs": [
        {
          "data": {
            "text/plain": [
              "2"
            ]
          },
          "execution_count": 14,
          "metadata": {},
          "output_type": "execute_result"
        }
      ],
      "source": [
        "TD.ndim"
      ]
    },
    {
      "cell_type": "code",
      "execution_count": null,
      "id": "a8952cd9-acfc-41f1-91fe-44788ac00287",
      "metadata": {
        "id": "a8952cd9-acfc-41f1-91fe-44788ac00287",
        "outputId": "193242e4-61ec-45e3-e372-b5b96f37f345"
      },
      "outputs": [
        {
          "data": {
            "text/plain": [
              "array([[[ 1,  2,  3],\n",
              "        [ 4,  5,  6]],\n",
              "\n",
              "       [[10, 20, 30],\n",
              "        [40, 50, 60]]])"
            ]
          },
          "execution_count": 15,
          "metadata": {},
          "output_type": "execute_result"
        }
      ],
      "source": [
        "ThD = np.array([[[1,2,3],[4,5,6]],[[10,20,30],[40,50,60]]])  #images and video data only\n",
        "ThD"
      ]
    },
    {
      "cell_type": "code",
      "execution_count": null,
      "id": "16765850-2f89-4c05-a7e3-82d0f67cbc34",
      "metadata": {
        "id": "16765850-2f89-4c05-a7e3-82d0f67cbc34",
        "outputId": "0f860c12-e5b0-49a8-fc01-969e6ae4c2c8"
      },
      "outputs": [
        {
          "data": {
            "text/plain": [
              "(2, 2, 3)"
            ]
          },
          "execution_count": 16,
          "metadata": {},
          "output_type": "execute_result"
        }
      ],
      "source": [
        "ThD.shape"
      ]
    },
    {
      "cell_type": "code",
      "execution_count": null,
      "id": "59e364cd-18fd-492f-9555-da21819cd6d0",
      "metadata": {
        "id": "59e364cd-18fd-492f-9555-da21819cd6d0",
        "outputId": "212f7043-c55a-4f61-d30c-8a1c4a54c3af"
      },
      "outputs": [
        {
          "data": {
            "text/plain": [
              "3"
            ]
          },
          "execution_count": 17,
          "metadata": {},
          "output_type": "execute_result"
        }
      ],
      "source": [
        "ThD.ndim"
      ]
    },
    {
      "cell_type": "code",
      "execution_count": null,
      "id": "077ce95a-f286-450b-930b-f92047149cb3",
      "metadata": {
        "id": "077ce95a-f286-450b-930b-f92047149cb3",
        "outputId": "fae6b5c8-4951-4095-9844-60a7d9ef8478"
      },
      "outputs": [
        {
          "data": {
            "text/plain": [
              "array([[[[ 1,  2,  3],\n",
              "         [ 4,  5,  6]],\n",
              "\n",
              "        [[10, 20, 30],\n",
              "         [40, 50, 60]]],\n",
              "\n",
              "\n",
              "       [[[ 1,  2,  3],\n",
              "         [ 4,  5,  6]],\n",
              "\n",
              "        [[10, 20, 30],\n",
              "         [40, 50, 60]]]])"
            ]
          },
          "execution_count": 18,
          "metadata": {},
          "output_type": "execute_result"
        }
      ],
      "source": [
        "FD = np.array([[[[1,2,3],[4,5,6]],[[10,20,30],[40,50,60]]],[[[1,2,3],[4,5,6]],[[10,20,30],[40,50,60]]]])  #computer vision\n",
        "FD"
      ]
    },
    {
      "cell_type": "code",
      "execution_count": null,
      "id": "943c7d11-1f81-4d87-9e25-1dae35017a4e",
      "metadata": {
        "id": "943c7d11-1f81-4d87-9e25-1dae35017a4e",
        "outputId": "0d88527a-49b8-4192-d00e-81548e76a45c"
      },
      "outputs": [
        {
          "data": {
            "text/plain": [
              "(2, 2, 2, 3)"
            ]
          },
          "execution_count": 19,
          "metadata": {},
          "output_type": "execute_result"
        }
      ],
      "source": [
        "FD.shape"
      ]
    },
    {
      "cell_type": "code",
      "execution_count": null,
      "id": "15eb7948-4d12-48a6-a489-91737aee1ffa",
      "metadata": {
        "id": "15eb7948-4d12-48a6-a489-91737aee1ffa",
        "outputId": "d07c04c8-a450-430b-9616-51c06174a592"
      },
      "outputs": [
        {
          "data": {
            "text/plain": [
              "4"
            ]
          },
          "execution_count": 20,
          "metadata": {},
          "output_type": "execute_result"
        }
      ],
      "source": [
        "FD.ndim"
      ]
    },
    {
      "cell_type": "markdown",
      "id": "3b17824b-97aa-4e46-9829-8b356207bd68",
      "metadata": {
        "id": "3b17824b-97aa-4e46-9829-8b356207bd68"
      },
      "source": [
        "Q3. Change the dimension of a 3D array to a 2D array"
      ]
    },
    {
      "cell_type": "code",
      "execution_count": null,
      "id": "bd02cfe1-5fa9-4147-ba47-8097df486755",
      "metadata": {
        "id": "bd02cfe1-5fa9-4147-ba47-8097df486755",
        "outputId": "8294737e-9c59-4854-82e8-9c71ddaa03f9"
      },
      "outputs": [
        {
          "data": {
            "text/plain": [
              "array([[[ 1,  2,  3],\n",
              "        [ 4,  5,  6]],\n",
              "\n",
              "       [[10, 20, 30],\n",
              "        [40, 50, 60]]])"
            ]
          },
          "execution_count": 22,
          "metadata": {},
          "output_type": "execute_result"
        }
      ],
      "source": [
        "ThD = np.array([[[1,2,3],[4,5,6]],[[10,20,30],[40,50,60]]])  #images and video data only\n",
        "ThD"
      ]
    },
    {
      "cell_type": "code",
      "execution_count": null,
      "id": "3713d810-2b46-4bcb-865b-37eaebe77a65",
      "metadata": {
        "id": "3713d810-2b46-4bcb-865b-37eaebe77a65",
        "outputId": "0fe70da7-ad92-433f-d3af-de7a68724ac6"
      },
      "outputs": [
        {
          "data": {
            "text/plain": [
              "array([[ 1,  2,  3,  4],\n",
              "       [ 5,  6, 10, 20],\n",
              "       [30, 40, 50, 60]])"
            ]
          },
          "execution_count": 23,
          "metadata": {},
          "output_type": "execute_result"
        }
      ],
      "source": [
        "Arr2D = ThD.reshape(3,4)\n",
        "Arr2D"
      ]
    },
    {
      "cell_type": "code",
      "execution_count": null,
      "id": "967f3bb3-7ef4-4a22-9d66-4d881df1b8c5",
      "metadata": {
        "id": "967f3bb3-7ef4-4a22-9d66-4d881df1b8c5",
        "outputId": "f3437c43-ab3c-4e5c-e205-6193f21a41db"
      },
      "outputs": [
        {
          "data": {
            "text/plain": [
              "2"
            ]
          },
          "execution_count": 24,
          "metadata": {},
          "output_type": "execute_result"
        }
      ],
      "source": [
        "Arr2D.ndim"
      ]
    },
    {
      "cell_type": "markdown",
      "id": "c12849da-e346-4bb7-a9cb-fd90685752b5",
      "metadata": {
        "id": "c12849da-e346-4bb7-a9cb-fd90685752b5"
      },
      "source": [
        "Q4. Create a 2x2, 3x3 and 4x4 identity matrix using numpy methods"
      ]
    },
    {
      "cell_type": "code",
      "execution_count": null,
      "id": "62dda100-06f2-430a-92ca-475699a3802a",
      "metadata": {
        "id": "62dda100-06f2-430a-92ca-475699a3802a",
        "outputId": "c2daaa60-a6f5-4ccd-d736-87e13caaafbf"
      },
      "outputs": [
        {
          "data": {
            "text/plain": [
              "array([[1, 0],\n",
              "       [0, 1]])"
            ]
          },
          "execution_count": 28,
          "metadata": {},
          "output_type": "execute_result"
        }
      ],
      "source": [
        "#2x2\n",
        "np.identity(2,dtype = int) #always creates a square matix"
      ]
    },
    {
      "cell_type": "code",
      "execution_count": null,
      "id": "f5cb55bf-f3e7-4946-9077-54cc118c1c4a",
      "metadata": {
        "id": "f5cb55bf-f3e7-4946-9077-54cc118c1c4a",
        "outputId": "a1badde8-07f0-494b-f37f-29920d24cc93"
      },
      "outputs": [
        {
          "data": {
            "text/plain": [
              "array([[1, 0, 0],\n",
              "       [0, 1, 0],\n",
              "       [0, 0, 1]])"
            ]
          },
          "execution_count": 29,
          "metadata": {},
          "output_type": "execute_result"
        }
      ],
      "source": [
        "#3x3\n",
        "np.eye(3,dtype=int) #we can change the shape in eye()"
      ]
    },
    {
      "cell_type": "code",
      "execution_count": null,
      "id": "dac22440-4c97-4e5d-9a9e-49e145d3ea7e",
      "metadata": {
        "id": "dac22440-4c97-4e5d-9a9e-49e145d3ea7e",
        "outputId": "1ce70cc3-f7f5-4a95-b04c-cf5e1861a682"
      },
      "outputs": [
        {
          "data": {
            "text/plain": [
              "array([[1., 0., 0., 0.],\n",
              "       [0., 1., 0., 0.],\n",
              "       [0., 0., 1., 0.]])"
            ]
          },
          "execution_count": 31,
          "metadata": {},
          "output_type": "execute_result"
        }
      ],
      "source": [
        "#3x4\n",
        "np.eye(3,4) #rows ,columns"
      ]
    },
    {
      "cell_type": "code",
      "execution_count": null,
      "id": "b7e89d6f-950f-413b-9f37-2046272f6659",
      "metadata": {
        "id": "b7e89d6f-950f-413b-9f37-2046272f6659",
        "outputId": "46827a22-59d3-404e-d952-c167dd6d277d"
      },
      "outputs": [
        {
          "data": {
            "text/plain": [
              "array([[1, 0, 0, 0],\n",
              "       [0, 1, 0, 0],\n",
              "       [0, 0, 1, 0],\n",
              "       [0, 0, 0, 1]])"
            ]
          },
          "execution_count": 30,
          "metadata": {},
          "output_type": "execute_result"
        }
      ],
      "source": [
        "#4x4\n",
        "np.identity(4,dtype=int)"
      ]
    },
    {
      "cell_type": "markdown",
      "id": "99e4fe16-1111-4295-8ced-d0cc1a5548ec",
      "metadata": {
        "id": "99e4fe16-1111-4295-8ced-d0cc1a5548ec"
      },
      "source": [
        "Q5. Create a numpy array and negate it using a 0D array"
      ]
    },
    {
      "cell_type": "code",
      "execution_count": null,
      "id": "a95a0b1e-521c-41d3-974d-608472fbcd28",
      "metadata": {
        "id": "a95a0b1e-521c-41d3-974d-608472fbcd28",
        "outputId": "fd3707f6-3bb4-4f96-f422-397625f1dffe"
      },
      "outputs": [
        {
          "data": {
            "text/plain": [
              "array([1, 2, 3, 4, 5, 6, 7, 8, 9])"
            ]
          },
          "execution_count": 32,
          "metadata": {},
          "output_type": "execute_result"
        }
      ],
      "source": [
        "Arr = np.arange(1,10)\n",
        "Arr"
      ]
    },
    {
      "cell_type": "code",
      "execution_count": null,
      "id": "1cbd2271-fa49-43d2-900f-4d50f8af8763",
      "metadata": {
        "id": "1cbd2271-fa49-43d2-900f-4d50f8af8763",
        "outputId": "6bfe2596-b0a4-4fa7-c5a4-65daae246f14"
      },
      "outputs": [
        {
          "data": {
            "text/plain": [
              "array(-1)"
            ]
          },
          "execution_count": 33,
          "metadata": {},
          "output_type": "execute_result"
        }
      ],
      "source": [
        "Zd = np.array(-1)\n",
        "Zd"
      ]
    },
    {
      "cell_type": "code",
      "execution_count": null,
      "id": "71ebbaaa-a163-4bf8-a28a-c5384c60ef13",
      "metadata": {
        "id": "71ebbaaa-a163-4bf8-a28a-c5384c60ef13",
        "outputId": "a3691bfd-045d-4826-9597-7f514eedcc22"
      },
      "outputs": [
        {
          "data": {
            "text/plain": [
              "array([-1, -2, -3, -4, -5, -6, -7, -8, -9])"
            ]
          },
          "execution_count": 34,
          "metadata": {},
          "output_type": "execute_result"
        }
      ],
      "source": [
        "Result = Arr * Zd\n",
        "Result"
      ]
    },
    {
      "cell_type": "markdown",
      "id": "57046629-9cca-43f2-9ca4-359981c0bca6",
      "metadata": {
        "id": "57046629-9cca-43f2-9ca4-359981c0bca6"
      },
      "source": [
        "Q6. Create a numpy array with shape 2x5 that has all the elements as zeros"
      ]
    },
    {
      "cell_type": "code",
      "execution_count": null,
      "id": "7bacfb40-1059-42e6-ac47-2cec3acb7af9",
      "metadata": {
        "id": "7bacfb40-1059-42e6-ac47-2cec3acb7af9",
        "outputId": "60b638e1-3acc-4c84-aa39-58827fb5cc92"
      },
      "outputs": [
        {
          "data": {
            "text/plain": [
              "array([[0., 0., 0., 0., 0.],\n",
              "       [0., 0., 0., 0., 0.]])"
            ]
          },
          "execution_count": 35,
          "metadata": {},
          "output_type": "execute_result"
        }
      ],
      "source": [
        "np.zeros([2,5])"
      ]
    },
    {
      "cell_type": "markdown",
      "id": "843fe8db-4263-47cc-bd11-80821c8b77cb",
      "metadata": {
        "id": "843fe8db-4263-47cc-bd11-80821c8b77cb"
      },
      "source": [
        "Q7. Create a numpy array that has a shape of 3x5 and all the elements in the array are 5"
      ]
    },
    {
      "cell_type": "code",
      "execution_count": null,
      "id": "ca20655d-bc47-4850-b41d-075cef7f10d8",
      "metadata": {
        "id": "ca20655d-bc47-4850-b41d-075cef7f10d8",
        "outputId": "61692497-c653-45a9-e33d-96111d458037"
      },
      "outputs": [
        {
          "data": {
            "text/plain": [
              "array([[5, 5, 5, 5, 5],\n",
              "       [5, 5, 5, 5, 5],\n",
              "       [5, 5, 5, 5, 5]])"
            ]
          },
          "execution_count": 36,
          "metadata": {},
          "output_type": "execute_result"
        }
      ],
      "source": [
        "np.full((3,5),5)"
      ]
    },
    {
      "cell_type": "markdown",
      "id": "62bcb865-fc81-4e7d-91ca-2d38c7c60657",
      "metadata": {
        "id": "62bcb865-fc81-4e7d-91ca-2d38c7c60657"
      },
      "source": [
        "Q8. Create an array with random integers in the range 0-100 and the sample size should be 25"
      ]
    },
    {
      "cell_type": "code",
      "execution_count": null,
      "id": "ea8f3365-326b-4949-b56c-4e9968792ddf",
      "metadata": {
        "id": "ea8f3365-326b-4949-b56c-4e9968792ddf",
        "outputId": "7355e931-ac03-4ac1-8710-d933856f36b8"
      },
      "outputs": [
        {
          "data": {
            "text/plain": [
              "array([96, 47, 81, 91, 33, 20,  6, 40, 36, 81, 50, 83,  5, 98, 58, 25, 77,\n",
              "        0, 51, 54, 85, 42, 22, 92, 62])"
            ]
          },
          "execution_count": 38,
          "metadata": {},
          "output_type": "execute_result"
        }
      ],
      "source": [
        "np.random.randint(0,100,25)"
      ]
    },
    {
      "cell_type": "markdown",
      "id": "726f72b3-492b-486c-b6e0-4b0444223a2c",
      "metadata": {
        "id": "726f72b3-492b-486c-b6e0-4b0444223a2c"
      },
      "source": [
        "Q9. Create an array of random integers in the range 1-50, take the sample size of 12 and calculate their mean."
      ]
    },
    {
      "cell_type": "code",
      "execution_count": null,
      "id": "26ec0840-71ef-408c-9b3e-c83e9e79a596",
      "metadata": {
        "id": "26ec0840-71ef-408c-9b3e-c83e9e79a596",
        "outputId": "79be401f-1303-4b94-8de3-9d141b7e9654"
      },
      "outputs": [
        {
          "data": {
            "text/plain": [
              "array([12, 28, 45, 34, 24, 41,  1, 46, 34, 36, 42, 30])"
            ]
          },
          "execution_count": 40,
          "metadata": {},
          "output_type": "execute_result"
        }
      ],
      "source": [
        "Arr_random = np.random.randint(1,51,12)\n",
        "Arr_random"
      ]
    },
    {
      "cell_type": "code",
      "execution_count": null,
      "id": "3ed944d8-687c-4bb3-95e4-d812646d193c",
      "metadata": {
        "id": "3ed944d8-687c-4bb3-95e4-d812646d193c",
        "outputId": "abe0ef3e-d260-44b3-a808-a9cf59ec09c7"
      },
      "outputs": [
        {
          "data": {
            "text/plain": [
              "31.083333333333332"
            ]
          },
          "execution_count": 41,
          "metadata": {},
          "output_type": "execute_result"
        }
      ],
      "source": [
        "np.mean(Arr_random)"
      ]
    },
    {
      "cell_type": "markdown",
      "id": "ec09c839-8657-4e49-b4a3-30440b6425e1",
      "metadata": {
        "id": "ec09c839-8657-4e49-b4a3-30440b6425e1"
      },
      "source": [
        "Q10. Create an array with random integers from 1 to 50, with sample size 10. Sort the array and display the indices of the sorted array."
      ]
    },
    {
      "cell_type": "code",
      "execution_count": null,
      "id": "6ad069e7-02b0-46d3-a30e-0f59080cba21",
      "metadata": {
        "id": "6ad069e7-02b0-46d3-a30e-0f59080cba21",
        "outputId": "492b72d5-9ccf-4174-a1e8-0673fdbdb5e5"
      },
      "outputs": [
        {
          "data": {
            "text/plain": [
              "array([42, 35, 11, 21, 33, 48, 10, 25, 28, 23])"
            ]
          },
          "execution_count": 42,
          "metadata": {},
          "output_type": "execute_result"
        }
      ],
      "source": [
        "arr = np.random.randint(1,51,10)\n",
        "arr"
      ]
    },
    {
      "cell_type": "code",
      "execution_count": null,
      "id": "98f16b39-30cc-4d2e-94cb-183fd0ff6cb2",
      "metadata": {
        "id": "98f16b39-30cc-4d2e-94cb-183fd0ff6cb2",
        "outputId": "42ca2be2-46f4-4ad1-8021-7a577733cc73"
      },
      "outputs": [
        {
          "data": {
            "text/plain": [
              "array([6, 2, 3, 9, 7, 8, 4, 1, 0, 5], dtype=int64)"
            ]
          },
          "execution_count": 43,
          "metadata": {},
          "output_type": "execute_result"
        }
      ],
      "source": [
        "np.argsort(arr)"
      ]
    },
    {
      "cell_type": "code",
      "execution_count": null,
      "id": "a97e5c25-c68e-4ce3-8158-1388cbc55223",
      "metadata": {
        "id": "a97e5c25-c68e-4ce3-8158-1388cbc55223"
      },
      "outputs": [],
      "source": [
        "sorted = np.sort(arr)"
      ]
    },
    {
      "cell_type": "code",
      "execution_count": null,
      "id": "56571503-e6e6-4033-bfd4-0fb5a228e703",
      "metadata": {
        "id": "56571503-e6e6-4033-bfd4-0fb5a228e703",
        "outputId": "0814cf99-3c97-4ecf-c41e-d4b6b8d104ca"
      },
      "outputs": [
        {
          "data": {
            "text/plain": [
              "array([10, 11, 21, 23, 25, 28, 33, 35, 42, 48])"
            ]
          },
          "execution_count": 45,
          "metadata": {},
          "output_type": "execute_result"
        }
      ],
      "source": [
        "sorted"
      ]
    },
    {
      "cell_type": "code",
      "execution_count": null,
      "id": "3de3b8a0-a62e-428d-addf-ed7c11b3a672",
      "metadata": {
        "id": "3de3b8a0-a62e-428d-addf-ed7c11b3a672",
        "outputId": "3714c612-0a5d-4736-85fa-9ade6c33c54b"
      },
      "outputs": [
        {
          "data": {
            "text/plain": [
              "array([0, 1, 2, 3, 4, 5, 6, 7, 8, 9], dtype=int64)"
            ]
          },
          "execution_count": 46,
          "metadata": {},
          "output_type": "execute_result"
        }
      ],
      "source": [
        "np.argsort(sorted)"
      ]
    },
    {
      "cell_type": "markdown",
      "id": "7c5b0dac-342e-482f-aeb4-1c6c38cba217",
      "metadata": {
        "id": "7c5b0dac-342e-482f-aeb4-1c6c38cba217"
      },
      "source": [
        "Q11. Create a 2D array / matrix and calculate the transpose of that matrix"
      ]
    },
    {
      "cell_type": "code",
      "execution_count": null,
      "id": "4f3a4461-12fe-4307-b6d3-8168ef6d4838",
      "metadata": {
        "id": "4f3a4461-12fe-4307-b6d3-8168ef6d4838",
        "outputId": "403ebce5-eaaf-45de-a146-306fdcce281b"
      },
      "outputs": [
        {
          "data": {
            "text/plain": [
              "array([[1, 2, 3],\n",
              "       [4, 5, 6]])"
            ]
          },
          "execution_count": 47,
          "metadata": {},
          "output_type": "execute_result"
        }
      ],
      "source": [
        "TD"
      ]
    },
    {
      "cell_type": "code",
      "execution_count": null,
      "id": "818b534d-53c5-49e4-bb2e-22b454e884c9",
      "metadata": {
        "id": "818b534d-53c5-49e4-bb2e-22b454e884c9",
        "outputId": "ca5ad7de-ce5d-417e-f48b-96290c978169"
      },
      "outputs": [
        {
          "data": {
            "text/plain": [
              "array([[1, 4],\n",
              "       [2, 5],\n",
              "       [3, 6]])"
            ]
          },
          "execution_count": 48,
          "metadata": {},
          "output_type": "execute_result"
        }
      ],
      "source": [
        "np.transpose(TD)"
      ]
    },
    {
      "cell_type": "code",
      "execution_count": null,
      "id": "651918c9-9983-4ab1-98f2-2d2fc8d9c547",
      "metadata": {
        "id": "651918c9-9983-4ab1-98f2-2d2fc8d9c547",
        "outputId": "3ba3f297-1688-4a7c-96d0-762d5972170f"
      },
      "outputs": [
        {
          "data": {
            "text/plain": [
              "array([[1, 4],\n",
              "       [2, 5],\n",
              "       [3, 6]])"
            ]
          },
          "execution_count": 49,
          "metadata": {},
          "output_type": "execute_result"
        }
      ],
      "source": [
        "TD.T"
      ]
    },
    {
      "cell_type": "markdown",
      "id": "ac7dc8b1-44f7-4419-b19a-a6048d3a7af7",
      "metadata": {
        "id": "ac7dc8b1-44f7-4419-b19a-a6048d3a7af7"
      },
      "source": [
        "Q12. Create a numpy array with shape 3x3 that has all elements as 1 (show 3 different methods)"
      ]
    },
    {
      "cell_type": "code",
      "execution_count": null,
      "id": "a1e1d94f-bf27-4ffd-bd11-eaaae1caf145",
      "metadata": {
        "id": "a1e1d94f-bf27-4ffd-bd11-eaaae1caf145",
        "outputId": "60b791ae-e1b9-4a3d-832b-4815bfdc8fc8"
      },
      "outputs": [
        {
          "data": {
            "text/plain": [
              "array([[1, 1, 1],\n",
              "       [1, 1, 1],\n",
              "       [1, 1, 1]])"
            ]
          },
          "execution_count": 50,
          "metadata": {},
          "output_type": "execute_result"
        }
      ],
      "source": [
        "np.ones((3,3),dtype = int)"
      ]
    },
    {
      "cell_type": "code",
      "execution_count": null,
      "id": "88850559-b3ab-45fd-bf3d-0b8314ca4164",
      "metadata": {
        "id": "88850559-b3ab-45fd-bf3d-0b8314ca4164",
        "outputId": "050d0901-ba83-42b8-f473-9330c4c199cf"
      },
      "outputs": [
        {
          "data": {
            "text/plain": [
              "array([[1, 1, 1],\n",
              "       [1, 1, 1],\n",
              "       [1, 1, 1]])"
            ]
          },
          "execution_count": 51,
          "metadata": {},
          "output_type": "execute_result"
        }
      ],
      "source": [
        "np.full((3,3),1)"
      ]
    },
    {
      "cell_type": "code",
      "execution_count": null,
      "id": "61ebb931-5540-43dd-a2c9-349007f96396",
      "metadata": {
        "id": "61ebb931-5540-43dd-a2c9-349007f96396",
        "outputId": "d171afd8-d0a7-4d21-b11c-e4536a04c47f"
      },
      "outputs": [
        {
          "data": {
            "text/plain": [
              "array([[1, 1, 1],\n",
              "       [1, 1, 1],\n",
              "       [1, 1, 1]])"
            ]
          },
          "execution_count": 52,
          "metadata": {},
          "output_type": "execute_result"
        }
      ],
      "source": [
        "np.zeros((3,3),dtype = int) + 1"
      ]
    },
    {
      "cell_type": "markdown",
      "id": "4d35d34c-e784-4a70-8ea5-0c0f61db4bdf",
      "metadata": {
        "id": "4d35d34c-e784-4a70-8ea5-0c0f61db4bdf"
      },
      "source": [
        "Q13. Create an array filled with random integers from 1-100, with sample size 30. And calculate sum,min,max,var,std."
      ]
    },
    {
      "cell_type": "code",
      "execution_count": null,
      "id": "614fc5a2-4342-4202-9bc4-22869e3e74d6",
      "metadata": {
        "id": "614fc5a2-4342-4202-9bc4-22869e3e74d6",
        "outputId": "a5da2033-4c50-46d9-d914-7367172dfb96"
      },
      "outputs": [
        {
          "data": {
            "text/plain": [
              "array([75, 41, 31, 23, 35, 59, 84, 41, 56, 22, 78,  1,  8, 32, 89, 95, 39,\n",
              "       80, 55, 92, 15, 83, 60, 82, 87, 75, 78, 63, 86, 59])"
            ]
          },
          "execution_count": 54,
          "metadata": {},
          "output_type": "execute_result"
        }
      ],
      "source": [
        "A = np.random.randint(1,101,30)\n",
        "A"
      ]
    },
    {
      "cell_type": "code",
      "execution_count": null,
      "id": "aba967cb-d042-489f-9176-41444722b00e",
      "metadata": {
        "id": "aba967cb-d042-489f-9176-41444722b00e",
        "outputId": "25de371f-9a0f-4d6a-f493-e2a1d4b1050a"
      },
      "outputs": [
        {
          "data": {
            "text/plain": [
              "1724"
            ]
          },
          "execution_count": 55,
          "metadata": {},
          "output_type": "execute_result"
        }
      ],
      "source": [
        "np.sum(A)"
      ]
    },
    {
      "cell_type": "code",
      "execution_count": null,
      "id": "97b5dc39-9fb9-4577-9274-2cc214edf72f",
      "metadata": {
        "id": "97b5dc39-9fb9-4577-9274-2cc214edf72f",
        "outputId": "171259b8-7830-4f7d-b64f-dcf419eb77fa"
      },
      "outputs": [
        {
          "data": {
            "text/plain": [
              "1"
            ]
          },
          "execution_count": 56,
          "metadata": {},
          "output_type": "execute_result"
        }
      ],
      "source": [
        "np.min(A)"
      ]
    },
    {
      "cell_type": "markdown",
      "id": "1fee0ca1-53d8-4387-8ca8-2b6a13168c46",
      "metadata": {
        "id": "1fee0ca1-53d8-4387-8ca8-2b6a13168c46"
      },
      "source": [
        "np.max(A)"
      ]
    },
    {
      "cell_type": "code",
      "execution_count": null,
      "id": "8dec90cb-61a5-4ed9-989b-93934e39d6a1",
      "metadata": {
        "id": "8dec90cb-61a5-4ed9-989b-93934e39d6a1",
        "outputId": "b2b0a3de-d28f-4aa3-ebce-b5e05f9cb2dd"
      },
      "outputs": [
        {
          "data": {
            "text/plain": [
              "729.2488888888887"
            ]
          },
          "execution_count": 58,
          "metadata": {},
          "output_type": "execute_result"
        }
      ],
      "source": [
        "np.var(A)"
      ]
    },
    {
      "cell_type": "code",
      "execution_count": null,
      "id": "fea0d739-889e-4ea7-8e20-0d6f7fa4090f",
      "metadata": {
        "id": "fea0d739-889e-4ea7-8e20-0d6f7fa4090f",
        "outputId": "61275f0b-b7ad-4d71-f6fa-ebb126030e02"
      },
      "outputs": [
        {
          "data": {
            "text/plain": [
              "27.00460866016926"
            ]
          },
          "execution_count": 59,
          "metadata": {},
          "output_type": "execute_result"
        }
      ],
      "source": [
        "np.std(A)"
      ]
    },
    {
      "cell_type": "code",
      "execution_count": null,
      "id": "7f3e8711-c96e-4d5c-8d4a-8f7a27da22d2",
      "metadata": {
        "id": "7f3e8711-c96e-4d5c-8d4a-8f7a27da22d2",
        "outputId": "832de457-1158-43db-b6fb-99b873b49702"
      },
      "outputs": [
        {
          "data": {
            "text/plain": [
              "57.46666666666667"
            ]
          },
          "execution_count": 61,
          "metadata": {},
          "output_type": "execute_result"
        }
      ],
      "source": [
        "np.mean(A)"
      ]
    },
    {
      "cell_type": "markdown",
      "id": "afac1abf-931d-4aab-993e-2b4aadd665b8",
      "metadata": {
        "id": "afac1abf-931d-4aab-993e-2b4aadd665b8"
      },
      "source": [
        "Q14. Create an array with range of 1- 1000 ad sample size 50 ans step size 2"
      ]
    },
    {
      "cell_type": "markdown",
      "id": "84c9dc08-e5b0-44e1-b17d-76e94aafa501",
      "metadata": {
        "id": "84c9dc08-e5b0-44e1-b17d-76e94aafa501"
      },
      "source": [
        "a. Print the first 10 elements of the array."
      ]
    },
    {
      "cell_type": "code",
      "execution_count": null,
      "id": "34fb5752-40de-47e1-b4e7-ff5d48686819",
      "metadata": {
        "id": "34fb5752-40de-47e1-b4e7-ff5d48686819",
        "outputId": "cacac682-a690-4e84-db98-2951dec97bec"
      },
      "outputs": [
        {
          "data": {
            "text/plain": [
              "array([  1,   3,   5,   7,   9,  11,  13,  15,  17,  19,  21,  23,  25,\n",
              "        27,  29,  31,  33,  35,  37,  39,  41,  43,  45,  47,  49,  51,\n",
              "        53,  55,  57,  59,  61,  63,  65,  67,  69,  71,  73,  75,  77,\n",
              "        79,  81,  83,  85,  87,  89,  91,  93,  95,  97,  99, 101, 103,\n",
              "       105, 107, 109, 111, 113, 115, 117, 119, 121, 123, 125, 127, 129,\n",
              "       131, 133, 135, 137, 139, 141, 143, 145, 147, 149, 151, 153, 155,\n",
              "       157, 159, 161, 163, 165, 167, 169, 171, 173, 175, 177, 179, 181,\n",
              "       183, 185, 187, 189, 191, 193, 195, 197, 199, 201, 203, 205, 207,\n",
              "       209, 211, 213, 215, 217, 219, 221, 223, 225, 227, 229, 231, 233,\n",
              "       235, 237, 239, 241, 243, 245, 247, 249, 251, 253, 255, 257, 259,\n",
              "       261, 263, 265, 267, 269, 271, 273, 275, 277, 279, 281, 283, 285,\n",
              "       287, 289, 291, 293, 295, 297, 299, 301, 303, 305, 307, 309, 311,\n",
              "       313, 315, 317, 319, 321, 323, 325, 327, 329, 331, 333, 335, 337,\n",
              "       339, 341, 343, 345, 347, 349, 351, 353, 355, 357, 359, 361, 363,\n",
              "       365, 367, 369, 371, 373, 375, 377, 379, 381, 383, 385, 387, 389,\n",
              "       391, 393, 395, 397, 399, 401, 403, 405, 407, 409, 411, 413, 415,\n",
              "       417, 419, 421, 423, 425, 427, 429, 431, 433, 435, 437, 439, 441,\n",
              "       443, 445, 447, 449, 451, 453, 455, 457, 459, 461, 463, 465, 467,\n",
              "       469, 471, 473, 475, 477, 479, 481, 483, 485, 487, 489, 491, 493,\n",
              "       495, 497, 499, 501, 503, 505, 507, 509, 511, 513, 515, 517, 519,\n",
              "       521, 523, 525, 527, 529, 531, 533, 535, 537, 539, 541, 543, 545,\n",
              "       547, 549, 551, 553, 555, 557, 559, 561, 563, 565, 567, 569, 571,\n",
              "       573, 575, 577, 579, 581, 583, 585, 587, 589, 591, 593, 595, 597,\n",
              "       599, 601, 603, 605, 607, 609, 611, 613, 615, 617, 619, 621, 623,\n",
              "       625, 627, 629, 631, 633, 635, 637, 639, 641, 643, 645, 647, 649,\n",
              "       651, 653, 655, 657, 659, 661, 663, 665, 667, 669, 671, 673, 675,\n",
              "       677, 679, 681, 683, 685, 687, 689, 691, 693, 695, 697, 699, 701,\n",
              "       703, 705, 707, 709, 711, 713, 715, 717, 719, 721, 723, 725, 727,\n",
              "       729, 731, 733, 735, 737, 739, 741, 743, 745, 747, 749, 751, 753,\n",
              "       755, 757, 759, 761, 763, 765, 767, 769, 771, 773, 775, 777, 779,\n",
              "       781, 783, 785, 787, 789, 791, 793, 795, 797, 799, 801, 803, 805,\n",
              "       807, 809, 811, 813, 815, 817, 819, 821, 823, 825, 827, 829, 831,\n",
              "       833, 835, 837, 839, 841, 843, 845, 847, 849, 851, 853, 855, 857,\n",
              "       859, 861, 863, 865, 867, 869, 871, 873, 875, 877, 879, 881, 883,\n",
              "       885, 887, 889, 891, 893, 895, 897, 899, 901, 903, 905, 907, 909,\n",
              "       911, 913, 915, 917, 919, 921, 923, 925, 927, 929, 931, 933, 935,\n",
              "       937, 939, 941, 943, 945, 947, 949, 951, 953, 955, 957, 959, 961,\n",
              "       963, 965, 967, 969, 971, 973, 975, 977, 979, 981, 983, 985, 987,\n",
              "       989, 991, 993, 995, 997, 999])"
            ]
          },
          "execution_count": 71,
          "metadata": {},
          "output_type": "execute_result"
        }
      ],
      "source": [
        "Array = np.arange(1,1001,2)\n",
        "Array"
      ]
    },
    {
      "cell_type": "code",
      "execution_count": null,
      "id": "00124749-12d9-4f14-99d0-9642bd366f32",
      "metadata": {
        "id": "00124749-12d9-4f14-99d0-9642bd366f32",
        "outputId": "b2d7850b-76e8-4240-8e7b-5c01d20e8dbd"
      },
      "outputs": [
        {
          "data": {
            "text/plain": [
              "array([ 1,  3,  5,  7,  9, 11, 13, 15, 17, 19, 21, 23, 25, 27, 29, 31, 33,\n",
              "       35, 37, 39, 41, 43, 45, 47, 49, 51, 53, 55, 57, 59, 61, 63, 65, 67,\n",
              "       69, 71, 73, 75, 77, 79, 81, 83, 85, 87, 89, 91, 93, 95, 97, 99])"
            ]
          },
          "execution_count": 64,
          "metadata": {},
          "output_type": "execute_result"
        }
      ],
      "source": [
        "Array = Array[:50]\n",
        "Array"
      ]
    },
    {
      "cell_type": "code",
      "execution_count": null,
      "id": "281cd4de-ee07-4c75-89d1-e77cc4c8a742",
      "metadata": {
        "id": "281cd4de-ee07-4c75-89d1-e77cc4c8a742",
        "outputId": "3f33d6e9-8b04-4e81-9b12-bba11f5147b2"
      },
      "outputs": [
        {
          "data": {
            "text/plain": [
              "array([ 1,  3,  5,  7,  9, 11, 13, 15, 17, 19])"
            ]
          },
          "execution_count": 65,
          "metadata": {},
          "output_type": "execute_result"
        }
      ],
      "source": [
        "Array[:10]"
      ]
    },
    {
      "cell_type": "code",
      "execution_count": null,
      "id": "c2d1f6a3-e8c0-402b-9fea-21247d1e6c49",
      "metadata": {
        "id": "c2d1f6a3-e8c0-402b-9fea-21247d1e6c49"
      },
      "outputs": [],
      "source": [
        "Ar = np.random.choice(Array,50,replace = False)"
      ]
    },
    {
      "cell_type": "code",
      "execution_count": null,
      "id": "e1a2b732-9c69-4286-a488-9fca017a1be4",
      "metadata": {
        "id": "e1a2b732-9c69-4286-a488-9fca017a1be4",
        "outputId": "f3abe625-82b1-4471-b6c5-d139eea6e65a"
      },
      "outputs": [
        {
          "data": {
            "text/plain": [
              "array([547,   3, 993, 929, 641, 375, 797, 503, 585,  41,  27, 957, 423,\n",
              "       871, 465, 239,  23, 917, 517, 213, 541, 613, 861, 853, 359, 577,\n",
              "       741,  59, 597, 421, 151, 343, 977, 139, 469, 755,  87, 513,  71,\n",
              "       231, 145, 441, 319, 721, 255, 439, 533, 963, 203, 561])"
            ]
          },
          "execution_count": 73,
          "metadata": {},
          "output_type": "execute_result"
        }
      ],
      "source": [
        "Ar"
      ]
    },
    {
      "cell_type": "code",
      "execution_count": null,
      "id": "2c7f1605-7507-4c7d-9fa1-c6591d4f4831",
      "metadata": {
        "id": "2c7f1605-7507-4c7d-9fa1-c6591d4f4831",
        "outputId": "2ab239e9-128f-4456-8e65-a22f9ac593f4"
      },
      "outputs": [
        {
          "data": {
            "text/plain": [
              "50"
            ]
          },
          "execution_count": 74,
          "metadata": {},
          "output_type": "execute_result"
        }
      ],
      "source": [
        "Ar.size"
      ]
    },
    {
      "cell_type": "code",
      "execution_count": null,
      "id": "3224d242-e796-446e-bc39-871bc9baffbf",
      "metadata": {
        "id": "3224d242-e796-446e-bc39-871bc9baffbf",
        "outputId": "6f40774d-4fd0-49bd-e693-0161b8638fb6"
      },
      "outputs": [
        {
          "data": {
            "text/plain": [
              "array([547,   3, 993, 929, 641, 375, 797, 503, 585,  41])"
            ]
          },
          "execution_count": 75,
          "metadata": {},
          "output_type": "execute_result"
        }
      ],
      "source": [
        "Ar[:10]"
      ]
    },
    {
      "cell_type": "markdown",
      "id": "62bf285e-13bd-4cae-a0ce-6637d5c0bbdd",
      "metadata": {
        "id": "62bf285e-13bd-4cae-a0ce-6637d5c0bbdd"
      },
      "source": [
        "b. Print the elements from index 10 to 25"
      ]
    },
    {
      "cell_type": "code",
      "execution_count": null,
      "id": "3393d6f6-d212-420a-b3f1-65f59ac89682",
      "metadata": {
        "id": "3393d6f6-d212-420a-b3f1-65f59ac89682",
        "outputId": "a9422e19-d990-440a-d723-c5b87de9875e"
      },
      "outputs": [
        {
          "data": {
            "text/plain": [
              "array([ 27, 957, 423, 871, 465, 239,  23, 917, 517, 213, 541, 613, 861,\n",
              "       853, 359, 577])"
            ]
          },
          "execution_count": 76,
          "metadata": {},
          "output_type": "execute_result"
        }
      ],
      "source": [
        "Ar[10:26]"
      ]
    },
    {
      "cell_type": "markdown",
      "id": "f7e8a74c-647b-4a25-b4ed-4b60af6a2c6d",
      "metadata": {
        "id": "f7e8a74c-647b-4a25-b4ed-4b60af6a2c6d"
      },
      "source": [
        "c. Print the last ten elements using negative indexing"
      ]
    },
    {
      "cell_type": "code",
      "execution_count": null,
      "id": "9b21eb5a-e6a2-4eca-8083-427a1a0fe291",
      "metadata": {
        "id": "9b21eb5a-e6a2-4eca-8083-427a1a0fe291",
        "outputId": "8c1806b5-edc8-41ae-dab6-d071b674cb44"
      },
      "outputs": [
        {
          "data": {
            "text/plain": [
              "array([145, 441, 319, 721, 255, 439, 533, 963, 203, 561])"
            ]
          },
          "execution_count": 77,
          "metadata": {},
          "output_type": "execute_result"
        }
      ],
      "source": [
        "Ar[-10:]"
      ]
    },
    {
      "cell_type": "markdown",
      "id": "a21a7190-890d-45dc-a235-add2930f24f7",
      "metadata": {
        "id": "a21a7190-890d-45dc-a235-add2930f24f7"
      },
      "source": [
        "Q15. Create an array of range 1-10 and perform the following operations:\n",
        "a. insert an element at the end of the array\n",
        "b.insert an element for 5\n",
        "c.update the element 6 as 60\n",
        "d.delete the element 60 in the updated array\n",
        "e.create a function to search for a element"
      ]
    },
    {
      "cell_type": "code",
      "execution_count": null,
      "id": "2df897b2-9f90-42ee-a06b-32e86b6512bc",
      "metadata": {
        "id": "2df897b2-9f90-42ee-a06b-32e86b6512bc"
      },
      "outputs": [],
      "source": []
    }
  ],
  "metadata": {
    "kernelspec": {
      "display_name": "Python 3 (ipykernel)",
      "language": "python",
      "name": "python3"
    },
    "language_info": {
      "codemirror_mode": {
        "name": "ipython",
        "version": 3
      },
      "file_extension": ".py",
      "mimetype": "text/x-python",
      "name": "python",
      "nbconvert_exporter": "python",
      "pygments_lexer": "ipython3",
      "version": "3.11.7"
    },
    "colab": {
      "provenance": [],
      "include_colab_link": true
    }
  },
  "nbformat": 4,
  "nbformat_minor": 5
}