{
  "nbformat": 4,
  "nbformat_minor": 0,
  "metadata": {
    "colab": {
      "provenance": [],
      "authorship_tag": "ABX9TyP9R+6ITJKzmfH7WDudOxjo",
      "include_colab_link": true
    },
    "kernelspec": {
      "name": "python3",
      "display_name": "Python 3"
    },
    "language_info": {
      "name": "python"
    }
  },
  "cells": [
    {
      "cell_type": "markdown",
      "metadata": {
        "id": "view-in-github",
        "colab_type": "text"
      },
      "source": [
        "<a href=\"https://colab.research.google.com/github/madanjha/PythonDS/blob/main/Handson.ipynb\" target=\"_parent\"><img src=\"https://colab.research.google.com/assets/colab-badge.svg\" alt=\"Open In Colab\"/></a>"
      ]
    },
    {
      "cell_type": "code",
      "source": [
        "a=50\n",
        "b=10\n",
        "c=20\n",
        "d=30\n",
        "e=40\n",
        "a+=b\n",
        "c-=b\n",
        "d*=b\n",
        "e/=b\n",
        "print(a)\n",
        "print(c)\n",
        "print(d)\n",
        "print(e)\n"
      ],
      "metadata": {
        "colab": {
          "base_uri": "https://localhost:8080/"
        },
        "id": "2dzrfsLIOOla",
        "outputId": "cdeb4df8-a1a2-4a8f-b47e-ed62c1d55aaf"
      },
      "execution_count": null,
      "outputs": [
        {
          "output_type": "stream",
          "name": "stdout",
          "text": [
            "60\n",
            "10\n",
            "300\n",
            "4.0\n"
          ]
        }
      ]
    },
    {
      "cell_type": "code",
      "source": [
        "a=10\n",
        "b=20\n",
        "print(a>b)\n",
        "print(a>=b)\n",
        "print(a<b)\n",
        "print(a<=b)\n",
        "print(a!=b)"
      ],
      "metadata": {
        "colab": {
          "base_uri": "https://localhost:8080/"
        },
        "id": "aw0C_qhwTycb",
        "outputId": "cc965f93-29ab-4561-de7d-cc9b9bb3b9c0"
      },
      "execution_count": null,
      "outputs": [
        {
          "output_type": "stream",
          "name": "stdout",
          "text": [
            "False\n",
            "False\n",
            "True\n",
            "True\n",
            "True\n"
          ]
        }
      ]
    },
    {
      "cell_type": "code",
      "execution_count": null,
      "metadata": {
        "id": "VBGUsWl8qVb9"
      },
      "outputs": [],
      "source": [
        "a=11\n",
        "b=4\n",
        "print(a+b)\n",
        "print(a-b)\n",
        "print(a*b)\n",
        "print(a/b)\n",
        "print(a%b)\n",
        "print(a**b)\n",
        "print(a//b)\n"
      ]
    },
    {
      "cell_type": "code",
      "source": [
        "# import modules used here -- sys is a very standard one\n",
        "import sys\n",
        "\n",
        "# Gather our code in a main() function\n",
        "def main():\n",
        "    print('Hello there', sys.argv[1])\n",
        "    # Command line args are in sys.argv[1], sys.argv[2] ...\n",
        "    # sys.argv[0] is the script name itself and can be ignored\n",
        "\n",
        "# Standard boilerplate to call the main() function to begin\n",
        "# the program.\n",
        "if __name__ == '__main__':\n",
        "    main()"
      ],
      "metadata": {
        "id": "9RGb94cH39_V",
        "colab": {
          "base_uri": "https://localhost:8080/"
        },
        "outputId": "3eba9188-e88c-4f61-d603-55517b18525b"
      },
      "execution_count": null,
      "outputs": [
        {
          "output_type": "stream",
          "name": "stdout",
          "text": [
            "Hello there -f\n"
          ]
        }
      ]
    },
    {
      "cell_type": "code",
      "source": [
        "def main():\n",
        "    print(repeat('Yay', False))      ## YayYayYay\n",
        "    print(repeat('Woo Hoo', True))   ## Woo HooWoo HooWoo Hoo!!!"
      ],
      "metadata": {
        "id": "BMJ9E-z0kF59"
      },
      "execution_count": null,
      "outputs": []
    },
    {
      "cell_type": "code",
      "source": [],
      "metadata": {
        "id": "k00ZB43m9nqT"
      },
      "execution_count": null,
      "outputs": []
    },
    {
      "cell_type": "code",
      "source": [
        "marks = int(input('Enter your marks: '))\n",
        "\n",
        "if marks >= 0 and marks <= 100:\n",
        "  if marks >= 35 and marks <= 100:\n",
        "    print('Hurray You passed.')\n",
        "  else:\n",
        "    print('Sorry You failed.')\n",
        "else:\n",
        "  print('Invalid Input. Please enter a number between 0 and 100.')"
      ],
      "metadata": {
        "colab": {
          "base_uri": "https://localhost:8080/"
        },
        "id": "C-h94y06BJ5b",
        "outputId": "35ce46dd-ed1b-44b9-fe3e-55424b0c744e"
      },
      "execution_count": null,
      "outputs": [
        {
          "output_type": "stream",
          "name": "stdout",
          "text": [
            "Enter your marks: 57\n",
            "Hurray You passed.\n"
          ]
        }
      ]
    },
    {
      "cell_type": "code",
      "source": [
        "span=1\n",
        "test='# is is not the comments it is inside the singl quots'\n",
        "print(test)"
      ],
      "metadata": {
        "colab": {
          "base_uri": "https://localhost:8080/"
        },
        "id": "nv6CK8SN-W6u",
        "outputId": "f366c72c-2899-4887-a0f3-8107ee1f453c"
      },
      "execution_count": null,
      "outputs": [
        {
          "output_type": "stream",
          "name": "stdout",
          "text": [
            "# is is not the comments it is inside the singl quots\n"
          ]
        }
      ]
    },
    {
      "cell_type": "code",
      "source": [
        "4*3.75-1"
      ],
      "metadata": {
        "colab": {
          "base_uri": "https://localhost:8080/"
        },
        "id": "qE_lh3_XLNRN",
        "outputId": "df50c87a-f993-4a80-a1d6-ea5032b16673"
      },
      "execution_count": null,
      "outputs": [
        {
          "output_type": "execute_result",
          "data": {
            "text/plain": [
              "14.0"
            ]
          },
          "metadata": {},
          "execution_count": 4
        }
      ]
    },
    {
      "cell_type": "code",
      "source": [
        "'doesn\\'t'\n",
        "'\"Yes\", They said !'"
      ],
      "metadata": {
        "colab": {
          "base_uri": "https://localhost:8080/",
          "height": 36
        },
        "id": "dJ-i2Gn0MTfT",
        "outputId": "f31cce97-e293-4adc-e56a-509131c8972b"
      },
      "execution_count": null,
      "outputs": [
        {
          "output_type": "execute_result",
          "data": {
            "text/plain": [
              "'\"Yes\", They said !'"
            ],
            "application/vnd.google.colaboratory.intrinsic+json": {
              "type": "string"
            }
          },
          "metadata": {},
          "execution_count": 9
        }
      ]
    },
    {
      "cell_type": "code",
      "source": [
        "3*'un'+'ne'"
      ],
      "metadata": {
        "colab": {
          "base_uri": "https://localhost:8080/",
          "height": 36
        },
        "id": "cLgf_a_fOZcK",
        "outputId": "1f3305c7-d633-4eaa-8cc5-83984fc7ea1b"
      },
      "execution_count": null,
      "outputs": [
        {
          "output_type": "execute_result",
          "data": {
            "text/plain": [
              "'unununne'"
            ],
            "application/vnd.google.colaboratory.intrinsic+json": {
              "type": "string"
            }
          },
          "metadata": {},
          "execution_count": 10
        }
      ]
    },
    {
      "cell_type": "code",
      "source": [
        "word='python'\n",
        "word[0]\n",
        "word[5]\n",
        "word[-1]\n",
        "word[-6]\n",
        "word[0:2]\n",
        "word[2:5]\n"
      ],
      "metadata": {
        "colab": {
          "base_uri": "https://localhost:8080/",
          "height": 36
        },
        "id": "2hI16p8TPa6B",
        "outputId": "54d5652a-7edb-446a-a662-ffcfe9a93e7a"
      },
      "execution_count": null,
      "outputs": [
        {
          "output_type": "execute_result",
          "data": {
            "text/plain": [
              "'tho'"
            ],
            "application/vnd.google.colaboratory.intrinsic+json": {
              "type": "string"
            }
          },
          "metadata": {},
          "execution_count": 22
        }
      ]
    },
    {
      "cell_type": "code",
      "source": [
        "#word[:2] + word[2:]\n",
        "\n",
        "word[:4] + word[4:]"
      ],
      "metadata": {
        "colab": {
          "base_uri": "https://localhost:8080/",
          "height": 36
        },
        "id": "pWq-KPNCQq8Q",
        "outputId": "adc79937-04b9-42ff-bcf6-b15ba812d314"
      },
      "execution_count": null,
      "outputs": [
        {
          "output_type": "execute_result",
          "data": {
            "text/plain": [
              "'python'"
            ],
            "application/vnd.google.colaboratory.intrinsic+json": {
              "type": "string"
            }
          },
          "metadata": {},
          "execution_count": 24
        }
      ]
    },
    {
      "cell_type": "code",
      "source": [
        "squares = [1, 4, 9, 16, 25]\n",
        "squares"
      ],
      "metadata": {
        "colab": {
          "base_uri": "https://localhost:8080/"
        },
        "id": "dkG3U8xOmnVW",
        "outputId": "f96d2bd2-8e41-469a-9f32-3a765eaca005"
      },
      "execution_count": null,
      "outputs": [
        {
          "output_type": "execute_result",
          "data": {
            "text/plain": [
              "[1, 4, 9, 16, 25]"
            ]
          },
          "metadata": {},
          "execution_count": 26
        }
      ]
    },
    {
      "cell_type": "code",
      "source": [
        "squares[3:]"
      ],
      "metadata": {
        "colab": {
          "base_uri": "https://localhost:8080/"
        },
        "id": "4iCCUL0UmwOa",
        "outputId": "eb10bff6-f505-4ea5-ec5c-70229711e4a1"
      },
      "execution_count": null,
      "outputs": [
        {
          "output_type": "execute_result",
          "data": {
            "text/plain": [
              "[16, 25]"
            ]
          },
          "metadata": {},
          "execution_count": 30
        }
      ]
    },
    {
      "cell_type": "code",
      "source": [
        "squares + [36, 49, 64, 81, 100]"
      ],
      "metadata": {
        "colab": {
          "base_uri": "https://localhost:8080/"
        },
        "id": "HyNMpmTqm8_4",
        "outputId": "da83d428-fa6e-4255-f01e-515499a66953"
      },
      "execution_count": null,
      "outputs": [
        {
          "output_type": "execute_result",
          "data": {
            "text/plain": [
              "[1, 4, 9, 16, 25, 36, 49, 64, 81, 100]"
            ]
          },
          "metadata": {},
          "execution_count": 31
        }
      ]
    },
    {
      "cell_type": "code",
      "source": [
        "cubes = [1, 8, 27, 65, 125]\n",
        "cubes[3] = 64\n",
        "cubes"
      ],
      "metadata": {
        "colab": {
          "base_uri": "https://localhost:8080/"
        },
        "id": "l3G0TlPvnc9v",
        "outputId": "fdcc0bb9-32ab-4dcf-b2c0-ab792034030a"
      },
      "execution_count": null,
      "outputs": [
        {
          "output_type": "execute_result",
          "data": {
            "text/plain": [
              "[1, 8, 27, 64, 125]"
            ]
          },
          "metadata": {},
          "execution_count": 33
        }
      ]
    },
    {
      "cell_type": "code",
      "source": [
        "  rgb = [\"Red\", \"Green\", \"Blue\"]\n",
        "rgaa=rgb\n",
        "rgb==rgaa\n",
        "rgaa[0]=\"Red\"\n",
        "rgb.append('Yellow')\n",
        "rgb"
      ],
      "metadata": {
        "colab": {
          "base_uri": "https://localhost:8080/"
        },
        "id": "Iq3slZZ_n3G3",
        "outputId": "22e05083-172f-45f1-e042-58f6968bf3da"
      },
      "execution_count": null,
      "outputs": [
        {
          "output_type": "execute_result",
          "data": {
            "text/plain": [
              "['Red', 'Green', 'Blue', 'Yellow']"
            ]
          },
          "metadata": {},
          "execution_count": 43
        }
      ]
    },
    {
      "cell_type": "code",
      "source": [
        "letters = ['a', 'b', 'c', 'd']\n",
        "letters"
      ],
      "metadata": {
        "colab": {
          "base_uri": "https://localhost:8080/"
        },
        "id": "YHAlliRaqE_l",
        "outputId": "361af9bc-a6b9-47c7-a31c-43644a591219"
      },
      "execution_count": null,
      "outputs": [
        {
          "output_type": "execute_result",
          "data": {
            "text/plain": [
              "['a', 'b', 'c', 'd']"
            ]
          },
          "metadata": {},
          "execution_count": 44
        }
      ]
    },
    {
      "cell_type": "code",
      "source": [
        "a = ['a', 'b', 'c']\n",
        "n = [1, 2, 3]\n",
        "x = [a, n]\n",
        "x"
      ],
      "metadata": {
        "colab": {
          "base_uri": "https://localhost:8080/"
        },
        "id": "WodmBpOAqKZM",
        "outputId": "c1aac6fb-ce50-452e-eb90-cd2b8481563f"
      },
      "execution_count": null,
      "outputs": [
        {
          "output_type": "execute_result",
          "data": {
            "text/plain": [
              "[['a', 'b', 'c'], [1, 2, 3]]"
            ]
          },
          "metadata": {},
          "execution_count": 46
        }
      ]
    },
    {
      "cell_type": "code",
      "source": [
        "x[0][1]"
      ],
      "metadata": {
        "colab": {
          "base_uri": "https://localhost:8080/",
          "height": 36
        },
        "id": "KXoSVUF_qUS4",
        "outputId": "ac621251-7036-4f96-a5e8-011d6f6ba976"
      },
      "execution_count": null,
      "outputs": [
        {
          "output_type": "execute_result",
          "data": {
            "text/plain": [
              "'b'"
            ],
            "application/vnd.google.colaboratory.intrinsic+json": {
              "type": "string"
            }
          },
          "metadata": {},
          "execution_count": 48
        }
      ]
    },
    {
      "cell_type": "markdown",
      "source": [
        "#**Fabonicc Series**"
      ],
      "metadata": {
        "id": "6qEuyTO1qwA8"
      }
    },
    {
      "cell_type": "code",
      "source": [
        "a, b = 0, 1\n",
        "while a < 10:\n",
        "    print(a)\n",
        "    a, b = b, a+b"
      ],
      "metadata": {
        "colab": {
          "base_uri": "https://localhost:8080/"
        },
        "id": "0L4yhFLzqulS",
        "outputId": "acc3b904-c0a4-4722-87db-2f8a2a0e713a"
      },
      "execution_count": null,
      "outputs": [
        {
          "output_type": "stream",
          "name": "stdout",
          "text": [
            "0\n",
            "1\n",
            "1\n",
            "2\n",
            "3\n",
            "5\n",
            "8\n"
          ]
        }
      ]
    },
    {
      "cell_type": "code",
      "source": [
        "a, b = 0, 1\n",
        "while a < 10000:\n",
        "    print(a, end=',')\n",
        "    a, b = b, a+b"
      ],
      "metadata": {
        "colab": {
          "base_uri": "https://localhost:8080/"
        },
        "id": "Buo36UYjxdrh",
        "outputId": "bc3485d8-a49e-4cf2-da5a-cbc93ccfafef"
      },
      "execution_count": null,
      "outputs": [
        {
          "output_type": "stream",
          "name": "stdout",
          "text": [
            "0,1,1,2,3,5,8,13,21,34,55,89,144,233,377,610,987,1597,2584,4181,6765,"
          ]
        }
      ]
    },
    {
      "cell_type": "code",
      "source": [
        "def initlog(*args):\n",
        "    pass   # Remember to implement this!\n"
      ],
      "metadata": {
        "id": "VWAZGyi2lJxP"
      },
      "execution_count": null,
      "outputs": []
    },
    {
      "cell_type": "code",
      "source": [
        "\n",
        "def http_error(status):\n",
        "    match status:\n",
        "        case 400:\n",
        "            return \"Bad request\"\n",
        "        case 404:\n",
        "            return \"Not found\"\n",
        "        case 418:\n",
        "            return \"I'm a teapot\"\n",
        "        case _:\n",
        "            return \"Something's wrong with the internet\""
      ],
      "metadata": {
        "id": "AiJUn4ccoUQ7"
      },
      "execution_count": null,
      "outputs": []
    },
    {
      "cell_type": "markdown",
      "source": [
        "**Create a student student management system.**"
      ],
      "metadata": {
        "id": "CvX7So0O8wP5"
      }
    },
    {
      "cell_type": "code",
      "source": [
        "class Student:\n",
        "    def __init__(self, name, marks_subject1, marks_subject2):\n",
        "        self.name = name\n",
        "        self.marks_subject1 = marks_subject1\n",
        "        self.marks_subject2 = marks_subject2\n",
        "\n",
        "    def calculate_average(self):\n",
        "        return (self.marks_subject1 + self.marks_subject2) / 2\n",
        "\n",
        "    def display_info(self):\n",
        "        average = self.calculate_average()\n",
        "        print(f\"Student Name: {self.name}\")\n",
        "        print(f\"Marks in Subject 1: {self.marks_subject1}\")\n",
        "        print(f\"Marks in Subject 2: {self.marks_subject2}\")\n",
        "        print(f\"Average Score: {average:.2f}\\n\")"
      ],
      "metadata": {
        "id": "Tr5deU9g9Pc1"
      },
      "execution_count": null,
      "outputs": []
    },
    {
      "cell_type": "code",
      "source": [
        "class GraduateStudent(Student):\n",
        "    def __init__(self, name, marks_subject1, marks_subject2, thesis_title):\n",
        "        super().__init__(name, marks_subject1, marks_subject2)\n",
        "        self.thesis_title = thesis_title\n",
        "\n",
        "    def display_info(self):\n",
        "        super().display_info()  # Call the method from the base class\n",
        "        print(f\"Thesis Title: {self.thesis_title}\\n\")"
      ],
      "metadata": {
        "id": "UzFs-Kfn-2sU"
      },
      "execution_count": null,
      "outputs": []
    },
    {
      "cell_type": "code",
      "source": [
        "def main():\n",
        "    # Creating instances of Student\n",
        "    student1 = Student(\"Alice\", 85, 90)\n",
        "    student2 = Student(\"Bob\", 78, 82)\n",
        "\n",
        "    # Displaying information for undergraduate students\n",
        "    student1.display_info()\n",
        "    student2.display_info()\n",
        "\n",
        "    # Creating an instance of GraduateStudent\n",
        "    grad_student = GraduateStudent(\"Charlie\", 92, 88, \"AI in Healthcare\")\n",
        "\n",
        "    # Displaying information for graduate student\n",
        "    grad_student.display_info()\n",
        "\n",
        "if __name__ == \"__main__\":\n",
        "    main()"
      ],
      "metadata": {
        "colab": {
          "base_uri": "https://localhost:8080/"
        },
        "id": "_LdmuA_y_sDr",
        "outputId": "e7a33cb9-6d4b-4ca6-b0cf-3c743dd9fce8"
      },
      "execution_count": null,
      "outputs": [
        {
          "output_type": "stream",
          "name": "stdout",
          "text": [
            "Student Name: Alice\n",
            "Marks in Subject 1: 85\n",
            "Marks in Subject 2: 90\n",
            "Average Score: 87.50\n",
            "\n",
            "Student Name: Bob\n",
            "Marks in Subject 1: 78\n",
            "Marks in Subject 2: 82\n",
            "Average Score: 80.00\n",
            "\n",
            "Student Name: Charlie\n",
            "Marks in Subject 1: 92\n",
            "Marks in Subject 2: 88\n",
            "Average Score: 90.00\n",
            "\n",
            "Thesis Title: AI in Healthcare\n",
            "\n"
          ]
        }
      ]
    },
    {
      "cell_type": "markdown",
      "source": [
        "#Q2. You have to develope a Bank Account Management System using encapsulation in python.\n",
        "# The system should allow users to manage their bank accounts by performing common operations like deposit,withdrawal,\n",
        "# setting account holder name and account number and checking their balance"
      ],
      "metadata": {
        "id": "KtLN3YHXFB_k"
      }
    },
    {
      "cell_type": "code",
      "source": [
        "class Account:\n",
        "  def __init__(self, name, accountNo,balance=0):\n",
        "    self._name = name\n",
        "    self._accountNo = accountNo\n",
        "    self._balance = balance\n",
        "\n",
        "  def deposit(self, amount):\n",
        "    if amount > 0:\n",
        "      self._balance += amount\n",
        "      print(f'Deposit Successful {amount}')\n",
        "    else:\n",
        "      print('Invalid amount')\n",
        "\n",
        "  def withdraw(self, amount):\n",
        "    if amount > 0 and amount <= self._balance:\n",
        "      self._balance -= amount\n",
        "      print(f'Withdrawal Successful {amount}')\n",
        "    else:\n",
        "      print('Invalid amount')\n",
        "\n",
        "  def getBalance(self):\n",
        "    return self._balance\n",
        "acc=Account('ram',12345,2000)\n",
        "acc.deposit(1000)\n",
        "acc.withdraw(200)\n",
        "print(acc.getBalance())\n"
      ],
      "metadata": {
        "colab": {
          "base_uri": "https://localhost:8080/"
        },
        "id": "1s8_H7yGFhC9",
        "outputId": "9b18db2d-1007-4550-c6c7-ec0b9a34b04a"
      },
      "execution_count": null,
      "outputs": [
        {
          "output_type": "stream",
          "name": "stdout",
          "text": [
            "Deposit Successful 1000\n",
            "Withdrawal Successful 200\n",
            "2800\n"
          ]
        }
      ]
    },
    {
      "cell_type": "markdown",
      "source": [
        "Q#3. Libary management system, so we need to create a class Book with specific attributes and methods\n",
        "* that handles the books lending on returning operation.\n",
        "* The system should check if the copies are avaliable before lending the books and update the availibility after each transaction.\n"
      ],
      "metadata": {
        "id": "V_aTYBMcJ_QR"
      }
    },
    {
      "cell_type": "code",
      "source": [
        "class Booklib:\n",
        "  def __init__(self,name,author,copies):\n",
        "    self.name=name\n",
        "    self.author=author\n",
        "    self.copies=copies\n",
        "  def lend(self):\n",
        "    if self.copies>0:\n",
        "      self.copies-=1\n",
        "      print('book lend  successfully')\n",
        "    else:\n",
        "      print('book not available')\n",
        "  def returnbook(self):\n",
        "    self.copies+=1\n",
        "    print('book returned successfully')\n",
        "book=Booklib('Math','TMH',10)\n",
        "book.lend()\n",
        "book.returnbook()\n"
      ],
      "metadata": {
        "id": "YS-ehFeeKzR5",
        "colab": {
          "base_uri": "https://localhost:8080/"
        },
        "outputId": "fbd5ef2b-6d53-4894-a4db-40d1eeb680e9"
      },
      "execution_count": null,
      "outputs": [
        {
          "output_type": "stream",
          "name": "stdout",
          "text": [
            "book lend  successfully\n",
            "book returned successfully\n"
          ]
        }
      ]
    },
    {
      "cell_type": "markdown",
      "source": [
        "Q#4. write program to perform polymorihim in python."
      ],
      "metadata": {
        "id": "oO02s28pbK0Y"
      }
    },
    {
      "cell_type": "code",
      "source": [
        "class Addition:\n",
        "  def add(self,a,b):\n",
        "    return a+b\n",
        "addnum=Addition()\n",
        "print(addnum.add(1,2))\n",
        "print(addnum.add('a','b'))\n",
        "addString=Addition()\n",
        "print(addString.add('FistName','Lastname'))\n",
        "\n"
      ],
      "metadata": {
        "colab": {
          "base_uri": "https://localhost:8080/"
        },
        "id": "i7ApUkWkbu_n",
        "outputId": "a2fefb5b-0cf0-42d5-bdd1-04f32f13ff39"
      },
      "execution_count": null,
      "outputs": [
        {
          "output_type": "stream",
          "name": "stdout",
          "text": [
            "3\n",
            "ab\n",
            "FistNameLastname\n"
          ]
        }
      ]
    },
    {
      "cell_type": "markdown",
      "source": [
        "#Q5 Writ the code for inheritance program"
      ],
      "metadata": {
        "id": "i5hGN_YNb-AX"
      }
    },
    {
      "cell_type": "code",
      "source": [
        "class Animal:\n",
        "    def speak(self):\n",
        "        pass\n",
        "\n",
        "class Dog(Animal):\n",
        "    def speak(self):\n",
        "        return \"Woof!\"\n",
        "\n",
        "class Cat(Animal):\n",
        "    def speak(self):\n",
        "        return \"Meow!\"\n",
        "\n",
        "# Create instances of the derived classes\n",
        "dog = Dog()\n",
        "cat = Cat()\n",
        "\n",
        "# Call the speak method on the instances\n",
        "print(dog.speak())  # Output: Woof!\n",
        "print(cat.speak())  # Output: Meow"
      ],
      "metadata": {
        "colab": {
          "base_uri": "https://localhost:8080/"
        },
        "id": "-a7fvCyRbWQc",
        "outputId": "e94d11c7-5ab6-4805-96ef-c3d984e8623e"
      },
      "execution_count": null,
      "outputs": [
        {
          "output_type": "stream",
          "name": "stdout",
          "text": [
            "Woof!\n",
            "Meow!\n"
          ]
        }
      ]
    },
    {
      "cell_type": "markdown",
      "source": [
        "#**numpy (Numerical Pyhon)**"
      ],
      "metadata": {
        "id": "OizHcB1GD2U7"
      }
    },
    {
      "cell_type": "markdown",
      "source": [
        "Q1. Create a numpy array module and with a data type integer and float"
      ],
      "metadata": {
        "id": "DoISWpY6H-vb"
      }
    },
    {
      "cell_type": "code",
      "source": [
        "\n",
        "import numpy as np\n",
        "int_array = np.array([1, 2, 3, 4, 5,7.11], dtype=int)\n",
        "print(\"Integer Array:\", int_array)\n",
        "print(\"Data Type of Integer Array:\", int_array.dtype)\n",
        "\n",
        "# Create an array of floats\n",
        "float_array = np.array([1.0, 2.5, 3.8, 4.2,8], dtype=float)\n",
        "print(\"Float Array:\", float_array)\n",
        "print(\"Data Type of Float Array:\", float_array.dtype)"
      ],
      "metadata": {
        "colab": {
          "base_uri": "https://localhost:8080/"
        },
        "id": "CXNPjjtLEKx6",
        "outputId": "c92533e5-e547-4ba2-a12b-2c382451fc82"
      },
      "execution_count": null,
      "outputs": [
        {
          "output_type": "stream",
          "name": "stdout",
          "text": [
            "Integer Array: [1 2 3 4 5 7]\n",
            "Data Type of Integer Array: int64\n",
            "Float Array: [1.  2.5 3.8 4.2 8. ]\n",
            "Data Type of Float Array: float64\n"
          ]
        }
      ]
    },
    {
      "cell_type": "markdown",
      "source": [
        "Q2. Create numpy arrays that have zero,one,two,three and four dimensions respectively. Also, print the shape and dimensions of each array.\n",
        "\n"
      ],
      "metadata": {
        "id": "nFh1WJY0IPni"
      }
    },
    {
      "cell_type": "code",
      "source": [
        "import numpy as np\n",
        "\n",
        "zero_darr=np.array(10)\n",
        "two_darr=np.array([[10,20],[4,5]])\n",
        "three_darr=np.arange(10,19).reshape(3,3)\n",
        "four_darr=np.arange(10,26).reshape(4,4)\n",
        "print(\"zero_darr:\",zero_darr)\n",
        "print(\"two_darr:\",two_darr)\n",
        "print(\"three_darr:\",three_darr)\n",
        "print(\"four_darr:\",four_darr)\n"
      ],
      "metadata": {
        "colab": {
          "base_uri": "https://localhost:8080/"
        },
        "id": "cs2W_DaZIXLt",
        "outputId": "d02eee2c-e853-4d83-abf3-80b635bae8a1"
      },
      "execution_count": 53,
      "outputs": [
        {
          "output_type": "stream",
          "name": "stdout",
          "text": [
            "zero_darr: 10\n",
            "two_darr: [[10 20]\n",
            " [ 4  5]]\n",
            "three_darr: [[10 11 12]\n",
            " [13 14 15]\n",
            " [16 17 18]]\n",
            "four_darr: [[10 11 12 13]\n",
            " [14 15 16 17]\n",
            " [18 19 20 21]\n",
            " [22 23 24 25]]\n"
          ]
        }
      ]
    },
    {
      "cell_type": "code",
      "source": [
        "zero_darr.shape\n"
      ],
      "metadata": {
        "colab": {
          "base_uri": "https://localhost:8080/"
        },
        "id": "dbbFlthQNul3",
        "outputId": "ae3c74b8-80b2-4d6b-dd3b-4c14794e05d6"
      },
      "execution_count": 54,
      "outputs": [
        {
          "output_type": "execute_result",
          "data": {
            "text/plain": [
              "()"
            ]
          },
          "metadata": {},
          "execution_count": 54
        }
      ]
    },
    {
      "cell_type": "code",
      "source": [
        "two_darr.shape\n"
      ],
      "metadata": {
        "colab": {
          "base_uri": "https://localhost:8080/"
        },
        "id": "5l7BhhDDN1Qf",
        "outputId": "364faa38-1413-4fa1-83a7-6fcc5e32130d"
      },
      "execution_count": 55,
      "outputs": [
        {
          "output_type": "execute_result",
          "data": {
            "text/plain": [
              "(2, 2)"
            ]
          },
          "metadata": {},
          "execution_count": 55
        }
      ]
    },
    {
      "cell_type": "code",
      "source": [
        "three_darr.shape\n"
      ],
      "metadata": {
        "colab": {
          "base_uri": "https://localhost:8080/"
        },
        "id": "PiVjify9N7kb",
        "outputId": "b0ca7ce1-1d36-4cbc-af44-2e5fcafe8a8e"
      },
      "execution_count": 56,
      "outputs": [
        {
          "output_type": "execute_result",
          "data": {
            "text/plain": [
              "(3, 3)"
            ]
          },
          "metadata": {},
          "execution_count": 56
        }
      ]
    },
    {
      "cell_type": "code",
      "source": [
        "four_darr.shape"
      ],
      "metadata": {
        "colab": {
          "base_uri": "https://localhost:8080/"
        },
        "id": "ZZVOt6wbN945",
        "outputId": "b528789c-7f92-4f75-aa2d-d8fdf536b084"
      },
      "execution_count": 57,
      "outputs": [
        {
          "output_type": "execute_result",
          "data": {
            "text/plain": [
              "(4, 4)"
            ]
          },
          "metadata": {},
          "execution_count": 57
        }
      ]
    },
    {
      "cell_type": "markdown",
      "source": [
        "Q3. change the dimession of a3D array to 2D array"
      ],
      "metadata": {
        "id": "DgHyTCuROz6X"
      }
    },
    {
      "cell_type": "code",
      "source": [
        "three_darr=np.arange(10,22).reshape(2,3,2)\n",
        "print(three_darr)\n",
        "print(three_darr.ndim)\n",
        "twd=three_darr.reshape(2,6)\n",
        "print(twd)\n",
        "print(twd.ndim)"
      ],
      "metadata": {
        "colab": {
          "base_uri": "https://localhost:8080/"
        },
        "id": "eYe82LIzPCEH",
        "outputId": "91696d86-d03c-465f-b701-9e1a5bfa9138"
      },
      "execution_count": 70,
      "outputs": [
        {
          "output_type": "stream",
          "name": "stdout",
          "text": [
            "[[[10 11]\n",
            "  [12 13]\n",
            "  [14 15]]\n",
            "\n",
            " [[16 17]\n",
            "  [18 19]\n",
            "  [20 21]]]\n",
            "3\n",
            "[[10 11 12 13 14 15]\n",
            " [16 17 18 19 20 21]]\n",
            "2\n"
          ]
        }
      ]
    },
    {
      "cell_type": "code",
      "source": [
        "three_darr.reshape(2,6)"
      ],
      "metadata": {
        "colab": {
          "base_uri": "https://localhost:8080/"
        },
        "id": "EUx16zCGPLXo",
        "outputId": "e5e006cf-5805-44e3-fc20-eed8e67314cd"
      },
      "execution_count": 71,
      "outputs": [
        {
          "output_type": "execute_result",
          "data": {
            "text/plain": [
              "array([[10, 11, 12, 13, 14, 15],\n",
              "       [16, 17, 18, 19, 20, 21]])"
            ]
          },
          "metadata": {},
          "execution_count": 71
        }
      ]
    },
    {
      "cell_type": "markdown",
      "source": [
        "Q4. Create a 2x2, 3x3 and 4x4 identity matrix using numpy methods"
      ],
      "metadata": {
        "id": "N0vRy9UfQ87t"
      }
    },
    {
      "cell_type": "code",
      "source": [
        "arry2by2=np.identity(2,dtype=int)\n",
        "print(\"arry2by2\",arry2by2)\n",
        "arry3by3=np.identity(3,dtype=float)\n",
        "print(\"arry3by3\",arry3by3)\n",
        "arry4by4=np.identity(4)\n",
        "print(\"arry4by4\",arry4by4)"
      ],
      "metadata": {
        "colab": {
          "base_uri": "https://localhost:8080/"
        },
        "id": "OdyCeJAsREVu",
        "outputId": "158ba5be-e77b-43dd-db25-3c2f7b3975c0"
      },
      "execution_count": 77,
      "outputs": [
        {
          "output_type": "stream",
          "name": "stdout",
          "text": [
            "arry2by2 [[1 0]\n",
            " [0 1]]\n",
            "arry3by3 [[1. 0. 0.]\n",
            " [0. 1. 0.]\n",
            " [0. 0. 1.]]\n",
            "arry4by4 [[1. 0. 0. 0.]\n",
            " [0. 1. 0. 0.]\n",
            " [0. 0. 1. 0.]\n",
            " [0. 0. 0. 1.]]\n"
          ]
        }
      ]
    },
    {
      "cell_type": "markdown",
      "source": [
        "Q5. Create a numpy array and negate it using a 0D array"
      ],
      "metadata": {
        "id": "NX881OCHTbi7"
      }
    },
    {
      "cell_type": "code",
      "source": [
        "import numpy as np\n",
        "\n",
        "array_1d = np.array([1, 2, -3, 4, -5])\n",
        "print(\"Original Array:\", array_1d)\n",
        "\n",
        "zero_d_array = np.array(-1)\n",
        "\n",
        "negated_array = np.negative( array_1d*-zero_d_array)\n",
        "print(\"Negated Array:\", negated_array)"
      ],
      "metadata": {
        "colab": {
          "base_uri": "https://localhost:8080/"
        },
        "id": "V0fevcLxTqa0",
        "outputId": "301270a5-427d-49c6-f4ef-cb24da5a0382"
      },
      "execution_count": 93,
      "outputs": [
        {
          "output_type": "stream",
          "name": "stdout",
          "text": [
            "Original Array: [ 1  2 -3  4 -5]\n",
            "Negated Array: [-1 -2  3 -4  5]\n"
          ]
        }
      ]
    },
    {
      "cell_type": "markdown",
      "source": [
        "Q6. Create a numpy array with shape 2x5 that has all the element a zeros."
      ],
      "metadata": {
        "id": "8ieldh8uWOuX"
      }
    },
    {
      "cell_type": "code",
      "source": [
        "array2x5=np.zeros([2,5])\n",
        "print(\"array2x5\",array2x5)"
      ],
      "metadata": {
        "colab": {
          "base_uri": "https://localhost:8080/"
        },
        "id": "kl_FrqqIWb0W",
        "outputId": "e70da195-4765-433e-af59-826fe6655b3d"
      },
      "execution_count": 99,
      "outputs": [
        {
          "output_type": "stream",
          "name": "stdout",
          "text": [
            "array2x5 [[0. 0. 0. 0. 0.]\n",
            " [0. 0. 0. 0. 0.]]\n"
          ]
        }
      ]
    },
    {
      "cell_type": "markdown",
      "source": [
        "Q7. create numpy array that has a shape of 3x5 and all the element in arrays are 5"
      ],
      "metadata": {
        "id": "I4qxWQ7jdA9U"
      }
    },
    {
      "cell_type": "code",
      "source": [
        "array3x5=np.full((3,5),5)\n",
        "print(\"array3x5\\n\",array3x5)"
      ],
      "metadata": {
        "colab": {
          "base_uri": "https://localhost:8080/"
        },
        "id": "0Bl6qlYhdeom",
        "outputId": "bb64f781-fb4c-4f39-8df4-c54d773be0fd"
      },
      "execution_count": 102,
      "outputs": [
        {
          "output_type": "stream",
          "name": "stdout",
          "text": [
            "array3x5\n",
            " [[5 5 5 5 5]\n",
            " [5 5 5 5 5]\n",
            " [5 5 5 5 5]]\n"
          ]
        }
      ]
    },
    {
      "cell_type": "markdown",
      "source": [
        "Q8. Create an arrays with random integer in range  0-100 and sample size should be 25."
      ],
      "metadata": {
        "id": "jhZEUgbCeU7I"
      }
    },
    {
      "cell_type": "code",
      "source": [
        "randomNo=np.random.randint(0,101,25)\n",
        "print(\"randomNo\\n\",randomNo)"
      ],
      "metadata": {
        "colab": {
          "base_uri": "https://localhost:8080/"
        },
        "id": "QZN-_ux3ekji",
        "outputId": "b65887fd-e290-411f-a45f-f6999004433a"
      },
      "execution_count": 113,
      "outputs": [
        {
          "output_type": "stream",
          "name": "stdout",
          "text": [
            "randomNo\n",
            " [16 70 71 57 33 29 40 58 63 83  9 48 73 54 84 81  5 33 34 45 20 44 51 94\n",
            " 50]\n"
          ]
        }
      ]
    },
    {
      "cell_type": "markdown",
      "source": [
        "Q9. Create an array of random integer in range 1 to 50 take the sample size of 12 an calculate their mean."
      ],
      "metadata": {
        "id": "BGBRQ1wxe6rr"
      }
    },
    {
      "cell_type": "code",
      "source": [
        "randomMean=np.random.randint(1,51,12).mean()\n",
        "print(\"randomMean\\n\",randomMean)"
      ],
      "metadata": {
        "colab": {
          "base_uri": "https://localhost:8080/"
        },
        "id": "TZh5QBhxfh4K",
        "outputId": "ad98db98-0678-41f8-a79a-84b8cd7e9a46"
      },
      "execution_count": 135,
      "outputs": [
        {
          "output_type": "stream",
          "name": "stdout",
          "text": [
            "randomMean\n",
            " 22.5\n"
          ]
        }
      ]
    },
    {
      "cell_type": "markdown",
      "source": [
        "Q10.Creat an with random integer from 1 to 50 with sample size 10, sort the array and display the indeces of the sorted array."
      ],
      "metadata": {
        "id": "uZuq75bkgkAl"
      }
    },
    {
      "cell_type": "code",
      "source": [
        "sortArray=np.random.randint(1,51,10)\n",
        "print(\"sortArray\\n\",sortArray)\n",
        "argasrt=sortArray.argsort()\n",
        "print(\"sortArray\\n\",argasrt)"
      ],
      "metadata": {
        "colab": {
          "base_uri": "https://localhost:8080/"
        },
        "id": "_avBTisLg0jr",
        "outputId": "c4b97a06-33ad-4a27-d7c1-14c4bf3017fd"
      },
      "execution_count": 140,
      "outputs": [
        {
          "output_type": "stream",
          "name": "stdout",
          "text": [
            "sortArray\n",
            " [28 38 15 23 40 23 18 33 15 29]\n",
            "sortArray\n",
            " [2 8 6 3 5 0 9 7 1 4]\n"
          ]
        }
      ]
    },
    {
      "cell_type": "markdown",
      "source": [
        "Q11. Create a 2D array /matrix and calculate the transpose of that matrix."
      ],
      "metadata": {
        "id": "fpNmBPvRiUPU"
      }
    },
    {
      "cell_type": "code",
      "source": [
        "TDmatrix=np.identity(2,dtype=int)\n",
        "print(\"TDmatrix\\n\",TDmatrix)\n",
        "transpose=TDmatrix.T\n",
        "print(\"transpose\\n\",transpose)"
      ],
      "metadata": {
        "colab": {
          "base_uri": "https://localhost:8080/"
        },
        "id": "XCbvu6rnih38",
        "outputId": "4d569f9e-5203-4f9b-92a7-4cd1f7c5c7be"
      },
      "execution_count": 146,
      "outputs": [
        {
          "output_type": "stream",
          "name": "stdout",
          "text": [
            "TDmatrix\n",
            " [[1 0]\n",
            " [0 1]]\n",
            "transpose\n",
            " [[1 0]\n",
            " [0 1]]\n"
          ]
        }
      ]
    },
    {
      "cell_type": "markdown",
      "source": [
        "Q11. Create nympy array with shape 3x3 thathas all elements as 1 (show 3 different method.)"
      ],
      "metadata": {
        "id": "AToxEfqOjtjT"
      }
    },
    {
      "cell_type": "code",
      "source": [
        "np.ones((3,3))\n",
        "\n"
      ],
      "metadata": {
        "colab": {
          "base_uri": "https://localhost:8080/"
        },
        "id": "CrxYboZ2j9ba",
        "outputId": "c06d73fb-486f-49ff-9e63-962961edd023"
      },
      "execution_count": 153,
      "outputs": [
        {
          "output_type": "execute_result",
          "data": {
            "text/plain": [
              "array([[1., 1., 1.],\n",
              "       [1., 1., 1.],\n",
              "       [1., 1., 1.]])"
            ]
          },
          "metadata": {},
          "execution_count": 153
        }
      ]
    },
    {
      "cell_type": "code",
      "source": [
        "np.full((3,3),1)\n"
      ],
      "metadata": {
        "colab": {
          "base_uri": "https://localhost:8080/"
        },
        "id": "QvXyXUu5kLq-",
        "outputId": "d153af70-6d9d-438e-efbd-71ae6bf78f88"
      },
      "execution_count": 149,
      "outputs": [
        {
          "output_type": "execute_result",
          "data": {
            "text/plain": [
              "array([[1, 1, 1],\n",
              "       [1, 1, 1],\n",
              "       [1, 1, 1]])"
            ]
          },
          "metadata": {},
          "execution_count": 149
        }
      ]
    },
    {
      "cell_type": "code",
      "source": [
        "np.zeros((3,3))+1"
      ],
      "metadata": {
        "colab": {
          "base_uri": "https://localhost:8080/"
        },
        "id": "CpvePr3ukNw5",
        "outputId": "7534b28d-a666-46a4-de13-421e7cc0674f"
      },
      "execution_count": 162,
      "outputs": [
        {
          "output_type": "execute_result",
          "data": {
            "text/plain": [
              "array([[1., 1., 1.],\n",
              "       [1., 1., 1.],\n",
              "       [1., 1., 1.]])"
            ]
          },
          "metadata": {},
          "execution_count": 162
        }
      ]
    },
    {
      "cell_type": "markdown",
      "source": [
        "Q13.Create an array filed with random integer fro 1 to 100 with sample size 30 calculate sum,min max,variance, stddevation."
      ],
      "metadata": {
        "id": "wc67Vmzclofd"
      }
    },
    {
      "cell_type": "code",
      "source": [
        "arry1=np.random.randint(1,101,30)\n",
        "print(\"arry1\\n\",arry1)\n",
        "print(\"sum\\n\",arry1.sum())\n",
        "print(\"min\\n\",arry1.min())\n",
        "print(\"max\\n\",arry1.max())\n",
        "print(\"variance\\n\",arry1.var())\n",
        "print(\"stddevation\\n\",arry1.std())\n",
        "print(\"mean\\n\",arry1.mean())"
      ],
      "metadata": {
        "colab": {
          "base_uri": "https://localhost:8080/"
        },
        "id": "lbS0tQyWl78L",
        "outputId": "23bc543d-82e4-46e0-c8ba-786286a231cf"
      },
      "execution_count": 170,
      "outputs": [
        {
          "output_type": "stream",
          "name": "stdout",
          "text": [
            "arry1\n",
            " [18 54 18 94 79 73 26 97 74 81 28 70 91  6 24 52 90 84 34 48 90 91 42 53\n",
            " 44 90 36 92  8 84]\n",
            "sum\n",
            " 1771\n",
            "min\n",
            " 6\n",
            "max\n",
            " 97\n",
            "variance\n",
            " 843.6988888888889\n",
            "stddevation\n",
            " 29.04649529442216\n",
            "mean\n",
            " 59.03333333333333\n"
          ]
        }
      ]
    },
    {
      "cell_type": "markdown",
      "source": [
        "Q14. Create and array with range 1-1000 and sample size 50 and step size is 2.\n",
        "a.Print the first 10 element of array"
      ],
      "metadata": {
        "id": "2kI6ppPfmgFy"
      }
    },
    {
      "cell_type": "code",
      "source": [
        "array2=np.arange(1,1001,2)\n",
        "print(\"array2\",array2)\n",
        "array2slice=np.random.choice(array2,50)\n",
        "print(\"array2slice\",array2slice)\n",
        "array2slice1=array2slice[:10]\n",
        "print(\"array2slice1\",array2slice1)"
      ],
      "metadata": {
        "colab": {
          "base_uri": "https://localhost:8080/"
        },
        "id": "8piznTvsn5uI",
        "outputId": "0f304241-a52d-4bb6-8dea-202801945eee"
      },
      "execution_count": 188,
      "outputs": [
        {
          "output_type": "stream",
          "name": "stdout",
          "text": [
            "array2 [  1   3   5 ... 995 997 999]\n",
            "array2slice [961 379 975 ... 483 283 805]\n",
            "array2slice1 [961 379 975 163 611 347 489 959 737  29]\n"
          ]
        }
      ]
    },
    {
      "cell_type": "code",
      "source": [
        "array2[:10]"
      ],
      "metadata": {
        "colab": {
          "base_uri": "https://localhost:8080/"
        },
        "id": "vTT4KYrDqoiw",
        "outputId": "86308a7d-e583-485d-a52e-570258a4075f"
      },
      "execution_count": 189,
      "outputs": [
        {
          "output_type": "execute_result",
          "data": {
            "text/plain": [
              "array([ 1,  3,  5,  7,  9, 11, 13, 15, 17, 19])"
            ]
          },
          "metadata": {},
          "execution_count": 189
        }
      ]
    },
    {
      "cell_type": "code",
      "source": [
        "array2slice=np.random.choice(array2,50)\n",
        "print(\"array2slice\",array2slice)\n",
        "array2slice[10:26]"
      ],
      "metadata": {
        "colab": {
          "base_uri": "https://localhost:8080/"
        },
        "id": "nqSlmhTJqzlQ",
        "outputId": "967adf52-5bef-48ee-e662-8ece1a291838"
      },
      "execution_count": 194,
      "outputs": [
        {
          "output_type": "stream",
          "name": "stdout",
          "text": [
            "array2slice [885 349 829 ... 979 223 789]\n"
          ]
        },
        {
          "output_type": "execute_result",
          "data": {
            "text/plain": [
              "array([903, 503, 861, ...,  59, 473, 503])"
            ]
          },
          "metadata": {},
          "execution_count": 194
        }
      ]
    },
    {
      "cell_type": "markdown",
      "source": [
        "C.print the last ten element of using negative indexing"
      ],
      "metadata": {
        "id": "GWnWOlsMrWcy"
      }
    },
    {
      "cell_type": "code",
      "source": [
        "array2slice=np.random.choice(array2,50)\n",
        "print(\"array2slice\",array2slice)\n",
        "array2slice[-10]"
      ],
      "metadata": {
        "colab": {
          "base_uri": "https://localhost:8080/"
        },
        "id": "v4E7fi4trChf",
        "outputId": "4d3b6ae7-4467-4183-d83b-f0aa63840680"
      },
      "execution_count": 196,
      "outputs": [
        {
          "output_type": "stream",
          "name": "stdout",
          "text": [
            "array2slice [485 507 769 ... 181 185 453]\n"
          ]
        },
        {
          "output_type": "execute_result",
          "data": {
            "text/plain": [
              "223"
            ]
          },
          "metadata": {},
          "execution_count": 196
        }
      ]
    },
    {
      "cell_type": "markdown",
      "source": [
        "Q15. Create an array of 1-10 and perform the following operation\n",
        "    * a. insert the element at the end of array\n",
        "    *  b. insert the element befor 5\n",
        "    * c. update te element 6 s 60\n",
        "    * d. delete the element 60 in the update array.\n",
        "    * e. create a function to search for element\n",
        "\n",
        "\n",
        "\n",
        "\n",
        "\n",
        "\n",
        "\n",
        "\n"
      ],
      "metadata": {
        "id": "1fPOqQiNr8Gr"
      }
    },
    {
      "cell_type": "markdown",
      "source": [],
      "metadata": {
        "id": "usvjSWSns9GE"
      }
    }
  ]
}