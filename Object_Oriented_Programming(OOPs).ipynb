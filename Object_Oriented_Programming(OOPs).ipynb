{
  "nbformat": 4,
  "nbformat_minor": 0,
  "metadata": {
    "colab": {
      "provenance": [],
      "include_colab_link": true
    },
    "kernelspec": {
      "name": "python3",
      "display_name": "Python 3"
    },
    "language_info": {
      "name": "python"
    }
  },
  "cells": [
    {
      "cell_type": "markdown",
      "metadata": {
        "id": "view-in-github",
        "colab_type": "text"
      },
      "source": [
        "<a href=\"https://colab.research.google.com/github/madanjha/PythonDS/blob/main/Object_Oriented_Programming(OOPs).ipynb\" target=\"_parent\"><img src=\"https://colab.research.google.com/assets/colab-badge.svg\" alt=\"Open In Colab\"/></a>"
      ]
    },
    {
      "cell_type": "markdown",
      "source": [
        "### **Let's make our first `Class`**"
      ],
      "metadata": {
        "id": "nazgqGVoB96v"
      }
    },
    {
      "cell_type": "code",
      "execution_count": null,
      "metadata": {
        "id": "ZWFMMjQP7NnU"
      },
      "outputs": [],
      "source": [
        "class Account:\n",
        "\n",
        "  def __init__(self, name, accountnum, balance):\n",
        "    self.name = name\n",
        "    self.acc_no = accountnum\n",
        "    self.bal = balance"
      ]
    },
    {
      "cell_type": "code",
      "source": [
        "acc1 = Account('Virat', 100, 67000)\n",
        "acc2 = Account('Rashmi', 101, 89000)\n",
        "acc3 = Account('Rohan', 102, 54320)"
      ],
      "metadata": {
        "id": "gw1HNKRICwEo"
      },
      "execution_count": null,
      "outputs": []
    },
    {
      "cell_type": "code",
      "source": [
        "acc2.bal"
      ],
      "metadata": {
        "colab": {
          "base_uri": "https://localhost:8080/"
        },
        "id": "FqyXNtySDG1f",
        "outputId": "703f5dfb-f46e-4323-ac8e-2f1286e0f4d2"
      },
      "execution_count": null,
      "outputs": [
        {
          "output_type": "execute_result",
          "data": {
            "text/plain": [
              "89000"
            ]
          },
          "metadata": {},
          "execution_count": 13
        }
      ]
    },
    {
      "cell_type": "code",
      "source": [
        "acc2.acc_no"
      ],
      "metadata": {
        "colab": {
          "base_uri": "https://localhost:8080/"
        },
        "id": "CIyJFvtMDIZg",
        "outputId": "8ccbb757-8126-4fb4-ebf7-9b078db23f24"
      },
      "execution_count": null,
      "outputs": [
        {
          "output_type": "execute_result",
          "data": {
            "text/plain": [
              "101"
            ]
          },
          "metadata": {},
          "execution_count": 11
        }
      ]
    },
    {
      "cell_type": "code",
      "source": [
        "print(acc1)"
      ],
      "metadata": {
        "colab": {
          "base_uri": "https://localhost:8080/"
        },
        "id": "IiSSMmsFDLn0",
        "outputId": "d2b3b61d-3574-4692-8561-de1b19737728"
      },
      "execution_count": null,
      "outputs": [
        {
          "output_type": "stream",
          "name": "stdout",
          "text": [
            "<__main__.Account object at 0x7fbda0d096f0>\n"
          ]
        }
      ]
    },
    {
      "cell_type": "code",
      "source": [
        "class Account:\n",
        "\n",
        "  def __init__(self, name, accountnum, balance):\n",
        "    self.name = name\n",
        "    self.acc_no = accountnum\n",
        "    self.bal = balance\n",
        "\n",
        "  def __str__(self):\n",
        "    return f'Account number {self.acc_no} belongs to {self.name} and balance in the account is INR {self.bal}'"
      ],
      "metadata": {
        "id": "sINXT0YQIJr9"
      },
      "execution_count": null,
      "outputs": []
    },
    {
      "cell_type": "code",
      "source": [
        "acc1 = Account('Virat', 100, 67000)\n",
        "acc2 = Account('Rashmi', 101, 89000)\n",
        "acc3 = Account('Rohan', 102, 54320)"
      ],
      "metadata": {
        "id": "5CodHN6NJIM4"
      },
      "execution_count": null,
      "outputs": []
    },
    {
      "cell_type": "code",
      "source": [
        "print(acc1)"
      ],
      "metadata": {
        "colab": {
          "base_uri": "https://localhost:8080/"
        },
        "id": "cCNRZEwEJKqq",
        "outputId": "2adc86e3-4a5a-476d-e991-427974b7428f"
      },
      "execution_count": null,
      "outputs": [
        {
          "output_type": "stream",
          "name": "stdout",
          "text": [
            "Account number 100 belongs to Virat and balance in the account is INR 67000\n"
          ]
        }
      ]
    },
    {
      "cell_type": "code",
      "source": [
        "print(acc2)"
      ],
      "metadata": {
        "colab": {
          "base_uri": "https://localhost:8080/"
        },
        "id": "PfbwuJghJMl-",
        "outputId": "3896c9d3-a9ea-45a1-d2d8-51c515898a82"
      },
      "execution_count": null,
      "outputs": [
        {
          "output_type": "stream",
          "name": "stdout",
          "text": [
            "Account number 101 belongs to Rashmi and balance in the account is INR 89000\n"
          ]
        }
      ]
    },
    {
      "cell_type": "markdown",
      "source": [
        "### **Default values in functions**"
      ],
      "metadata": {
        "id": "z1BA_WL_KPvJ"
      }
    },
    {
      "cell_type": "code",
      "source": [
        "class Account:\n",
        "\n",
        "  def __init__(self, name, accountnum, balance= 0):\n",
        "    self.name = name\n",
        "    self.acc_no = accountnum\n",
        "    self.bal = balance\n",
        "\n",
        "  def __str__(self):\n",
        "    return f'Account number {self.acc_no} belongs to {self.name} and balance in the account is INR {self.bal}'"
      ],
      "metadata": {
        "colab": {
          "base_uri": "https://localhost:8080/",
          "height": 106
        },
        "id": "U7F-Y3oFJQOe",
        "outputId": "242990dc-fd69-40eb-ab66-bc6498984452"
      },
      "execution_count": null,
      "outputs": [
        {
          "output_type": "error",
          "ename": "SyntaxError",
          "evalue": "non-default argument follows default argument (<ipython-input-24-2c5e251d3fce>, line 3)",
          "traceback": [
            "\u001b[0;36m  File \u001b[0;32m\"<ipython-input-24-2c5e251d3fce>\"\u001b[0;36m, line \u001b[0;32m3\u001b[0m\n\u001b[0;31m    def __init__(self, name = 'None', accountnum, balance):\u001b[0m\n\u001b[0m                                      ^\u001b[0m\n\u001b[0;31mSyntaxError\u001b[0m\u001b[0;31m:\u001b[0m non-default argument follows default argument\n"
          ]
        }
      ]
    },
    {
      "cell_type": "code",
      "source": [
        "acc1 = Account('Virat', 100, 67000)\n",
        "acc2 = Account('Rashmi', 101, 89000)\n",
        "acc3 = Account('Rohan', 102, 54320)"
      ],
      "metadata": {
        "id": "hHT_2BupKydU"
      },
      "execution_count": null,
      "outputs": []
    },
    {
      "cell_type": "markdown",
      "source": [
        "### **Methods (User Defined Functions in the classes)**"
      ],
      "metadata": {
        "id": "PlXIIEcOMvrA"
      }
    },
    {
      "cell_type": "code",
      "source": [
        "class Account:\n",
        "\n",
        "  def __init__(self, name, accountnum, balance):\n",
        "    self.name = name\n",
        "    self.acc_no = accountnum\n",
        "    self.bal = balance\n",
        "\n",
        "  def deposit(self, amount):\n",
        "    if amount > 0:\n",
        "      self.bal = self.bal + amount\n",
        "    else:\n",
        "      print('Invalid Amount')\n",
        "\n",
        "  def withdraw(self, amount):\n",
        "    if amount > 0 and self.bal >= amount:\n",
        "      self.bal = self.bal - amount\n",
        "    elif amount <= 0:\n",
        "      print('Invalid Amount')\n",
        "    else:\n",
        "      print('Insufficient Amount')\n",
        "\n",
        "  def __str__(self):\n",
        "    return f'Account number {self.acc_no} belongs to {self.name} and balance in the account is INR {self.bal}'"
      ],
      "metadata": {
        "id": "iYBKK_XyM-Dl"
      },
      "execution_count": null,
      "outputs": []
    },
    {
      "cell_type": "code",
      "source": [
        "acc1 = Account('Virat', 100, 67000)\n",
        "acc2 = Account('Rashmi', 101, 89000)\n",
        "acc3 = Account('Rohan', 102, 54320)"
      ],
      "metadata": {
        "id": "GHT79-z9NyAm"
      },
      "execution_count": null,
      "outputs": []
    },
    {
      "cell_type": "code",
      "source": [
        "acc1.deposit(5000)"
      ],
      "metadata": {
        "id": "Cee1gg84PO3e"
      },
      "execution_count": null,
      "outputs": []
    },
    {
      "cell_type": "code",
      "source": [
        "acc1.bal"
      ],
      "metadata": {
        "colab": {
          "base_uri": "https://localhost:8080/"
        },
        "id": "GP5HTu2QPynS",
        "outputId": "f5c5162e-0c9f-4677-d721-5ddc8743f3c0"
      },
      "execution_count": null,
      "outputs": [
        {
          "output_type": "execute_result",
          "data": {
            "text/plain": [
              "72000"
            ]
          },
          "metadata": {},
          "execution_count": 33
        }
      ]
    },
    {
      "cell_type": "code",
      "source": [
        "acc1.deposit(-3000)"
      ],
      "metadata": {
        "colab": {
          "base_uri": "https://localhost:8080/"
        },
        "id": "beaoam-dP04p",
        "outputId": "0f4f51a3-7dab-4e93-e416-188f027bb87f"
      },
      "execution_count": null,
      "outputs": [
        {
          "output_type": "stream",
          "name": "stdout",
          "text": [
            "Invalid Amount\n"
          ]
        }
      ]
    },
    {
      "cell_type": "code",
      "source": [
        "acc1.withdraw(80000)"
      ],
      "metadata": {
        "colab": {
          "base_uri": "https://localhost:8080/"
        },
        "id": "_Qa37KL_QyE8",
        "outputId": "bbc89f1c-94f0-4d90-f251-130f1d07cb77"
      },
      "execution_count": null,
      "outputs": [
        {
          "output_type": "stream",
          "name": "stdout",
          "text": [
            "Insufficient Amount\n"
          ]
        }
      ]
    },
    {
      "cell_type": "markdown",
      "source": [
        "### **Inheritance**\n",
        "\n",
        "1. Single\n",
        "2. Multiple\n",
        "3. Multilevel\n",
        "4. Hierarchical"
      ],
      "metadata": {
        "id": "1grjbn0kVoip"
      }
    },
    {
      "cell_type": "markdown",
      "source": [
        "Example Without inheritance"
      ],
      "metadata": {
        "id": "FOAK23ZzX7ji"
      }
    },
    {
      "cell_type": "code",
      "source": [
        "class SavingsAccount:\n",
        "\n",
        "  def __init__(self, name, accountnum, balance):\n",
        "    self.name = name\n",
        "    self.acc_no = accountnum\n",
        "    self.bal = balance\n",
        "    self.maxtrans = 10\n",
        "\n",
        "  def deposit(self, amount):\n",
        "    if amount > 0:\n",
        "      self.bal = self.bal + amount\n",
        "    else:\n",
        "      print('Invalid Amount')\n",
        "\n",
        "  def withdraw(self, amount):\n",
        "    if amount > 0 and self.bal >= amount:\n",
        "      self.bal = self.bal - amount\n",
        "    elif amount <= 0:\n",
        "      print('Invalid Amount')\n",
        "    else:\n",
        "      print('Insufficient Amount')\n",
        "\n",
        "  def __str__(self):\n",
        "    return f'Account number {self.acc_no} belongs to {self.name} and balance in the account is INR {self.bal}'\n",
        "\n",
        "class CurrentAccount:\n",
        "\n",
        "  def __init__(self, name, accountnum, balance):\n",
        "    self.name = name\n",
        "    self.acc_no = accountnum\n",
        "    self.bal = balance\n",
        "    self.maxtrans = 500\n",
        "\n",
        "  def deposit(self, amount):\n",
        "    if amount > 0:\n",
        "      self.bal = self.bal + amount\n",
        "    else:\n",
        "      print('Invalid Amount')\n",
        "\n",
        "  def withdraw(self, amount):\n",
        "    if amount > 0 and self.bal >= amount:\n",
        "      self.bal = self.bal - amount\n",
        "    elif amount <= 0:\n",
        "      print('Invalid Amount')\n",
        "    else:\n",
        "      print('Insufficient Amount')\n",
        "\n",
        "  def __str__(self):\n",
        "    return f'Account number {self.acc_no} belongs to {self.name} and balance in the account is INR {self.bal}'"
      ],
      "metadata": {
        "id": "m138NpWUR_y6"
      },
      "execution_count": null,
      "outputs": []
    },
    {
      "cell_type": "markdown",
      "source": [
        "### **With Inheritance**"
      ],
      "metadata": {
        "id": "L8tNFjFpZnQ6"
      }
    },
    {
      "cell_type": "code",
      "source": [
        "class Account:\n",
        "\n",
        "  def __init__(self, name, accountnum, balance):\n",
        "    self.name = name\n",
        "    self.acc_no = accountnum\n",
        "    self.bal = balance\n",
        "    self.max_trans = 10\n",
        "\n",
        "  def deposit(self, amount):\n",
        "    if amount > 0:\n",
        "      self.bal = self.bal + amount\n",
        "    else:\n",
        "      print('Invalid Amount')\n",
        "\n",
        "  def withdraw(self, amount):\n",
        "    if amount > 0 and self.bal >= amount:\n",
        "      self.bal = self.bal - amount\n",
        "    elif amount <= 0:\n",
        "      print('Invalid Amount')\n",
        "    else:\n",
        "      print('Insufficient Amount')\n",
        "\n",
        "  def __str__(self):\n",
        "    return f'Account number {self.acc_no} belongs to {self.name} and balance in the account is INR {self.bal}'\n",
        "\n",
        "class SavingsAccount(Account):\n",
        "  pass\n",
        "\n",
        "class CurrentAccount(Account):\n",
        "\n",
        "  def __init__(self, name, accountnum, balance, gender):\n",
        "    super().__init__(name, accountnum, balance)\n",
        "    self.max_trans = 500\n",
        "    self.gender = gender\n",
        "\n",
        "  def check_balance(self):\n",
        "    return self.bal"
      ],
      "metadata": {
        "id": "6BzhAijBZmr-"
      },
      "execution_count": null,
      "outputs": []
    },
    {
      "cell_type": "code",
      "source": [
        "sav1 = SavingsAccount('Ronak', 200, 55600)"
      ],
      "metadata": {
        "id": "CncSjmRPao0L"
      },
      "execution_count": null,
      "outputs": []
    },
    {
      "cell_type": "code",
      "source": [
        "sav1.bal"
      ],
      "metadata": {
        "colab": {
          "base_uri": "https://localhost:8080/"
        },
        "id": "p9SkDfknauXp",
        "outputId": "03785f2e-0e70-416b-9071-1c3eb3fbf2b7"
      },
      "execution_count": null,
      "outputs": [
        {
          "output_type": "execute_result",
          "data": {
            "text/plain": [
              "55600"
            ]
          },
          "metadata": {},
          "execution_count": 44
        }
      ]
    },
    {
      "cell_type": "code",
      "source": [
        "sav1.deposit(5000)"
      ],
      "metadata": {
        "id": "_lOJnsRja5Tq"
      },
      "execution_count": null,
      "outputs": []
    },
    {
      "cell_type": "code",
      "source": [
        "sav1.bal"
      ],
      "metadata": {
        "colab": {
          "base_uri": "https://localhost:8080/"
        },
        "id": "LD5vBA3ta83T",
        "outputId": "b0464f71-e7e6-4fc8-f908-794bb04a1eb8"
      },
      "execution_count": null,
      "outputs": [
        {
          "output_type": "execute_result",
          "data": {
            "text/plain": [
              "60600"
            ]
          },
          "metadata": {},
          "execution_count": 46
        }
      ]
    },
    {
      "cell_type": "code",
      "source": [
        "curr1 = CurrentAccount('Swati', 300, 87900, 'Male')"
      ],
      "metadata": {
        "id": "RZPTkFtLa90T"
      },
      "execution_count": null,
      "outputs": []
    },
    {
      "cell_type": "code",
      "source": [
        "curr1.bal"
      ],
      "metadata": {
        "colab": {
          "base_uri": "https://localhost:8080/"
        },
        "id": "niBFliUkcNLj",
        "outputId": "bf64c4fa-0e95-4263-bd41-94dfd843375c"
      },
      "execution_count": null,
      "outputs": [
        {
          "output_type": "execute_result",
          "data": {
            "text/plain": [
              "87900"
            ]
          },
          "metadata": {},
          "execution_count": 55
        }
      ]
    },
    {
      "cell_type": "markdown",
      "source": [
        "### **Encapsulation**\n",
        "\n",
        "- Public variables can be accessed by any method/function inside the class and it can also be accessed and updated by the object.\n",
        "\n",
        "- Private variables can only be accessed and updated by the functions written inside that class. Any object or the child classes can not access or update the private variable."
      ],
      "metadata": {
        "id": "lzRsfviDfr-E"
      }
    },
    {
      "cell_type": "code",
      "source": [
        "class Account:\n",
        "\n",
        "  def __init__(self, name, accountnum, balance):\n",
        "    self.name = name\n",
        "    self.acc_no = accountnum\n",
        "    self.__bal = balance\n",
        "\n",
        "  def deposit(self, amount):\n",
        "    if amount > 0:\n",
        "      self.__bal = self.__bal + amount\n",
        "    else:\n",
        "      print('Invalid Amount')\n",
        "\n",
        "  def withdraw(self, amount):\n",
        "    if amount > 0 and self.__bal >= amount:\n",
        "      self.__bal = self.__bal - amount\n",
        "    elif amount <= 0:\n",
        "      print('Invalid Amount')\n",
        "    else:\n",
        "      print('Insufficient Amount')\n",
        "\n",
        "  def check_balance(self):\n",
        "    return self.__bal\n",
        "\n",
        "  def __str__(self):\n",
        "    return f'Account number {self.acc_no} belongs to {self.name} and balance in the account is INR {self.__bal}'"
      ],
      "metadata": {
        "id": "YD2mjSPOfVXh"
      },
      "execution_count": null,
      "outputs": []
    },
    {
      "cell_type": "code",
      "source": [
        "acc1 = Account('Virat', 100, 67000)\n",
        "acc2 = Account('Rashmi', 101, 89000)\n",
        "acc3 = Account('Rohan', 102, 54320)"
      ],
      "metadata": {
        "id": "nz_0BGWVhVQ1"
      },
      "execution_count": null,
      "outputs": []
    },
    {
      "cell_type": "code",
      "source": [
        "acc1.check_balance()"
      ],
      "metadata": {
        "colab": {
          "base_uri": "https://localhost:8080/"
        },
        "id": "fnqOW8oWha-H",
        "outputId": "96b72f63-ce4d-4e8c-9139-3686e02fffb9"
      },
      "execution_count": null,
      "outputs": [
        {
          "output_type": "execute_result",
          "data": {
            "text/plain": [
              "67000"
            ]
          },
          "metadata": {},
          "execution_count": 73
        }
      ]
    },
    {
      "cell_type": "code",
      "source": [
        "acc1.check_balance()"
      ],
      "metadata": {
        "colab": {
          "base_uri": "https://localhost:8080/"
        },
        "id": "62Ug5Qr6huas",
        "outputId": "62c08b2f-df40-423c-fa89-fb2aa98da823"
      },
      "execution_count": null,
      "outputs": [
        {
          "output_type": "execute_result",
          "data": {
            "text/plain": [
              "67000"
            ]
          },
          "metadata": {},
          "execution_count": 75
        }
      ]
    },
    {
      "cell_type": "markdown",
      "source": [
        "### **Polymorphism**"
      ],
      "metadata": {
        "id": "2KU2d2fij28u"
      }
    },
    {
      "cell_type": "code",
      "source": [
        "class Account:\n",
        "\n",
        "  def __init__(self, name, accountnum, balance):\n",
        "    self.name = name\n",
        "    self.acc_no = accountnum\n",
        "    self.bal = balance\n",
        "    self.max_trans = 10\n",
        "\n",
        "  def deposit(self, amount):\n",
        "    if amount > 0:\n",
        "      self.bal = self.bal + amount\n",
        "    else:\n",
        "      print('Invalid Amount')\n",
        "\n",
        "  def withdraw(self, amount):\n",
        "    if amount > 0 and self.bal >= amount:\n",
        "      self.bal = self.bal - amount\n",
        "    elif amount <= 0:\n",
        "      print('Invalid Amount')\n",
        "    else:\n",
        "      print('Insufficient Amount')\n",
        "\n",
        "  def __str__(self):\n",
        "    return f'Account number {self.acc_no} belongs to {self.name} and balance in the account is INR {self.bal}'\n",
        "\n",
        "class SavingsAccount(Account):\n",
        "\n",
        "  def get_interest(self):\n",
        "    interest = self.bal * 0.03\n",
        "    return f'The interest on {self.bal} is {interest}'\n",
        "\n",
        "class CurrentAccount(Account):\n",
        "\n",
        "  def __init__(self, name, accountnum, balance, gender):\n",
        "    super().__init__(name, accountnum, balance)\n",
        "    self.max_trans = 500\n",
        "    self.gender = gender\n",
        "\n",
        "  def check_balance(self):\n",
        "    return self.bal\n",
        "\n",
        "  def get_interest(self):\n",
        "    interest = self.bal * 0\n",
        "    return f'The interest on {self.bal} is {interest}'"
      ],
      "metadata": {
        "id": "1dDCZygIiIir"
      },
      "execution_count": null,
      "outputs": []
    },
    {
      "cell_type": "code",
      "source": [
        "sav1 = SavingsAccount('Mansi', 400, 89000)"
      ],
      "metadata": {
        "id": "ZXLGvKlTlQfq"
      },
      "execution_count": null,
      "outputs": []
    },
    {
      "cell_type": "code",
      "source": [
        "sav1.get_interest()"
      ],
      "metadata": {
        "id": "nZs-HQNiloVz",
        "outputId": "40088f90-fd31-4aba-eb76-e0940d41981f",
        "colab": {
          "base_uri": "https://localhost:8080/",
          "height": 35
        }
      },
      "execution_count": null,
      "outputs": [
        {
          "output_type": "execute_result",
          "data": {
            "text/plain": [
              "'The interest on 89000 is 2670.0'"
            ],
            "application/vnd.google.colaboratory.intrinsic+json": {
              "type": "string"
            }
          },
          "metadata": {},
          "execution_count": 78
        }
      ]
    },
    {
      "cell_type": "code",
      "source": [],
      "metadata": {
        "id": "SgSl0RFglqrd"
      },
      "execution_count": null,
      "outputs": []
    }
  ]
}