{
  "nbformat": 4,
  "nbformat_minor": 0,
  "metadata": {
    "colab": {
      "provenance": [],
      "authorship_tag": "ABX9TyOLB6qrsM09w5qAWEazCfAu",
      "include_colab_link": true
    },
    "kernelspec": {
      "name": "python3",
      "display_name": "Python 3"
    },
    "language_info": {
      "name": "python"
    }
  },
  "cells": [
    {
      "cell_type": "markdown",
      "metadata": {
        "id": "view-in-github",
        "colab_type": "text"
      },
      "source": [
        "<a href=\"https://colab.research.google.com/github/madanjha/PythonDS/blob/main/LinearAlgebra.ipynb\" target=\"_parent\"><img src=\"https://colab.research.google.com/assets/colab-badge.svg\" alt=\"Open In Colab\"/></a>"
      ]
    },
    {
      "cell_type": "markdown",
      "source": [
        "**Liner Algebra Hands-on session:**"
      ],
      "metadata": {
        "id": "B5u1vSVkZTiy"
      }
    },
    {
      "cell_type": "code",
      "execution_count": 10,
      "metadata": {
        "id": "KlNV3RzrVhlz"
      },
      "outputs": [],
      "source": [
        "import numpy as np\n",
        "import scipy.linalg as la\n",
        "import matplotlib.pyplot as plt"
      ]
    },
    {
      "cell_type": "markdown",
      "source": [
        "**1. Matrix Operations**\n",
        "\n",
        "Q1: Basic Matrix Operations\n",
        "\n",
        "Create two matrices:\n",
        "\n",
        "A (3x2) = [[1, 2], [3, 4], [5, 6]]\n",
        "\n",
        "B (2x3) = [[7, 8, 9], [10, 11, 12]]\n",
        "\n",
        "Perform the following operations:\n",
        "\n",
        "Matrix Addition: Compute A + B (if possible).\n",
        "\n",
        "Matrix Multiplication: Compute the product of matrices A * B (if possible).\n",
        "\n",
        "Scalar Multiplication: Multiply matrix A by a scalar k = 5.\n"
      ],
      "metadata": {
        "id": "1-fgNtSktgdL"
      }
    },
    {
      "cell_type": "code",
      "source": [
        "A=np.random.randint(1,5,size=(3,2))\n",
        "B=np.random.randint(1,5,size=(2,3))\n",
        "print(A)\n",
        "print(B)\n",
        "\n",
        "\n"
      ],
      "metadata": {
        "colab": {
          "base_uri": "https://localhost:8080/"
        },
        "id": "YObg4QRNtlJt",
        "outputId": "5f758983-7165-48ba-8cff-49a804636ef8"
      },
      "execution_count": 13,
      "outputs": [
        {
          "output_type": "stream",
          "name": "stdout",
          "text": [
            "[[2 4]\n",
            " [3 2]\n",
            " [1 4]]\n",
            "[[3 1 1]\n",
            " [3 3 2]]\n"
          ]
        }
      ]
    },
    {
      "cell_type": "code",
      "source": [
        "np.add(A,B)"
      ],
      "metadata": {
        "colab": {
          "base_uri": "https://localhost:8080/",
          "height": 141
        },
        "id": "0i0JSe-Qv8xY",
        "outputId": "60a2cf7d-ca9a-4fdc-f80e-b0b4c652c83a"
      },
      "execution_count": 14,
      "outputs": [
        {
          "output_type": "error",
          "ename": "ValueError",
          "evalue": "operands could not be broadcast together with shapes (3,2) (2,3) ",
          "traceback": [
            "\u001b[0;31m---------------------------------------------------------------------------\u001b[0m",
            "\u001b[0;31mValueError\u001b[0m                                Traceback (most recent call last)",
            "\u001b[0;32m<ipython-input-14-31862621fd08>\u001b[0m in \u001b[0;36m<cell line: 1>\u001b[0;34m()\u001b[0m\n\u001b[0;32m----> 1\u001b[0;31m \u001b[0mnp\u001b[0m\u001b[0;34m.\u001b[0m\u001b[0madd\u001b[0m\u001b[0;34m(\u001b[0m\u001b[0mA\u001b[0m\u001b[0;34m,\u001b[0m\u001b[0mB\u001b[0m\u001b[0;34m)\u001b[0m\u001b[0;34m\u001b[0m\u001b[0;34m\u001b[0m\u001b[0m\n\u001b[0m",
            "\u001b[0;31mValueError\u001b[0m: operands could not be broadcast together with shapes (3,2) (2,3) "
          ]
        }
      ]
    },
    {
      "cell_type": "code",
      "source": [
        "np.dot(A,B)"
      ],
      "metadata": {
        "colab": {
          "base_uri": "https://localhost:8080/"
        },
        "id": "j3JcR5JJwGQf",
        "outputId": "f7a1699f-e62e-4ab3-d577-8af831cbb0f0"
      },
      "execution_count": 15,
      "outputs": [
        {
          "output_type": "execute_result",
          "data": {
            "text/plain": [
              "array([[18, 14, 10],\n",
              "       [15,  9,  7],\n",
              "       [15, 13,  9]])"
            ]
          },
          "metadata": {},
          "execution_count": 15
        }
      ]
    },
    {
      "cell_type": "code",
      "source": [
        "np.cross(A,B)"
      ],
      "metadata": {
        "colab": {
          "base_uri": "https://localhost:8080/",
          "height": 262
        },
        "id": "K-hIy5aYwJ5V",
        "outputId": "97c94fe1-58c4-4449-a9f9-79af9f56c7de"
      },
      "execution_count": 16,
      "outputs": [
        {
          "output_type": "error",
          "ename": "ValueError",
          "evalue": "shape mismatch: objects cannot be broadcast to a single shape.  Mismatch is between arg 0 with shape (3,) and arg 1 with shape (2,).",
          "traceback": [
            "\u001b[0;31m---------------------------------------------------------------------------\u001b[0m",
            "\u001b[0;31mValueError\u001b[0m                                Traceback (most recent call last)",
            "\u001b[0;32m<ipython-input-16-573f62fe00ac>\u001b[0m in \u001b[0;36m<cell line: 1>\u001b[0;34m()\u001b[0m\n\u001b[0;32m----> 1\u001b[0;31m \u001b[0mnp\u001b[0m\u001b[0;34m.\u001b[0m\u001b[0mcross\u001b[0m\u001b[0;34m(\u001b[0m\u001b[0mA\u001b[0m\u001b[0;34m,\u001b[0m\u001b[0mB\u001b[0m\u001b[0;34m)\u001b[0m\u001b[0;34m\u001b[0m\u001b[0;34m\u001b[0m\u001b[0m\n\u001b[0m",
            "\u001b[0;32m/usr/local/lib/python3.10/dist-packages/numpy/core/numeric.py\u001b[0m in \u001b[0;36mcross\u001b[0;34m(a, b, axisa, axisb, axisc, axis)\u001b[0m\n\u001b[1;32m   1597\u001b[0m \u001b[0;34m\u001b[0m\u001b[0m\n\u001b[1;32m   1598\u001b[0m     \u001b[0;31m# Create the output array\u001b[0m\u001b[0;34m\u001b[0m\u001b[0;34m\u001b[0m\u001b[0m\n\u001b[0;32m-> 1599\u001b[0;31m     \u001b[0mshape\u001b[0m \u001b[0;34m=\u001b[0m \u001b[0mbroadcast\u001b[0m\u001b[0;34m(\u001b[0m\u001b[0ma\u001b[0m\u001b[0;34m[\u001b[0m\u001b[0;34m...\u001b[0m\u001b[0;34m,\u001b[0m \u001b[0;36m0\u001b[0m\u001b[0;34m]\u001b[0m\u001b[0;34m,\u001b[0m \u001b[0mb\u001b[0m\u001b[0;34m[\u001b[0m\u001b[0;34m...\u001b[0m\u001b[0;34m,\u001b[0m \u001b[0;36m0\u001b[0m\u001b[0;34m]\u001b[0m\u001b[0;34m)\u001b[0m\u001b[0;34m.\u001b[0m\u001b[0mshape\u001b[0m\u001b[0;34m\u001b[0m\u001b[0;34m\u001b[0m\u001b[0m\n\u001b[0m\u001b[1;32m   1600\u001b[0m     \u001b[0;32mif\u001b[0m \u001b[0ma\u001b[0m\u001b[0;34m.\u001b[0m\u001b[0mshape\u001b[0m\u001b[0;34m[\u001b[0m\u001b[0;34m-\u001b[0m\u001b[0;36m1\u001b[0m\u001b[0;34m]\u001b[0m \u001b[0;34m==\u001b[0m \u001b[0;36m3\u001b[0m \u001b[0;32mor\u001b[0m \u001b[0mb\u001b[0m\u001b[0;34m.\u001b[0m\u001b[0mshape\u001b[0m\u001b[0;34m[\u001b[0m\u001b[0;34m-\u001b[0m\u001b[0;36m1\u001b[0m\u001b[0;34m]\u001b[0m \u001b[0;34m==\u001b[0m \u001b[0;36m3\u001b[0m\u001b[0;34m:\u001b[0m\u001b[0;34m\u001b[0m\u001b[0;34m\u001b[0m\u001b[0m\n\u001b[1;32m   1601\u001b[0m         \u001b[0mshape\u001b[0m \u001b[0;34m+=\u001b[0m \u001b[0;34m(\u001b[0m\u001b[0;36m3\u001b[0m\u001b[0;34m,\u001b[0m\u001b[0;34m)\u001b[0m\u001b[0;34m\u001b[0m\u001b[0;34m\u001b[0m\u001b[0m\n",
            "\u001b[0;31mValueError\u001b[0m: shape mismatch: objects cannot be broadcast to a single shape.  Mismatch is between arg 0 with shape (3,) and arg 1 with shape (2,)."
          ]
        }
      ]
    },
    {
      "cell_type": "markdown",
      "source": [
        "**2. Dot and Cross Product**\n",
        "**Q2: Dot and Cross Product**\n",
        "Create two 3D vectors:\n",
        "v1 = [1, 2, 3]\n",
        "v2 = [4, 5, 6]\n",
        "Compute the following:\n",
        "Dot Product: Calculate the dot product of v1 and v2.\n",
        "Cross Product: Calculate the cross product of v1 and v2.\n"
      ],
      "metadata": {
        "id": "1GuzMAmPwTJD"
      }
    },
    {
      "cell_type": "code",
      "source": [
        "v1=np.array([1,2,3])\n",
        "v2=np.array([4,5,6])\n",
        "print(v1)\n",
        "print(v2)\n"
      ],
      "metadata": {
        "colab": {
          "base_uri": "https://localhost:8080/"
        },
        "id": "QqExIJ9awcB9",
        "outputId": "e1949ada-ddf6-4722-f32c-0d8b870ff63f"
      },
      "execution_count": 17,
      "outputs": [
        {
          "output_type": "stream",
          "name": "stdout",
          "text": [
            "[1 2 3]\n",
            "[4 5 6]\n"
          ]
        }
      ]
    },
    {
      "cell_type": "code",
      "source": [
        "np.cross(v1,v2)"
      ],
      "metadata": {
        "colab": {
          "base_uri": "https://localhost:8080/"
        },
        "id": "9MXzwCfqwoci",
        "outputId": "07de5fb7-26c9-4f9f-dc02-d7900e4fb14d"
      },
      "execution_count": 18,
      "outputs": [
        {
          "output_type": "execute_result",
          "data": {
            "text/plain": [
              "array([-3,  6, -3])"
            ]
          },
          "metadata": {},
          "execution_count": 18
        }
      ]
    },
    {
      "cell_type": "code",
      "source": [
        "np.dot(v1,v2)"
      ],
      "metadata": {
        "colab": {
          "base_uri": "https://localhost:8080/"
        },
        "id": "poOzMhcTwrSP",
        "outputId": "25cc2814-8a52-465f-8ba5-43f2f8636769"
      },
      "execution_count": 19,
      "outputs": [
        {
          "output_type": "execute_result",
          "data": {
            "text/plain": [
              "32"
            ]
          },
          "metadata": {},
          "execution_count": 19
        }
      ]
    },
    {
      "cell_type": "markdown",
      "source": [
        "## **3. Determinant**\n",
        "Q3: Determinant of a Matrix **bold text**\n",
        "\n",
        "Given the matrix:\n",
        "A = [[4, 7], [2, 6]]\n",
        "\n",
        "Calculate the determinant of the matrix A. Ensure you check if the determinant is non-zero, as this will affect the next operation (inverse)"
      ],
      "metadata": {
        "id": "vYFPTZb-wwHs"
      }
    },
    {
      "cell_type": "code",
      "source": [
        "A=np.array([[4,7],[2,6]])\n",
        "print(A)"
      ],
      "metadata": {
        "colab": {
          "base_uri": "https://localhost:8080/"
        },
        "id": "pQF3_oLHw520",
        "outputId": "deb5ebbe-7cf7-4e80-f067-595151dff2d1"
      },
      "execution_count": 20,
      "outputs": [
        {
          "output_type": "stream",
          "name": "stdout",
          "text": [
            "[[4 7]\n",
            " [2 6]]\n"
          ]
        }
      ]
    },
    {
      "cell_type": "code",
      "source": [
        "np.linalg.det(A)\n"
      ],
      "metadata": {
        "colab": {
          "base_uri": "https://localhost:8080/"
        },
        "id": "i7pfv8AFxApP",
        "outputId": "581fe5a4-1372-4873-c69a-8233b40e8bdd"
      },
      "execution_count": 21,
      "outputs": [
        {
          "output_type": "execute_result",
          "data": {
            "text/plain": [
              "10.000000000000002"
            ]
          },
          "metadata": {},
          "execution_count": 21
        }
      ]
    },
    {
      "cell_type": "code",
      "source": [
        "Ainv=np.linalg.inv(A)\n",
        "print(Ainv)"
      ],
      "metadata": {
        "colab": {
          "base_uri": "https://localhost:8080/"
        },
        "id": "0XN6est0xP03",
        "outputId": "fa92ff7f-b40a-4f2e-c456-6c22deca3f39"
      },
      "execution_count": 23,
      "outputs": [
        {
          "output_type": "stream",
          "name": "stdout",
          "text": [
            "[[ 0.6 -0.7]\n",
            " [-0.2  0.4]]\n"
          ]
        }
      ]
    },
    {
      "cell_type": "markdown",
      "source": [
        "**4. Transpose**\n",
        "**Q4: Transpose of a Matrix**\n",
        "\n",
        "Given the matrix:\n",
        "\n",
        "A = [[1, 2, 5], [1,3, 4], [4 ,5, 6]]\n",
        "\n",
        "Compute the transpose of matrix A. (The transpose of a matrix swaps its rows and columns.)\n"
      ],
      "metadata": {
        "id": "naPVnQXzxi-3"
      }
    },
    {
      "cell_type": "code",
      "source": [
        "A=np.array([[1,2,5],[1,3,4],[4,5,6]])\n",
        "print(A)"
      ],
      "metadata": {
        "colab": {
          "base_uri": "https://localhost:8080/"
        },
        "id": "APYIlGsnxsbp",
        "outputId": "68baeef1-13d3-455a-ae2a-d4ecc2d7f859"
      },
      "execution_count": 24,
      "outputs": [
        {
          "output_type": "stream",
          "name": "stdout",
          "text": [
            "[[1 2 5]\n",
            " [1 3 4]\n",
            " [4 5 6]]\n"
          ]
        }
      ]
    },
    {
      "cell_type": "code",
      "source": [
        "A_det=np.linalg.det(A)\n",
        "print(A_det)"
      ],
      "metadata": {
        "colab": {
          "base_uri": "https://localhost:8080/"
        },
        "id": "1sYku1KyyAJa",
        "outputId": "5f41ebf2-30d7-48fe-fb07-661e331f6126"
      },
      "execution_count": 26,
      "outputs": [
        {
          "output_type": "stream",
          "name": "stdout",
          "text": [
            "-17.0\n"
          ]
        }
      ]
    },
    {
      "cell_type": "code",
      "source": [
        "Atranpose=np.transpose(A)\n",
        "print(Atranpose)"
      ],
      "metadata": {
        "colab": {
          "base_uri": "https://localhost:8080/"
        },
        "id": "-219Stktx06E",
        "outputId": "d51a8923-2a57-462a-ed9f-3f2e8b01209d"
      },
      "execution_count": 25,
      "outputs": [
        {
          "output_type": "stream",
          "name": "stdout",
          "text": [
            "[[1 1 4]\n",
            " [2 3 5]\n",
            " [5 4 6]]\n"
          ]
        }
      ]
    },
    {
      "cell_type": "markdown",
      "source": [
        "**5. Inverse**\n",
        "**Q5: Inverse of a Matrix**\n",
        "\n",
        "Given the matrix in question  3:\n",
        "\n",
        "A = [[1, 2, 5], [1,3, 4], [4 ,5, 6]]\n",
        "Compute the inverse of matrix A (if it exists).\n",
        "You should:\n",
        "First calculate the determinant of the matrix.\n",
        "If the determinant is non-zero, calculate the inverse of the matrix\n"
      ],
      "metadata": {
        "id": "eYv8qbO3yJzm"
      }
    },
    {
      "cell_type": "code",
      "source": [
        "A_matx=np.array([[1,2,5],[1,3,4],[4,5,6]])\n",
        "print(A_matx)"
      ],
      "metadata": {
        "colab": {
          "base_uri": "https://localhost:8080/"
        },
        "id": "TmxpDR4LyXNZ",
        "outputId": "eee88673-9558-4903-f7ef-ddecc0985304"
      },
      "execution_count": 27,
      "outputs": [
        {
          "output_type": "stream",
          "name": "stdout",
          "text": [
            "[[1 2 5]\n",
            " [1 3 4]\n",
            " [4 5 6]]\n"
          ]
        }
      ]
    },
    {
      "cell_type": "code",
      "source": [
        "Adet=np.linalg.det(A_matx)\n",
        "print(Adet)"
      ],
      "metadata": {
        "colab": {
          "base_uri": "https://localhost:8080/"
        },
        "id": "F-TcYtEwyfVu",
        "outputId": "065bc5df-66c4-46a0-b027-505d1e657c37"
      },
      "execution_count": 28,
      "outputs": [
        {
          "output_type": "stream",
          "name": "stdout",
          "text": [
            "-17.0\n"
          ]
        }
      ]
    },
    {
      "cell_type": "code",
      "source": [
        "a_inv=np.linalg.inv(A_matx)\n",
        "print(a_inv)"
      ],
      "metadata": {
        "colab": {
          "base_uri": "https://localhost:8080/"
        },
        "id": "3j_f5KNEymAr",
        "outputId": "7c7208ee-633c-4656-99e1-33b928d93ea7"
      },
      "execution_count": 32,
      "outputs": [
        {
          "output_type": "stream",
          "name": "stdout",
          "text": [
            "[[ 0.11764706 -0.76470588  0.41176471]\n",
            " [-0.58823529  0.82352941 -0.05882353]\n",
            " [ 0.41176471 -0.17647059 -0.05882353]]\n"
          ]
        }
      ]
    },
    {
      "cell_type": "markdown",
      "source": [
        "**Rank of a Matrix**\n",
        "\n",
        "**Q6: Compute the Rank of a Matrix**\n",
        "\n",
        "Given the matrix:\n",
        "\n",
        "A = [[1, 2], [2, 4], [3, 6]]\n"
      ],
      "metadata": {
        "id": "97EiRBfvyykb"
      }
    },
    {
      "cell_type": "code",
      "source": [
        "Mtx_A=np.array([[1,2],[2,4],[3,6]])\n",
        "print(Mtx_A)\n",
        "rank=np.linalg.matrix_rank(Mtx_A)\n",
        "print(rank)\n"
      ],
      "metadata": {
        "colab": {
          "base_uri": "https://localhost:8080/"
        },
        "id": "kHsHIfbyy-Bu",
        "outputId": "a3e0ace1-deab-4da5-badc-ca6be66aa5d8"
      },
      "execution_count": 33,
      "outputs": [
        {
          "output_type": "stream",
          "name": "stdout",
          "text": [
            "[[1 2]\n",
            " [2 4]\n",
            " [3 6]]\n",
            "1\n"
          ]
        }
      ]
    },
    {
      "cell_type": "markdown",
      "source": [
        "\n",
        "**Q7: Eigenvalues and Eigenvectors**\n",
        "\n",
        "Given the matrix:\n",
        "\n",
        "A = [[4, -2], [1, 1]]\n",
        "\n",
        "Compute the eigenvalues and eigenvectors of matrix A. Verify the result by multiplying the matrix A by each eigenvector and checking if it corresponds to the eigenvalue times the eigenvector"
      ],
      "metadata": {
        "id": "Z9yU9Lrb0de0"
      }
    },
    {
      "cell_type": "code",
      "source": [
        "A_mtx=np.array([[4,-2],[1,1]])\n",
        "print(A_mtx)"
      ],
      "metadata": {
        "colab": {
          "base_uri": "https://localhost:8080/"
        },
        "id": "ezaydSAF0pHV",
        "outputId": "db8fea83-b4e4-4fb2-88be-64d00d059d8e"
      },
      "execution_count": 34,
      "outputs": [
        {
          "output_type": "stream",
          "name": "stdout",
          "text": [
            "[[ 4 -2]\n",
            " [ 1  1]]\n"
          ]
        }
      ]
    },
    {
      "cell_type": "code",
      "source": [
        "EigVal=np.linalg.eigvals(A_mtx)\n",
        "print(EigVal)"
      ],
      "metadata": {
        "colab": {
          "base_uri": "https://localhost:8080/"
        },
        "id": "fYlm5X4V0wMv",
        "outputId": "f3778f75-a4d2-41b9-8a3e-be53953d7a51"
      },
      "execution_count": 35,
      "outputs": [
        {
          "output_type": "stream",
          "name": "stdout",
          "text": [
            "[3. 2.]\n"
          ]
        }
      ]
    },
    {
      "cell_type": "code",
      "source": [
        "EigVect=np.linalg.eig(A_mtx)\n",
        "print(EigVect)"
      ],
      "metadata": {
        "colab": {
          "base_uri": "https://localhost:8080/"
        },
        "id": "1VAlYI7W02xi",
        "outputId": "d3f19c21-d467-4573-d999-0b825582d264"
      },
      "execution_count": 36,
      "outputs": [
        {
          "output_type": "stream",
          "name": "stdout",
          "text": [
            "EigResult(eigenvalues=array([3., 2.]), eigenvectors=array([[0.89442719, 0.70710678],\n",
            "       [0.4472136 , 0.70710678]]))\n"
          ]
        }
      ]
    },
    {
      "cell_type": "markdown",
      "source": [
        "**8. Solving Linear Systems Using Matrix Operations**\n",
        "\n",
        "**Q8: Solve a System of Linear Equations**\n",
        "\n",
        "Solve the system of linear equations:\n",
        "\n",
        "3x+2y=16\n",
        "\n",
        "2x−y=4\n",
        "\n",
        "You should use the coefficient matrix and the constant matrix to solve for x and"
      ],
      "metadata": {
        "id": "L6ufmyhn1NyU"
      }
    },
    {
      "cell_type": "code",
      "source": [
        "Xval=np.array([[3,2],[2,-1]])\n",
        "Bval=np.array([16,4])\n",
        "print(Xval)\n",
        "print(Bval)"
      ],
      "metadata": {
        "colab": {
          "base_uri": "https://localhost:8080/"
        },
        "id": "wbbvIne61aVT",
        "outputId": "d3f82886-28c8-4585-e5b0-a18c37db1e94"
      },
      "execution_count": 39,
      "outputs": [
        {
          "output_type": "stream",
          "name": "stdout",
          "text": [
            "[[ 3  2]\n",
            " [ 2 -1]]\n",
            "[16  4]\n"
          ]
        }
      ]
    },
    {
      "cell_type": "code",
      "source": [
        "sol=np.linalg.solve(Xval,Bval)\n",
        "print(sol)"
      ],
      "metadata": {
        "colab": {
          "base_uri": "https://localhost:8080/"
        },
        "id": "xEotRq643ZYk",
        "outputId": "5ad30b1f-fdef-4779-e1e1-a561cec43311"
      },
      "execution_count": 40,
      "outputs": [
        {
          "output_type": "stream",
          "name": "stdout",
          "text": [
            "[3.42857143 2.85714286]\n"
          ]
        }
      ]
    }
  ]
}