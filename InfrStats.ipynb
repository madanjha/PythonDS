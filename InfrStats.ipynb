{
  "nbformat": 4,
  "nbformat_minor": 0,
  "metadata": {
    "colab": {
      "provenance": [],
      "authorship_tag": "ABX9TyNhIQMvdaZf9MLvuU/XyRpd",
      "include_colab_link": true
    },
    "kernelspec": {
      "name": "python3",
      "display_name": "Python 3"
    },
    "language_info": {
      "name": "python"
    }
  },
  "cells": [
    {
      "cell_type": "markdown",
      "metadata": {
        "id": "view-in-github",
        "colab_type": "text"
      },
      "source": [
        "<a href=\"https://colab.research.google.com/github/madanjha/PythonDS/blob/main/InfrStats.ipynb\" target=\"_parent\"><img src=\"https://colab.research.google.com/assets/colab-badge.svg\" alt=\"Open In Colab\"/></a>"
      ]
    },
    {
      "cell_type": "code",
      "execution_count": null,
      "metadata": {
        "colab": {
          "base_uri": "https://localhost:8080/"
        },
        "id": "-z-fdUbAMesZ",
        "outputId": "531875d1-9856-430e-e967-2a81aac22016"
      },
      "outputs": [
        {
          "output_type": "stream",
          "name": "stdout",
          "text": [
            "10.954451150103322\n"
          ]
        }
      ],
      "source": [
        "from scipy.stats import ttest_1samp\n",
        "import numpy as np\n",
        "sample_mean=140\n",
        "populationmean=100\n",
        "std=20\n",
        "n=30\n",
        "t_stat=(sample_mean-populationmean)/(std/np.sqrt(n))\n",
        "print(t_stat)"
      ]
    },
    {
      "cell_type": "code",
      "source": [
        "import numpy as np\n",
        "from scipy.stats import t\n",
        "mu=70\n",
        "ne_school_sc=[50,59,78,98,75,69]\n",
        "#t_stat=(sample_mean-populationmean)/(std/np.sqrt(n))\n",
        "#print(t_stat)\n",
        "p_value=t.cdf(t_stat,df=n-1)\n",
        "print(p_value)\n"
      ],
      "metadata": {
        "id": "f8vaKIfus7ZW",
        "colab": {
          "base_uri": "https://localhost:8080/",
          "height": 201
        },
        "outputId": "7f64ff50-5bce-48f0-d2c1-dc1ffdf74562"
      },
      "execution_count": 5,
      "outputs": [
        {
          "output_type": "error",
          "ename": "NameError",
          "evalue": "name 't_stat' is not defined",
          "traceback": [
            "\u001b[0;31m---------------------------------------------------------------------------\u001b[0m",
            "\u001b[0;31mNameError\u001b[0m                                 Traceback (most recent call last)",
            "\u001b[0;32m<ipython-input-5-01a4fced0fd1>\u001b[0m in \u001b[0;36m<cell line: 7>\u001b[0;34m()\u001b[0m\n\u001b[1;32m      5\u001b[0m \u001b[0;31m#t_stat=(sample_mean-populationmean)/(std/np.sqrt(n))\u001b[0m\u001b[0;34m\u001b[0m\u001b[0;34m\u001b[0m\u001b[0m\n\u001b[1;32m      6\u001b[0m \u001b[0;31m#print(t_stat)\u001b[0m\u001b[0;34m\u001b[0m\u001b[0;34m\u001b[0m\u001b[0m\n\u001b[0;32m----> 7\u001b[0;31m \u001b[0mp_value\u001b[0m\u001b[0;34m=\u001b[0m\u001b[0mt\u001b[0m\u001b[0;34m.\u001b[0m\u001b[0mcdf\u001b[0m\u001b[0;34m(\u001b[0m\u001b[0mt_stat\u001b[0m\u001b[0;34m,\u001b[0m\u001b[0mdf\u001b[0m\u001b[0;34m=\u001b[0m\u001b[0mn\u001b[0m\u001b[0;34m-\u001b[0m\u001b[0;36m1\u001b[0m\u001b[0;34m)\u001b[0m\u001b[0;34m\u001b[0m\u001b[0;34m\u001b[0m\u001b[0m\n\u001b[0m\u001b[1;32m      8\u001b[0m \u001b[0mprint\u001b[0m\u001b[0;34m(\u001b[0m\u001b[0mp_value\u001b[0m\u001b[0;34m)\u001b[0m\u001b[0;34m\u001b[0m\u001b[0;34m\u001b[0m\u001b[0m\n",
            "\u001b[0;31mNameError\u001b[0m: name 't_stat' is not defined"
          ]
        }
      ]
    },
    {
      "cell_type": "code",
      "source": [
        "import numpy as np\n",
        "from scipy.stats import stats\n",
        "np.random.seed(10)\n",
        "sc_vb=np.random.normal(loc=75, scale=6,size=30)\n",
        "sc_sent=np.random.normal(loc=70, scale=6,size=30)\n",
        "print(sc_vb)\n",
        "print (sc_sent)\n",
        "t_stastices,p_value=stats.ttest_rel(sc_vb,sc_sent)\n",
        "print(t_stastices)\n",
        "print(p_value)"
      ],
      "metadata": {
        "colab": {
          "base_uri": "https://localhost:8080/"
        },
        "id": "qhZOrEPnip46",
        "outputId": "92d6692e-ec53-4bbf-cc59-afcd349190df"
      },
      "execution_count": 9,
      "outputs": [
        {
          "output_type": "stream",
          "name": "stdout",
          "text": [
            "[82.98951902 79.29167385 65.72759825 74.9496969  78.72801584 70.67948664\n",
            " 76.59306951 75.65129115 75.02574859 73.95239874 77.59815714 82.21822424\n",
            " 69.20960598 81.16964447 76.37178078 77.67082568 68.18038673 75.81082127\n",
            " 83.90722201 68.52117069 63.13363032 64.53976622 76.59642098 89.30980398\n",
            " 81.74214752 85.03573328 75.5948953  83.38797826 73.37251207 78.67922511]\n",
            "[68.39609687 66.70414592 70.79624977 67.14314791 77.85083849 71.17007968\n",
            " 72.40125993 67.97420598 77.53883358 65.60818299 73.96138931 67.89476865\n",
            " 64.36339984 67.0639767  65.17245315 68.72381417 67.96515852 71.87301962\n",
            " 73.39091602 69.11547845 69.84456798 71.73456522 66.76072557 74.24896012\n",
            " 75.05334843 71.22148478 84.36822199 75.50475363 69.32636517 67.82691732]\n",
            "4.310934370598974\n",
            "0.00017099470092155332\n"
          ]
        },
        {
          "output_type": "stream",
          "name": "stderr",
          "text": [
            "<ipython-input-9-af6d57d6f387>:8: DeprecationWarning: Please import `ttest_rel` from the `scipy.stats` namespace; the `scipy.stats.stats` namespace is deprecated and will be removed in SciPy 2.0.0.\n",
            "  t_stastices,p_value=stats.ttest_rel(sc_vb,sc_sent)\n"
          ]
        }
      ]
    },
    {
      "cell_type": "markdown",
      "source": [],
      "metadata": {
        "id": "qW2fnwMDrBtD"
      }
    },
    {
      "cell_type": "code",
      "source": [
        "import numpy as np\n",
        "from scipy.stats import norm\n",
        "import matplotlib.pyplot as plt\n",
        "popul_mean=80\n",
        "sample_mean=78\n",
        "n=40\n",
        "pop_std_dev=2.5\n",
        "alpha=0.05\n",
        "z_stastistics=(sample_mean-popul_mean)/(pop_std_dev/np.sqrt(n))\n",
        "print(z_stastistics)\n",
        "p_value=2*norm.cdf(-np.abs(z_stastistics))\n",
        "print(p_value)\n",
        "if p_value<alpha:\n",
        "    print(\"Reject the null hypothesis\")\n",
        "else:\n",
        "    print(\"Fail to reject the null hypothesis\")"
      ],
      "metadata": {
        "colab": {
          "base_uri": "https://localhost:8080/"
        },
        "id": "M3c05mZVrCQQ",
        "outputId": "0845f1d3-c5f7-40e5-914a-5c37ae1a4329"
      },
      "execution_count": 15,
      "outputs": [
        {
          "output_type": "stream",
          "name": "stdout",
          "text": [
            "-5.059644256269407\n",
            "4.200393976021999e-07\n",
            "Reject the null hypothesis\n"
          ]
        }
      ]
    },
    {
      "cell_type": "code",
      "source": [
        "import numpy as np\n",
        "from statsmodels.stats.proportion import proportions_ztest\n",
        "veg_cout=960\n",
        "non_veg_cout=1860\n",
        "p_hat=veg_cout/non_veg_cout\n",
        "print(p_hat)\n",
        "n=veg_cout+non_veg_cout\n",
        "z_stastistics,p_value=proportions_ztest(count=veg_cout,nobs=n,value=0.5,alternative=\"two-sided\")\n",
        "print(z_stastistics)\n",
        "print(p_value)\n",
        "if p_value<alpha:\n",
        "    print(\"Reject the null hypothesis--veg and non-veg are not equal\")\n",
        "else:\n",
        "    print(\"Fail to reject the null hypothesis--veg and non-veg are equal\")\n",
        "#"
      ],
      "metadata": {
        "colab": {
          "base_uri": "https://localhost:8080/"
        },
        "id": "4WqvrX98xPFT",
        "outputId": "f6039d85-b105-4300-a423-afa5da04503f"
      },
      "execution_count": 20,
      "outputs": [
        {
          "output_type": "stream",
          "name": "stdout",
          "text": [
            "0.5161290322580645\n",
            "-17.88318952932993\n",
            "1.5944876191593211e-71\n",
            "Reject the null hypothesis--veg and non-veg are not equal\n"
          ]
        }
      ]
    },
    {
      "cell_type": "code",
      "source": [
        "#F-Test\n",
        "import numpy as np\n",
        "from scipy.stats import f\n",
        "lays_size=15\n",
        "kur_size=14\n",
        "sample_mean_lays=90\n",
        "sample_mean_kur=108\n",
        "alph=0.05\n",
        "var_lays=sample_mean_lays/(lays_size-1)\n",
        "var_kur=sample_mean_kur/(kur_size-1)\n",
        "f_stastistics=var_lays/var_kur\n",
        "print(f_stastistics)\n",
        "p_value=f.cdf(f_stastistics,lays_size-1,kur_size-1)\n",
        "print(p_value)\n",
        "if p_value<alph:\n",
        "    print(\"Reject the null hypothesis\")\n",
        "else:\n",
        "    print(\"Fail to reject the null hypothesis\")\n",
        "#"
      ],
      "metadata": {
        "colab": {
          "base_uri": "https://localhost:8080/"
        },
        "id": "K1hLajU65yqi",
        "outputId": "fedf6ea7-2c4d-4b97-f9a7-37725d2af8fe"
      },
      "execution_count": 23,
      "outputs": [
        {
          "output_type": "stream",
          "name": "stdout",
          "text": [
            "0.7738095238095237\n",
            "0.31952396225518054\n",
            "Fail to reject the null hypothesis\n"
          ]
        }
      ]
    }
  ]
}