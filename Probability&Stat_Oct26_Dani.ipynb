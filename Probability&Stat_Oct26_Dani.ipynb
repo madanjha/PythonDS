{
  "nbformat": 4,
  "nbformat_minor": 0,
  "metadata": {
    "colab": {
      "provenance": [],
      "include_colab_link": true
    },
    "kernelspec": {
      "name": "python3",
      "display_name": "Python 3"
    },
    "language_info": {
      "name": "python"
    }
  },
  "cells": [
    {
      "cell_type": "markdown",
      "metadata": {
        "id": "view-in-github",
        "colab_type": "text"
      },
      "source": [
        "<a href=\"https://colab.research.google.com/github/madanjha/PythonDS/blob/main/Probability%26Stat_Oct26_Dani.ipynb\" target=\"_parent\"><img src=\"https://colab.research.google.com/assets/colab-badge.svg\" alt=\"Open In Colab\"/></a>"
      ]
    },
    {
      "cell_type": "markdown",
      "source": [
        "# **Probability**"
      ],
      "metadata": {
        "id": "abHo6Ykv9cjD"
      }
    },
    {
      "cell_type": "markdown",
      "source": [
        "It is a measure of how likely an event is to occur."
      ],
      "metadata": {
        "id": "kd0LeM6U9gPS"
      }
    },
    {
      "cell_type": "markdown",
      "source": [
        "**Experiment**-> Any process or task\n",
        "\n",
        "Example: Flipping a coin, Rolling a dice, Drawing a card from a deck"
      ],
      "metadata": {
        "id": "sTn1EwNb9n2J"
      }
    },
    {
      "cell_type": "markdown",
      "source": [
        "**Event** -> It is a specific or group of outcomes from a experiment\n",
        "\n",
        "1) Simple event means 1 specific outcome like flipping a coin and getting head.\n",
        "\n",
        "2) Compound event means multiple outcomes like rolling a dice and asking for even numbers (2,4,6)."
      ],
      "metadata": {
        "id": "VYsnk-AW8Zr-"
      }
    },
    {
      "cell_type": "markdown",
      "source": [
        "**Outcome**\n",
        "\n",
        "It is like a result of a single trial of experiment.\n",
        "\n",
        "**Example**\n",
        "\n",
        "When you are going to flip a coin, the outcomes can be 'Head' or 'Tail'.\n",
        "\n",
        "When you are going to role a dice the outcomes can be '1,2,3,4,5,6'"
      ],
      "metadata": {
        "id": "ysZH1-SQ8ZoW"
      }
    },
    {
      "cell_type": "markdown",
      "source": [
        "**The probability of an event** = **Number of favourable outcomes/Total no. of outcomes**"
      ],
      "metadata": {
        "id": "69C-4CnT8ZhR"
      }
    },
    {
      "cell_type": "markdown",
      "source": [
        "**For example**\n",
        "\n",
        "1. Flipping a coin: The probability of getting a head.\n",
        "\n",
        "**P=1/2**"
      ],
      "metadata": {
        "id": "hYBF-lWw_L8X"
      }
    },
    {
      "cell_type": "markdown",
      "source": [
        "2. Rolling a dice single time: The probability of getting 3.\n",
        "\n",
        "**P=1/6**"
      ],
      "metadata": {
        "id": "6CeMkHYb_Lq8"
      }
    },
    {
      "cell_type": "markdown",
      "source": [
        "3. Rolling a dice single time: The probability of getting a number less than 4.\n",
        "\n",
        "**P=3/6=1/2**"
      ],
      "metadata": {
        "id": "iZ0dteyT_Lnp"
      }
    },
    {
      "cell_type": "markdown",
      "source": [
        "4. Taking a card from a deck: Probability of a face card.\n",
        "\n",
        "**P=12/52=3/13**"
      ],
      "metadata": {
        "id": "IQFCKsIr_Lkz"
      }
    },
    {
      "cell_type": "markdown",
      "source": [
        "# **Marginal Probability**\n",
        "\n",
        "It is the probability of single event happening without considering any other event.\n",
        "\n",
        "**Example**\n",
        "\n",
        "You are having a bag of 5 red balls and 3 blue balls.\n",
        "What is the chances of marginal probability of picking a red ball out of all.\n",
        "\n",
        "**The marginal probability of red balls = 5/8**"
      ],
      "metadata": {
        "id": "Qk1c-G21ApxI"
      }
    },
    {
      "cell_type": "markdown",
      "source": [
        "# **Joint Probability**\n",
        "\n",
        "It is the probability of two or more events happening at the same time.\n",
        "Its just like \"What are the chances of this and that happening at the same time\"\n",
        "\n",
        "**Example**\n",
        "\n",
        "If you roll 2 dice at the same time, what is the probability of both dice showing 3?\n",
        "\n",
        "Each dice has 6 sides, so the probability of a 3 on one dice is 1/6\n",
        "\n",
        "**So the probability of 3 on both dice = 1/6*1/6 = 1/36**"
      ],
      "metadata": {
        "id": "xqaISrxLApjy"
      }
    },
    {
      "cell_type": "markdown",
      "source": [
        "# **Conditional Probability**\n",
        "\n",
        "It is probability of an event happening given that another event is already happened.\n",
        "\n",
        "**Example**\n",
        "\n",
        "Suppose you know that a card drawn from a deck is a face card, what is the probability that this card is a king?\n",
        "\n",
        "There are 12 face cards (4jack, 4kings, 4queens)\n",
        "\n",
        "**The probability of a king cards = 4/12 = 1/3**"
      ],
      "metadata": {
        "id": "_Ex72aqtApgZ"
      }
    },
    {
      "cell_type": "markdown",
      "source": [
        "**A probability distribution describes how the probabilities are distributed over the possible outcomes of a random variable.**\n",
        "\n",
        "Types of probability distributions:\n",
        "\n",
        "**1) Discrete probability distribution.**\n",
        "\n",
        "Definition: Deals with discrete random variables, which take on specific, separate values, often integers.\n",
        "\n",
        "**Examples:**\n",
        "\n",
        "Rolling a die: The outcome can only be 1,2,3,4,5 or 6.\n",
        "\n",
        "Flipping a coin: The outcome can be heads or tails only."
      ],
      "metadata": {
        "id": "vMrVs66OH4O5"
      }
    },
    {
      "cell_type": "markdown",
      "source": [
        "**Common Discrete Distributions**\n",
        "\n",
        "**1) Binomial Distribution:**\n",
        "\n",
        "Definition: Models the number of successes in a fixed number of independent trials, where each trial has two possible outcome (success or failure).\n",
        "\n",
        "**Example**\n",
        "\n",
        "If you flip a coin 10 times, the binomial distribution can model the probability of getting exactly 7 heads."
      ],
      "metadata": {
        "id": "RYCQ2XKLH4Lj"
      }
    },
    {
      "cell_type": "markdown",
      "source": [
        "P(X=k)=(n choose k).p^k.(1-p)^n-k"
      ],
      "metadata": {
        "id": "4wQxDPXDH4I1"
      }
    },
    {
      "cell_type": "markdown",
      "source": [
        "Suppose you have a fair coin, and you toss it 3 times. You want to find the probability of getting exactly 2 heads."
      ],
      "metadata": {
        "id": "mht0byz-Llue"
      }
    },
    {
      "cell_type": "markdown",
      "source": [
        "n= 3 (number of trials)\n",
        "\n",
        "p= 0.5 (probability of success i.e., getting heads)\n",
        "\n",
        "k=2 (number of heads you want)"
      ],
      "metadata": {
        "id": "n1Z0Fd_1Llq-"
      }
    },
    {
      "cell_type": "markdown",
      "source": [
        "(n/k) is the number of ways to choose k successes from n trials (the binomial coefficient)"
      ],
      "metadata": {
        "id": "VWl62qNhLloe"
      }
    },
    {
      "cell_type": "markdown",
      "source": [
        "P(X=2)= (3 choose 2).(0.5)^2.(1-0.5)^3-2"
      ],
      "metadata": {
        "id": "41znntYXMvP7"
      }
    },
    {
      "cell_type": "markdown",
      "source": [
        "(3 choose 2) = 3!/2!(3-2)!"
      ],
      "metadata": {
        "id": "CEYnvTL0MvML"
      }
    },
    {
      "cell_type": "markdown",
      "source": [
        "n choices for the 1st item, n-1 choices for the 2nd item.\n",
        "\n",
        "This means the total number of ways to pick and arrange k items from n would be:\n",
        "\n",
        "Number of ordered arrangements= n.(n-1).(n-2)......(n-k+1)\n",
        "\n",
        "This expression can be written as n!/(n-k)!\n",
        "\n",
        "Final formula-> the total number of combinations(ways to choose k items from n) = n!/k!(n-k)!"
      ],
      "metadata": {
        "id": "I6OhJKYlPuTh"
      }
    },
    {
      "cell_type": "markdown",
      "source": [
        "P(X=2)=3!/2!(3-2)! x (0.5)^2 x (0.5)^1"
      ],
      "metadata": {
        "id": "D1rykDRKPuQB"
      }
    },
    {
      "cell_type": "markdown",
      "source": [
        "P(X=2)=3x0.125 = 0.375"
      ],
      "metadata": {
        "id": "89hldF44PuNu"
      }
    },
    {
      "cell_type": "markdown",
      "source": [
        "The probability of getting exactly 2 heads in 3 tosses of a fair coin is 0.375 or 37.5%"
      ],
      "metadata": {
        "id": "jSIDAfuqSJv5"
      }
    },
    {
      "cell_type": "markdown",
      "source": [
        "**2) Continuous Probability distribution**\n",
        "\n",
        "Definition: Deals with continuous random variables, which can take any value within a given range.\n",
        "\n",
        "Example\n",
        "\n",
        "Height of students: A student's height can be any value within a range, like 150cm to 160cm.\n",
        "\n",
        "Time to complete a task: The time can vary continuously, like 10.5 min or 12.3 min."
      ],
      "metadata": {
        "id": "0zDtg_HbZCjn"
      }
    },
    {
      "cell_type": "markdown",
      "source": [
        "# **Common continuous distributions**"
      ],
      "metadata": {
        "id": "jXmL6_KzbR3Q"
      }
    },
    {
      "cell_type": "markdown",
      "source": [
        "**1) Normal Distribution (Gaussian)**\n",
        "\n",
        "Definition: A bell shaped curve where most of the data points are clustered around the mean.\n",
        "\n",
        "Example: The heights of students in a class often follow a normal distribution, with most students being of average height and fewer students being much shorter or taller.\n",
        "\n",
        "**2) Uniform distribution**\n",
        "\n",
        "Definition: All outcomes are equally likely within a specific range.\n",
        "\n",
        "Example: If you randomly pick a number between 1 to 10, then each number has an equal chance of being selected."
      ],
      "metadata": {
        "id": "-ki8UMQmakC3"
      }
    },
    {
      "cell_type": "markdown",
      "source": [
        "**Handson session of Stats**"
      ],
      "metadata": {
        "id": "99oXpAwsl_9Q"
      }
    },
    {
      "cell_type": "code",
      "execution_count": null,
      "metadata": {
        "id": "CVa-qCQL4_lI"
      },
      "outputs": [],
      "source": [
        "import pandas as pd"
      ]
    },
    {
      "cell_type": "code",
      "source": [
        "df=pd.read_csv('/content/country_profile_variables (1).csv')"
      ],
      "metadata": {
        "id": "mBhRd4L-mIIf"
      },
      "execution_count": null,
      "outputs": []
    },
    {
      "cell_type": "code",
      "source": [
        "df.head()"
      ],
      "metadata": {
        "colab": {
          "base_uri": "https://localhost:8080/",
          "height": 394
        },
        "id": "TwjlBSqvm9qT",
        "outputId": "9bd95a8f-b80b-4528-ffc7-18ff482ed061"
      },
      "execution_count": null,
      "outputs": [
        {
          "output_type": "execute_result",
          "data": {
            "text/plain": [
              "          country          Region Surface area (km2)  \\\n",
              "0     Afghanistan    SouthernAsia             652864   \n",
              "1         Albania  SouthernEurope              28748   \n",
              "2         Algeria  NorthernAfrica            2381741   \n",
              "3  American Samoa       Polynesia                199   \n",
              "4         Andorra  SouthernEurope                468   \n",
              "\n",
              "   Population in thousands (2017)  Population density (per km2, 2017)  \\\n",
              "0                           35530                                54.4   \n",
              "1                            2930                               106.9   \n",
              "2                           41318                                17.3   \n",
              "3                              56                               278.2   \n",
              "4                              77                               163.8   \n",
              "\n",
              "   Sex ratio (m per 100 f, 2017)  \\\n",
              "0                          106.3   \n",
              "1                          101.9   \n",
              "2                          102.0   \n",
              "3                          103.6   \n",
              "4                          102.3   \n",
              "\n",
              "   GDP: Gross domestic product (million current US$)  \\\n",
              "0                                              20270   \n",
              "1                                              11541   \n",
              "2                                             164779   \n",
              "3                                                -99   \n",
              "4                                               2812   \n",
              "\n",
              "  GDP growth rate (annual %, const. 2005 prices)  \\\n",
              "0                                           -2.4   \n",
              "1                                            2.6   \n",
              "2                                            3.8   \n",
              "3                                            -99   \n",
              "4                                            0.8   \n",
              "\n",
              "   GDP per capita (current US$) Economy: Agriculture (% of GVA)  ...  \\\n",
              "0                         623.2                            23.3  ...   \n",
              "1                        3984.2                            22.4  ...   \n",
              "2                        4154.1                            12.2  ...   \n",
              "3                         -99.0                             -99  ...   \n",
              "4                       39896.4                             0.5  ...   \n",
              "\n",
              "   Mobile-cellular subscriptions (per 100 inhabitants).1  \\\n",
              "0                                                8.3       \n",
              "1                                               63.3       \n",
              "2                                               38.2       \n",
              "3                                                -99       \n",
              "4                                               96.9       \n",
              "\n",
              "   Individuals using the Internet (per 100 inhabitants)  \\\n",
              "0                                                 42      \n",
              "1                                                130      \n",
              "2                                                135      \n",
              "3                                                 92      \n",
              "4                                                 13      \n",
              "\n",
              "  Threatened species (number) Forested area (% of land area)  \\\n",
              "0                         2.1                        9.8/0.3   \n",
              "1                        28.2                        5.7/2.0   \n",
              "2                         0.8                      145.4/3.7   \n",
              "3                        87.9                            -99   \n",
              "4                        34.0                        0.5/6.4   \n",
              "\n",
              "  CO2 emission estimates (million tons/tons per capita)  \\\n",
              "0                                                 63      \n",
              "1                                                 84      \n",
              "2                                               5900      \n",
              "3                                                -99      \n",
              "4                                                  1      \n",
              "\n",
              "  Energy production, primary (Petajoules)  \\\n",
              "0                                       5   \n",
              "1                                      36   \n",
              "2                                      55   \n",
              "3                                     -99   \n",
              "4                                     119   \n",
              "\n",
              "  Energy supply per capita (Gigajoules)  \\\n",
              "0                             78.2/47.0   \n",
              "1                             94.9/95.2   \n",
              "2                             84.3/81.8   \n",
              "3                           100.0/100.0   \n",
              "4                           100.0/100.0   \n",
              "\n",
              "   Pop. using improved drinking water (urban/rural, %)  \\\n",
              "0                                          45.1/27.0     \n",
              "1                                          95.5/90.2     \n",
              "2                                          89.8/82.2     \n",
              "3                                          62.5/62.5     \n",
              "4                                        100.0/100.0     \n",
              "\n",
              "   Pop. using improved sanitation facilities (urban/rural, %)  \\\n",
              "0                                              21.43            \n",
              "1                                               2.96            \n",
              "2                                               0.05            \n",
              "3                                                -99            \n",
              "4                                                -99            \n",
              "\n",
              "  Net Official Development Assist. received (% of GNI)  \n",
              "0                                                -99    \n",
              "1                                                -99    \n",
              "2                                                -99    \n",
              "3                                                -99    \n",
              "4                                                -99    \n",
              "\n",
              "[5 rows x 50 columns]"
            ],
            "text/html": [
              "\n",
              "  <div id=\"df-aca3abcb-bfa9-4d93-914c-e14f674cfe6d\" class=\"colab-df-container\">\n",
              "    <div>\n",
              "<style scoped>\n",
              "    .dataframe tbody tr th:only-of-type {\n",
              "        vertical-align: middle;\n",
              "    }\n",
              "\n",
              "    .dataframe tbody tr th {\n",
              "        vertical-align: top;\n",
              "    }\n",
              "\n",
              "    .dataframe thead th {\n",
              "        text-align: right;\n",
              "    }\n",
              "</style>\n",
              "<table border=\"1\" class=\"dataframe\">\n",
              "  <thead>\n",
              "    <tr style=\"text-align: right;\">\n",
              "      <th></th>\n",
              "      <th>country</th>\n",
              "      <th>Region</th>\n",
              "      <th>Surface area (km2)</th>\n",
              "      <th>Population in thousands (2017)</th>\n",
              "      <th>Population density (per km2, 2017)</th>\n",
              "      <th>Sex ratio (m per 100 f, 2017)</th>\n",
              "      <th>GDP: Gross domestic product (million current US$)</th>\n",
              "      <th>GDP growth rate (annual %, const. 2005 prices)</th>\n",
              "      <th>GDP per capita (current US$)</th>\n",
              "      <th>Economy: Agriculture (% of GVA)</th>\n",
              "      <th>...</th>\n",
              "      <th>Mobile-cellular subscriptions (per 100 inhabitants).1</th>\n",
              "      <th>Individuals using the Internet (per 100 inhabitants)</th>\n",
              "      <th>Threatened species (number)</th>\n",
              "      <th>Forested area (% of land area)</th>\n",
              "      <th>CO2 emission estimates (million tons/tons per capita)</th>\n",
              "      <th>Energy production, primary (Petajoules)</th>\n",
              "      <th>Energy supply per capita (Gigajoules)</th>\n",
              "      <th>Pop. using improved drinking water (urban/rural, %)</th>\n",
              "      <th>Pop. using improved sanitation facilities (urban/rural, %)</th>\n",
              "      <th>Net Official Development Assist. received (% of GNI)</th>\n",
              "    </tr>\n",
              "  </thead>\n",
              "  <tbody>\n",
              "    <tr>\n",
              "      <th>0</th>\n",
              "      <td>Afghanistan</td>\n",
              "      <td>SouthernAsia</td>\n",
              "      <td>652864</td>\n",
              "      <td>35530</td>\n",
              "      <td>54.4</td>\n",
              "      <td>106.3</td>\n",
              "      <td>20270</td>\n",
              "      <td>-2.4</td>\n",
              "      <td>623.2</td>\n",
              "      <td>23.3</td>\n",
              "      <td>...</td>\n",
              "      <td>8.3</td>\n",
              "      <td>42</td>\n",
              "      <td>2.1</td>\n",
              "      <td>9.8/0.3</td>\n",
              "      <td>63</td>\n",
              "      <td>5</td>\n",
              "      <td>78.2/47.0</td>\n",
              "      <td>45.1/27.0</td>\n",
              "      <td>21.43</td>\n",
              "      <td>-99</td>\n",
              "    </tr>\n",
              "    <tr>\n",
              "      <th>1</th>\n",
              "      <td>Albania</td>\n",
              "      <td>SouthernEurope</td>\n",
              "      <td>28748</td>\n",
              "      <td>2930</td>\n",
              "      <td>106.9</td>\n",
              "      <td>101.9</td>\n",
              "      <td>11541</td>\n",
              "      <td>2.6</td>\n",
              "      <td>3984.2</td>\n",
              "      <td>22.4</td>\n",
              "      <td>...</td>\n",
              "      <td>63.3</td>\n",
              "      <td>130</td>\n",
              "      <td>28.2</td>\n",
              "      <td>5.7/2.0</td>\n",
              "      <td>84</td>\n",
              "      <td>36</td>\n",
              "      <td>94.9/95.2</td>\n",
              "      <td>95.5/90.2</td>\n",
              "      <td>2.96</td>\n",
              "      <td>-99</td>\n",
              "    </tr>\n",
              "    <tr>\n",
              "      <th>2</th>\n",
              "      <td>Algeria</td>\n",
              "      <td>NorthernAfrica</td>\n",
              "      <td>2381741</td>\n",
              "      <td>41318</td>\n",
              "      <td>17.3</td>\n",
              "      <td>102.0</td>\n",
              "      <td>164779</td>\n",
              "      <td>3.8</td>\n",
              "      <td>4154.1</td>\n",
              "      <td>12.2</td>\n",
              "      <td>...</td>\n",
              "      <td>38.2</td>\n",
              "      <td>135</td>\n",
              "      <td>0.8</td>\n",
              "      <td>145.4/3.7</td>\n",
              "      <td>5900</td>\n",
              "      <td>55</td>\n",
              "      <td>84.3/81.8</td>\n",
              "      <td>89.8/82.2</td>\n",
              "      <td>0.05</td>\n",
              "      <td>-99</td>\n",
              "    </tr>\n",
              "    <tr>\n",
              "      <th>3</th>\n",
              "      <td>American Samoa</td>\n",
              "      <td>Polynesia</td>\n",
              "      <td>199</td>\n",
              "      <td>56</td>\n",
              "      <td>278.2</td>\n",
              "      <td>103.6</td>\n",
              "      <td>-99</td>\n",
              "      <td>-99</td>\n",
              "      <td>-99.0</td>\n",
              "      <td>-99</td>\n",
              "      <td>...</td>\n",
              "      <td>-99</td>\n",
              "      <td>92</td>\n",
              "      <td>87.9</td>\n",
              "      <td>-99</td>\n",
              "      <td>-99</td>\n",
              "      <td>-99</td>\n",
              "      <td>100.0/100.0</td>\n",
              "      <td>62.5/62.5</td>\n",
              "      <td>-99</td>\n",
              "      <td>-99</td>\n",
              "    </tr>\n",
              "    <tr>\n",
              "      <th>4</th>\n",
              "      <td>Andorra</td>\n",
              "      <td>SouthernEurope</td>\n",
              "      <td>468</td>\n",
              "      <td>77</td>\n",
              "      <td>163.8</td>\n",
              "      <td>102.3</td>\n",
              "      <td>2812</td>\n",
              "      <td>0.8</td>\n",
              "      <td>39896.4</td>\n",
              "      <td>0.5</td>\n",
              "      <td>...</td>\n",
              "      <td>96.9</td>\n",
              "      <td>13</td>\n",
              "      <td>34.0</td>\n",
              "      <td>0.5/6.4</td>\n",
              "      <td>1</td>\n",
              "      <td>119</td>\n",
              "      <td>100.0/100.0</td>\n",
              "      <td>100.0/100.0</td>\n",
              "      <td>-99</td>\n",
              "      <td>-99</td>\n",
              "    </tr>\n",
              "  </tbody>\n",
              "</table>\n",
              "<p>5 rows × 50 columns</p>\n",
              "</div>\n",
              "    <div class=\"colab-df-buttons\">\n",
              "\n",
              "  <div class=\"colab-df-container\">\n",
              "    <button class=\"colab-df-convert\" onclick=\"convertToInteractive('df-aca3abcb-bfa9-4d93-914c-e14f674cfe6d')\"\n",
              "            title=\"Convert this dataframe to an interactive table.\"\n",
              "            style=\"display:none;\">\n",
              "\n",
              "  <svg xmlns=\"http://www.w3.org/2000/svg\" height=\"24px\" viewBox=\"0 -960 960 960\">\n",
              "    <path d=\"M120-120v-720h720v720H120Zm60-500h600v-160H180v160Zm220 220h160v-160H400v160Zm0 220h160v-160H400v160ZM180-400h160v-160H180v160Zm440 0h160v-160H620v160ZM180-180h160v-160H180v160Zm440 0h160v-160H620v160Z\"/>\n",
              "  </svg>\n",
              "    </button>\n",
              "\n",
              "  <style>\n",
              "    .colab-df-container {\n",
              "      display:flex;\n",
              "      gap: 12px;\n",
              "    }\n",
              "\n",
              "    .colab-df-convert {\n",
              "      background-color: #E8F0FE;\n",
              "      border: none;\n",
              "      border-radius: 50%;\n",
              "      cursor: pointer;\n",
              "      display: none;\n",
              "      fill: #1967D2;\n",
              "      height: 32px;\n",
              "      padding: 0 0 0 0;\n",
              "      width: 32px;\n",
              "    }\n",
              "\n",
              "    .colab-df-convert:hover {\n",
              "      background-color: #E2EBFA;\n",
              "      box-shadow: 0px 1px 2px rgba(60, 64, 67, 0.3), 0px 1px 3px 1px rgba(60, 64, 67, 0.15);\n",
              "      fill: #174EA6;\n",
              "    }\n",
              "\n",
              "    .colab-df-buttons div {\n",
              "      margin-bottom: 4px;\n",
              "    }\n",
              "\n",
              "    [theme=dark] .colab-df-convert {\n",
              "      background-color: #3B4455;\n",
              "      fill: #D2E3FC;\n",
              "    }\n",
              "\n",
              "    [theme=dark] .colab-df-convert:hover {\n",
              "      background-color: #434B5C;\n",
              "      box-shadow: 0px 1px 3px 1px rgba(0, 0, 0, 0.15);\n",
              "      filter: drop-shadow(0px 1px 2px rgba(0, 0, 0, 0.3));\n",
              "      fill: #FFFFFF;\n",
              "    }\n",
              "  </style>\n",
              "\n",
              "    <script>\n",
              "      const buttonEl =\n",
              "        document.querySelector('#df-aca3abcb-bfa9-4d93-914c-e14f674cfe6d button.colab-df-convert');\n",
              "      buttonEl.style.display =\n",
              "        google.colab.kernel.accessAllowed ? 'block' : 'none';\n",
              "\n",
              "      async function convertToInteractive(key) {\n",
              "        const element = document.querySelector('#df-aca3abcb-bfa9-4d93-914c-e14f674cfe6d');\n",
              "        const dataTable =\n",
              "          await google.colab.kernel.invokeFunction('convertToInteractive',\n",
              "                                                    [key], {});\n",
              "        if (!dataTable) return;\n",
              "\n",
              "        const docLinkHtml = 'Like what you see? Visit the ' +\n",
              "          '<a target=\"_blank\" href=https://colab.research.google.com/notebooks/data_table.ipynb>data table notebook</a>'\n",
              "          + ' to learn more about interactive tables.';\n",
              "        element.innerHTML = '';\n",
              "        dataTable['output_type'] = 'display_data';\n",
              "        await google.colab.output.renderOutput(dataTable, element);\n",
              "        const docLink = document.createElement('div');\n",
              "        docLink.innerHTML = docLinkHtml;\n",
              "        element.appendChild(docLink);\n",
              "      }\n",
              "    </script>\n",
              "  </div>\n",
              "\n",
              "\n",
              "<div id=\"df-2d315d48-17b2-46e3-ac97-eb48515d19e0\">\n",
              "  <button class=\"colab-df-quickchart\" onclick=\"quickchart('df-2d315d48-17b2-46e3-ac97-eb48515d19e0')\"\n",
              "            title=\"Suggest charts\"\n",
              "            style=\"display:none;\">\n",
              "\n",
              "<svg xmlns=\"http://www.w3.org/2000/svg\" height=\"24px\"viewBox=\"0 0 24 24\"\n",
              "     width=\"24px\">\n",
              "    <g>\n",
              "        <path d=\"M19 3H5c-1.1 0-2 .9-2 2v14c0 1.1.9 2 2 2h14c1.1 0 2-.9 2-2V5c0-1.1-.9-2-2-2zM9 17H7v-7h2v7zm4 0h-2V7h2v10zm4 0h-2v-4h2v4z\"/>\n",
              "    </g>\n",
              "</svg>\n",
              "  </button>\n",
              "\n",
              "<style>\n",
              "  .colab-df-quickchart {\n",
              "      --bg-color: #E8F0FE;\n",
              "      --fill-color: #1967D2;\n",
              "      --hover-bg-color: #E2EBFA;\n",
              "      --hover-fill-color: #174EA6;\n",
              "      --disabled-fill-color: #AAA;\n",
              "      --disabled-bg-color: #DDD;\n",
              "  }\n",
              "\n",
              "  [theme=dark] .colab-df-quickchart {\n",
              "      --bg-color: #3B4455;\n",
              "      --fill-color: #D2E3FC;\n",
              "      --hover-bg-color: #434B5C;\n",
              "      --hover-fill-color: #FFFFFF;\n",
              "      --disabled-bg-color: #3B4455;\n",
              "      --disabled-fill-color: #666;\n",
              "  }\n",
              "\n",
              "  .colab-df-quickchart {\n",
              "    background-color: var(--bg-color);\n",
              "    border: none;\n",
              "    border-radius: 50%;\n",
              "    cursor: pointer;\n",
              "    display: none;\n",
              "    fill: var(--fill-color);\n",
              "    height: 32px;\n",
              "    padding: 0;\n",
              "    width: 32px;\n",
              "  }\n",
              "\n",
              "  .colab-df-quickchart:hover {\n",
              "    background-color: var(--hover-bg-color);\n",
              "    box-shadow: 0 1px 2px rgba(60, 64, 67, 0.3), 0 1px 3px 1px rgba(60, 64, 67, 0.15);\n",
              "    fill: var(--button-hover-fill-color);\n",
              "  }\n",
              "\n",
              "  .colab-df-quickchart-complete:disabled,\n",
              "  .colab-df-quickchart-complete:disabled:hover {\n",
              "    background-color: var(--disabled-bg-color);\n",
              "    fill: var(--disabled-fill-color);\n",
              "    box-shadow: none;\n",
              "  }\n",
              "\n",
              "  .colab-df-spinner {\n",
              "    border: 2px solid var(--fill-color);\n",
              "    border-color: transparent;\n",
              "    border-bottom-color: var(--fill-color);\n",
              "    animation:\n",
              "      spin 1s steps(1) infinite;\n",
              "  }\n",
              "\n",
              "  @keyframes spin {\n",
              "    0% {\n",
              "      border-color: transparent;\n",
              "      border-bottom-color: var(--fill-color);\n",
              "      border-left-color: var(--fill-color);\n",
              "    }\n",
              "    20% {\n",
              "      border-color: transparent;\n",
              "      border-left-color: var(--fill-color);\n",
              "      border-top-color: var(--fill-color);\n",
              "    }\n",
              "    30% {\n",
              "      border-color: transparent;\n",
              "      border-left-color: var(--fill-color);\n",
              "      border-top-color: var(--fill-color);\n",
              "      border-right-color: var(--fill-color);\n",
              "    }\n",
              "    40% {\n",
              "      border-color: transparent;\n",
              "      border-right-color: var(--fill-color);\n",
              "      border-top-color: var(--fill-color);\n",
              "    }\n",
              "    60% {\n",
              "      border-color: transparent;\n",
              "      border-right-color: var(--fill-color);\n",
              "    }\n",
              "    80% {\n",
              "      border-color: transparent;\n",
              "      border-right-color: var(--fill-color);\n",
              "      border-bottom-color: var(--fill-color);\n",
              "    }\n",
              "    90% {\n",
              "      border-color: transparent;\n",
              "      border-bottom-color: var(--fill-color);\n",
              "    }\n",
              "  }\n",
              "</style>\n",
              "\n",
              "  <script>\n",
              "    async function quickchart(key) {\n",
              "      const quickchartButtonEl =\n",
              "        document.querySelector('#' + key + ' button');\n",
              "      quickchartButtonEl.disabled = true;  // To prevent multiple clicks.\n",
              "      quickchartButtonEl.classList.add('colab-df-spinner');\n",
              "      try {\n",
              "        const charts = await google.colab.kernel.invokeFunction(\n",
              "            'suggestCharts', [key], {});\n",
              "      } catch (error) {\n",
              "        console.error('Error during call to suggestCharts:', error);\n",
              "      }\n",
              "      quickchartButtonEl.classList.remove('colab-df-spinner');\n",
              "      quickchartButtonEl.classList.add('colab-df-quickchart-complete');\n",
              "    }\n",
              "    (() => {\n",
              "      let quickchartButtonEl =\n",
              "        document.querySelector('#df-2d315d48-17b2-46e3-ac97-eb48515d19e0 button');\n",
              "      quickchartButtonEl.style.display =\n",
              "        google.colab.kernel.accessAllowed ? 'block' : 'none';\n",
              "    })();\n",
              "  </script>\n",
              "</div>\n",
              "\n",
              "    </div>\n",
              "  </div>\n"
            ],
            "application/vnd.google.colaboratory.intrinsic+json": {
              "type": "dataframe",
              "variable_name": "df"
            }
          },
          "metadata": {},
          "execution_count": 3
        }
      ]
    },
    {
      "cell_type": "code",
      "source": [
        "df.isnull().sum()"
      ],
      "metadata": {
        "colab": {
          "base_uri": "https://localhost:8080/",
          "height": 1000
        },
        "id": "jNa_FFVrm-nG",
        "outputId": "949b38ba-4ac9-4151-c7f8-5f4a89f9b4e0"
      },
      "execution_count": null,
      "outputs": [
        {
          "output_type": "execute_result",
          "data": {
            "text/plain": [
              "country                                                       0\n",
              "Region                                                        0\n",
              "Surface area (km2)                                            0\n",
              "Population in thousands (2017)                                0\n",
              "Population density (per km2, 2017)                            0\n",
              "Sex ratio (m per 100 f, 2017)                                 0\n",
              "GDP: Gross domestic product (million current US$)             0\n",
              "GDP growth rate (annual %, const. 2005 prices)                0\n",
              "GDP per capita (current US$)                                  0\n",
              "Economy: Agriculture (% of GVA)                               0\n",
              "Economy: Industry (% of GVA)                                  0\n",
              "Economy: Services and other activity (% of GVA)               0\n",
              "Employment: Agriculture (% of employed)                       0\n",
              "Employment: Industry (% of employed)                          0\n",
              "Employment: Services (% of employed)                          0\n",
              "Unemployment (% of labour force)                              0\n",
              "Labour force participation (female/male pop. %)               0\n",
              "Agricultural production index (2004-2006=100)                 0\n",
              "Food production index (2004-2006=100)                         0\n",
              "International trade: Exports (million US$)                    0\n",
              "International trade: Imports (million US$)                    0\n",
              "International trade: Balance (million US$)                    0\n",
              "Balance of payments, current account (million US$)            0\n",
              "Population growth rate (average annual %)                     0\n",
              "Urban population (% of total population)                      0\n",
              "Urban population growth rate (average annual %)               0\n",
              "Fertility rate, total (live births per woman)                 0\n",
              "Life expectancy at birth (females/males, years)               0\n",
              "Population age distribution (0-14 / 60+ years, %)             0\n",
              "International migrant stock (000/% of total pop.)             0\n",
              "Refugees and others of concern to UNHCR (in thousands)        0\n",
              "Infant mortality rate (per 1000 live births                   0\n",
              "Health: Total expenditure (% of GDP)                          0\n",
              "Health: Physicians (per 1000 pop.)                            0\n",
              "Education: Government expenditure (% of GDP)                  0\n",
              "Education: Primary gross enrol. ratio (f/m per 100 pop.)      0\n",
              "Education: Secondary gross enrol. ratio (f/m per 100 pop.)    0\n",
              "Education: Tertiary gross enrol. ratio (f/m per 100 pop.)     0\n",
              "Seats held by women in national parliaments %                 0\n",
              "Mobile-cellular subscriptions (per 100 inhabitants)           0\n",
              "Mobile-cellular subscriptions (per 100 inhabitants).1         0\n",
              "Individuals using the Internet (per 100 inhabitants)          0\n",
              "Threatened species (number)                                   0\n",
              "Forested area (% of land area)                                0\n",
              "CO2 emission estimates (million tons/tons per capita)         0\n",
              "Energy production, primary (Petajoules)                       0\n",
              "Energy supply per capita (Gigajoules)                         0\n",
              "Pop. using improved drinking water (urban/rural, %)           0\n",
              "Pop. using improved sanitation facilities (urban/rural, %)    0\n",
              "Net Official Development Assist. received (% of GNI)          0\n",
              "dtype: int64"
            ],
            "text/html": [
              "<div>\n",
              "<style scoped>\n",
              "    .dataframe tbody tr th:only-of-type {\n",
              "        vertical-align: middle;\n",
              "    }\n",
              "\n",
              "    .dataframe tbody tr th {\n",
              "        vertical-align: top;\n",
              "    }\n",
              "\n",
              "    .dataframe thead th {\n",
              "        text-align: right;\n",
              "    }\n",
              "</style>\n",
              "<table border=\"1\" class=\"dataframe\">\n",
              "  <thead>\n",
              "    <tr style=\"text-align: right;\">\n",
              "      <th></th>\n",
              "      <th>0</th>\n",
              "    </tr>\n",
              "  </thead>\n",
              "  <tbody>\n",
              "    <tr>\n",
              "      <th>country</th>\n",
              "      <td>0</td>\n",
              "    </tr>\n",
              "    <tr>\n",
              "      <th>Region</th>\n",
              "      <td>0</td>\n",
              "    </tr>\n",
              "    <tr>\n",
              "      <th>Surface area (km2)</th>\n",
              "      <td>0</td>\n",
              "    </tr>\n",
              "    <tr>\n",
              "      <th>Population in thousands (2017)</th>\n",
              "      <td>0</td>\n",
              "    </tr>\n",
              "    <tr>\n",
              "      <th>Population density (per km2, 2017)</th>\n",
              "      <td>0</td>\n",
              "    </tr>\n",
              "    <tr>\n",
              "      <th>Sex ratio (m per 100 f, 2017)</th>\n",
              "      <td>0</td>\n",
              "    </tr>\n",
              "    <tr>\n",
              "      <th>GDP: Gross domestic product (million current US$)</th>\n",
              "      <td>0</td>\n",
              "    </tr>\n",
              "    <tr>\n",
              "      <th>GDP growth rate (annual %, const. 2005 prices)</th>\n",
              "      <td>0</td>\n",
              "    </tr>\n",
              "    <tr>\n",
              "      <th>GDP per capita (current US$)</th>\n",
              "      <td>0</td>\n",
              "    </tr>\n",
              "    <tr>\n",
              "      <th>Economy: Agriculture (% of GVA)</th>\n",
              "      <td>0</td>\n",
              "    </tr>\n",
              "    <tr>\n",
              "      <th>Economy: Industry (% of GVA)</th>\n",
              "      <td>0</td>\n",
              "    </tr>\n",
              "    <tr>\n",
              "      <th>Economy: Services and other activity (% of GVA)</th>\n",
              "      <td>0</td>\n",
              "    </tr>\n",
              "    <tr>\n",
              "      <th>Employment: Agriculture (% of employed)</th>\n",
              "      <td>0</td>\n",
              "    </tr>\n",
              "    <tr>\n",
              "      <th>Employment: Industry (% of employed)</th>\n",
              "      <td>0</td>\n",
              "    </tr>\n",
              "    <tr>\n",
              "      <th>Employment: Services (% of employed)</th>\n",
              "      <td>0</td>\n",
              "    </tr>\n",
              "    <tr>\n",
              "      <th>Unemployment (% of labour force)</th>\n",
              "      <td>0</td>\n",
              "    </tr>\n",
              "    <tr>\n",
              "      <th>Labour force participation (female/male pop. %)</th>\n",
              "      <td>0</td>\n",
              "    </tr>\n",
              "    <tr>\n",
              "      <th>Agricultural production index (2004-2006=100)</th>\n",
              "      <td>0</td>\n",
              "    </tr>\n",
              "    <tr>\n",
              "      <th>Food production index (2004-2006=100)</th>\n",
              "      <td>0</td>\n",
              "    </tr>\n",
              "    <tr>\n",
              "      <th>International trade: Exports (million US$)</th>\n",
              "      <td>0</td>\n",
              "    </tr>\n",
              "    <tr>\n",
              "      <th>International trade: Imports (million US$)</th>\n",
              "      <td>0</td>\n",
              "    </tr>\n",
              "    <tr>\n",
              "      <th>International trade: Balance (million US$)</th>\n",
              "      <td>0</td>\n",
              "    </tr>\n",
              "    <tr>\n",
              "      <th>Balance of payments, current account (million US$)</th>\n",
              "      <td>0</td>\n",
              "    </tr>\n",
              "    <tr>\n",
              "      <th>Population growth rate (average annual %)</th>\n",
              "      <td>0</td>\n",
              "    </tr>\n",
              "    <tr>\n",
              "      <th>Urban population (% of total population)</th>\n",
              "      <td>0</td>\n",
              "    </tr>\n",
              "    <tr>\n",
              "      <th>Urban population growth rate (average annual %)</th>\n",
              "      <td>0</td>\n",
              "    </tr>\n",
              "    <tr>\n",
              "      <th>Fertility rate, total (live births per woman)</th>\n",
              "      <td>0</td>\n",
              "    </tr>\n",
              "    <tr>\n",
              "      <th>Life expectancy at birth (females/males, years)</th>\n",
              "      <td>0</td>\n",
              "    </tr>\n",
              "    <tr>\n",
              "      <th>Population age distribution (0-14 / 60+ years, %)</th>\n",
              "      <td>0</td>\n",
              "    </tr>\n",
              "    <tr>\n",
              "      <th>International migrant stock (000/% of total pop.)</th>\n",
              "      <td>0</td>\n",
              "    </tr>\n",
              "    <tr>\n",
              "      <th>Refugees and others of concern to UNHCR (in thousands)</th>\n",
              "      <td>0</td>\n",
              "    </tr>\n",
              "    <tr>\n",
              "      <th>Infant mortality rate (per 1000 live births</th>\n",
              "      <td>0</td>\n",
              "    </tr>\n",
              "    <tr>\n",
              "      <th>Health: Total expenditure (% of GDP)</th>\n",
              "      <td>0</td>\n",
              "    </tr>\n",
              "    <tr>\n",
              "      <th>Health: Physicians (per 1000 pop.)</th>\n",
              "      <td>0</td>\n",
              "    </tr>\n",
              "    <tr>\n",
              "      <th>Education: Government expenditure (% of GDP)</th>\n",
              "      <td>0</td>\n",
              "    </tr>\n",
              "    <tr>\n",
              "      <th>Education: Primary gross enrol. ratio (f/m per 100 pop.)</th>\n",
              "      <td>0</td>\n",
              "    </tr>\n",
              "    <tr>\n",
              "      <th>Education: Secondary gross enrol. ratio (f/m per 100 pop.)</th>\n",
              "      <td>0</td>\n",
              "    </tr>\n",
              "    <tr>\n",
              "      <th>Education: Tertiary gross enrol. ratio (f/m per 100 pop.)</th>\n",
              "      <td>0</td>\n",
              "    </tr>\n",
              "    <tr>\n",
              "      <th>Seats held by women in national parliaments %</th>\n",
              "      <td>0</td>\n",
              "    </tr>\n",
              "    <tr>\n",
              "      <th>Mobile-cellular subscriptions (per 100 inhabitants)</th>\n",
              "      <td>0</td>\n",
              "    </tr>\n",
              "    <tr>\n",
              "      <th>Mobile-cellular subscriptions (per 100 inhabitants).1</th>\n",
              "      <td>0</td>\n",
              "    </tr>\n",
              "    <tr>\n",
              "      <th>Individuals using the Internet (per 100 inhabitants)</th>\n",
              "      <td>0</td>\n",
              "    </tr>\n",
              "    <tr>\n",
              "      <th>Threatened species (number)</th>\n",
              "      <td>0</td>\n",
              "    </tr>\n",
              "    <tr>\n",
              "      <th>Forested area (% of land area)</th>\n",
              "      <td>0</td>\n",
              "    </tr>\n",
              "    <tr>\n",
              "      <th>CO2 emission estimates (million tons/tons per capita)</th>\n",
              "      <td>0</td>\n",
              "    </tr>\n",
              "    <tr>\n",
              "      <th>Energy production, primary (Petajoules)</th>\n",
              "      <td>0</td>\n",
              "    </tr>\n",
              "    <tr>\n",
              "      <th>Energy supply per capita (Gigajoules)</th>\n",
              "      <td>0</td>\n",
              "    </tr>\n",
              "    <tr>\n",
              "      <th>Pop. using improved drinking water (urban/rural, %)</th>\n",
              "      <td>0</td>\n",
              "    </tr>\n",
              "    <tr>\n",
              "      <th>Pop. using improved sanitation facilities (urban/rural, %)</th>\n",
              "      <td>0</td>\n",
              "    </tr>\n",
              "    <tr>\n",
              "      <th>Net Official Development Assist. received (% of GNI)</th>\n",
              "      <td>0</td>\n",
              "    </tr>\n",
              "  </tbody>\n",
              "</table>\n",
              "</div><br><label><b>dtype:</b> int64</label>"
            ]
          },
          "metadata": {},
          "execution_count": 4
        }
      ]
    },
    {
      "cell_type": "code",
      "source": [
        "df.duplicated().sum()"
      ],
      "metadata": {
        "colab": {
          "base_uri": "https://localhost:8080/"
        },
        "id": "V58aeWQ5nPcl",
        "outputId": "536302c3-55aa-4e91-c657-477957fb9cda"
      },
      "execution_count": null,
      "outputs": [
        {
          "output_type": "execute_result",
          "data": {
            "text/plain": [
              "0"
            ]
          },
          "metadata": {},
          "execution_count": 5
        }
      ]
    },
    {
      "cell_type": "markdown",
      "source": [
        "**I want to find average population of all countries in year 2017.**"
      ],
      "metadata": {
        "id": "UzEXKQGBnWr4"
      }
    },
    {
      "cell_type": "code",
      "source": [
        "df['Population in thousands (2017)'].mean()"
      ],
      "metadata": {
        "colab": {
          "base_uri": "https://localhost:8080/"
        },
        "id": "xdPQ8pYynTW4",
        "outputId": "6b9907af-6a53-47f1-ac94-d6d2f151dabb"
      },
      "execution_count": null,
      "outputs": [
        {
          "output_type": "execute_result",
          "data": {
            "text/plain": [
              "32756.794759825327"
            ]
          },
          "metadata": {},
          "execution_count": 6
        }
      ]
    },
    {
      "cell_type": "markdown",
      "source": [
        "**I want to find middle value of population of all 229 countries**"
      ],
      "metadata": {
        "id": "6yAG3TyHoTIz"
      }
    },
    {
      "cell_type": "code",
      "source": [
        "df['Population in thousands (2017)'].median()"
      ],
      "metadata": {
        "colab": {
          "base_uri": "https://localhost:8080/"
        },
        "id": "GI-4whrwoB3F",
        "outputId": "ad63f78b-2ec3-4ca6-c2fc-2e57da23bc9e"
      },
      "execution_count": null,
      "outputs": [
        {
          "output_type": "execute_result",
          "data": {
            "text/plain": [
              "5448.0"
            ]
          },
          "metadata": {},
          "execution_count": 7
        }
      ]
    },
    {
      "cell_type": "markdown",
      "source": [
        "**Most common population of all countries**"
      ],
      "metadata": {
        "id": "9ziSoN1_ocvn"
      }
    },
    {
      "cell_type": "code",
      "source": [
        "mode_value=df['Population in thousands (2017)'].mode()"
      ],
      "metadata": {
        "id": "sZg1mH6DoYrg"
      },
      "execution_count": null,
      "outputs": []
    },
    {
      "cell_type": "code",
      "source": [
        "df['Population in thousands (2017)'].value_counts()[mode_value]"
      ],
      "metadata": {
        "colab": {
          "base_uri": "https://localhost:8080/",
          "height": 460
        },
        "id": "Zfa7VFI_okG-",
        "outputId": "521416aa-1b6d-4e9d-a9b2-ed34b4271b98"
      },
      "execution_count": null,
      "outputs": [
        {
          "output_type": "execute_result",
          "data": {
            "text/plain": [
              "Population in thousands (2017)\n",
              "1       2\n",
              "11      2\n",
              "35      2\n",
              "55      2\n",
              "56      2\n",
              "105     2\n",
              "108     2\n",
              "276     2\n",
              "283     2\n",
              "2890    2\n",
              "2930    2\n",
              "Name: count, dtype: int64"
            ],
            "text/html": [
              "<div>\n",
              "<style scoped>\n",
              "    .dataframe tbody tr th:only-of-type {\n",
              "        vertical-align: middle;\n",
              "    }\n",
              "\n",
              "    .dataframe tbody tr th {\n",
              "        vertical-align: top;\n",
              "    }\n",
              "\n",
              "    .dataframe thead th {\n",
              "        text-align: right;\n",
              "    }\n",
              "</style>\n",
              "<table border=\"1\" class=\"dataframe\">\n",
              "  <thead>\n",
              "    <tr style=\"text-align: right;\">\n",
              "      <th></th>\n",
              "      <th>count</th>\n",
              "    </tr>\n",
              "    <tr>\n",
              "      <th>Population in thousands (2017)</th>\n",
              "      <th></th>\n",
              "    </tr>\n",
              "  </thead>\n",
              "  <tbody>\n",
              "    <tr>\n",
              "      <th>1</th>\n",
              "      <td>2</td>\n",
              "    </tr>\n",
              "    <tr>\n",
              "      <th>11</th>\n",
              "      <td>2</td>\n",
              "    </tr>\n",
              "    <tr>\n",
              "      <th>35</th>\n",
              "      <td>2</td>\n",
              "    </tr>\n",
              "    <tr>\n",
              "      <th>55</th>\n",
              "      <td>2</td>\n",
              "    </tr>\n",
              "    <tr>\n",
              "      <th>56</th>\n",
              "      <td>2</td>\n",
              "    </tr>\n",
              "    <tr>\n",
              "      <th>105</th>\n",
              "      <td>2</td>\n",
              "    </tr>\n",
              "    <tr>\n",
              "      <th>108</th>\n",
              "      <td>2</td>\n",
              "    </tr>\n",
              "    <tr>\n",
              "      <th>276</th>\n",
              "      <td>2</td>\n",
              "    </tr>\n",
              "    <tr>\n",
              "      <th>283</th>\n",
              "      <td>2</td>\n",
              "    </tr>\n",
              "    <tr>\n",
              "      <th>2890</th>\n",
              "      <td>2</td>\n",
              "    </tr>\n",
              "    <tr>\n",
              "      <th>2930</th>\n",
              "      <td>2</td>\n",
              "    </tr>\n",
              "  </tbody>\n",
              "</table>\n",
              "</div><br><label><b>dtype:</b> int64</label>"
            ]
          },
          "metadata": {},
          "execution_count": 14
        }
      ]
    },
    {
      "cell_type": "markdown",
      "source": [
        "**How to select random sample from population data then compare it with full data**"
      ],
      "metadata": {
        "id": "6VSA6lPKqBYM"
      }
    },
    {
      "cell_type": "code",
      "source": [
        "df['Population in thousands (2017)']"
      ],
      "metadata": {
        "colab": {
          "base_uri": "https://localhost:8080/",
          "height": 458
        },
        "id": "LCL_a-PapnCh",
        "outputId": "7916ab75-e72c-4a2b-a297-6ed5c75282e1"
      },
      "execution_count": null,
      "outputs": [
        {
          "output_type": "execute_result",
          "data": {
            "text/plain": [
              "0      35530\n",
              "1       2930\n",
              "2      41318\n",
              "3         56\n",
              "4         77\n",
              "       ...  \n",
              "224       12\n",
              "225      553\n",
              "226    28250\n",
              "227    17094\n",
              "228    16530\n",
              "Name: Population in thousands (2017), Length: 229, dtype: int64"
            ],
            "text/html": [
              "<div>\n",
              "<style scoped>\n",
              "    .dataframe tbody tr th:only-of-type {\n",
              "        vertical-align: middle;\n",
              "    }\n",
              "\n",
              "    .dataframe tbody tr th {\n",
              "        vertical-align: top;\n",
              "    }\n",
              "\n",
              "    .dataframe thead th {\n",
              "        text-align: right;\n",
              "    }\n",
              "</style>\n",
              "<table border=\"1\" class=\"dataframe\">\n",
              "  <thead>\n",
              "    <tr style=\"text-align: right;\">\n",
              "      <th></th>\n",
              "      <th>Population in thousands (2017)</th>\n",
              "    </tr>\n",
              "  </thead>\n",
              "  <tbody>\n",
              "    <tr>\n",
              "      <th>0</th>\n",
              "      <td>35530</td>\n",
              "    </tr>\n",
              "    <tr>\n",
              "      <th>1</th>\n",
              "      <td>2930</td>\n",
              "    </tr>\n",
              "    <tr>\n",
              "      <th>2</th>\n",
              "      <td>41318</td>\n",
              "    </tr>\n",
              "    <tr>\n",
              "      <th>3</th>\n",
              "      <td>56</td>\n",
              "    </tr>\n",
              "    <tr>\n",
              "      <th>4</th>\n",
              "      <td>77</td>\n",
              "    </tr>\n",
              "    <tr>\n",
              "      <th>...</th>\n",
              "      <td>...</td>\n",
              "    </tr>\n",
              "    <tr>\n",
              "      <th>224</th>\n",
              "      <td>12</td>\n",
              "    </tr>\n",
              "    <tr>\n",
              "      <th>225</th>\n",
              "      <td>553</td>\n",
              "    </tr>\n",
              "    <tr>\n",
              "      <th>226</th>\n",
              "      <td>28250</td>\n",
              "    </tr>\n",
              "    <tr>\n",
              "      <th>227</th>\n",
              "      <td>17094</td>\n",
              "    </tr>\n",
              "    <tr>\n",
              "      <th>228</th>\n",
              "      <td>16530</td>\n",
              "    </tr>\n",
              "  </tbody>\n",
              "</table>\n",
              "<p>229 rows × 1 columns</p>\n",
              "</div><br><label><b>dtype:</b> int64</label>"
            ]
          },
          "metadata": {},
          "execution_count": 15
        }
      ]
    },
    {
      "cell_type": "code",
      "source": [
        "sample_size=100\n",
        "sample_data=df.sample(n=sample_size,random_state=1)"
      ],
      "metadata": {
        "id": "vDBXBej3qKnW"
      },
      "execution_count": null,
      "outputs": []
    },
    {
      "cell_type": "code",
      "source": [
        "sample_data['Population in thousands (2017)']"
      ],
      "metadata": {
        "colab": {
          "base_uri": "https://localhost:8080/",
          "height": 458
        },
        "id": "iD19CRS5qhSZ",
        "outputId": "689dc637-a9b6-42ad-a56a-a8ca04e14c06"
      },
      "execution_count": null,
      "outputs": [
        {
          "output_type": "execute_result",
          "data": {
            "text/plain": [
              "39      4659\n",
              "170       55\n",
              "93      9722\n",
              "62     97553\n",
              "199     8921\n",
              "       ...  \n",
              "127      385\n",
              "120    25571\n",
              "54     10618\n",
              "118     2890\n",
              "98     38275\n",
              "Name: Population in thousands (2017), Length: 100, dtype: int64"
            ],
            "text/html": [
              "<div>\n",
              "<style scoped>\n",
              "    .dataframe tbody tr th:only-of-type {\n",
              "        vertical-align: middle;\n",
              "    }\n",
              "\n",
              "    .dataframe tbody tr th {\n",
              "        vertical-align: top;\n",
              "    }\n",
              "\n",
              "    .dataframe thead th {\n",
              "        text-align: right;\n",
              "    }\n",
              "</style>\n",
              "<table border=\"1\" class=\"dataframe\">\n",
              "  <thead>\n",
              "    <tr style=\"text-align: right;\">\n",
              "      <th></th>\n",
              "      <th>Population in thousands (2017)</th>\n",
              "    </tr>\n",
              "  </thead>\n",
              "  <tbody>\n",
              "    <tr>\n",
              "      <th>39</th>\n",
              "      <td>4659</td>\n",
              "    </tr>\n",
              "    <tr>\n",
              "      <th>170</th>\n",
              "      <td>55</td>\n",
              "    </tr>\n",
              "    <tr>\n",
              "      <th>93</th>\n",
              "      <td>9722</td>\n",
              "    </tr>\n",
              "    <tr>\n",
              "      <th>62</th>\n",
              "      <td>97553</td>\n",
              "    </tr>\n",
              "    <tr>\n",
              "      <th>199</th>\n",
              "      <td>8921</td>\n",
              "    </tr>\n",
              "    <tr>\n",
              "      <th>...</th>\n",
              "      <td>...</td>\n",
              "    </tr>\n",
              "    <tr>\n",
              "      <th>127</th>\n",
              "      <td>385</td>\n",
              "    </tr>\n",
              "    <tr>\n",
              "      <th>120</th>\n",
              "      <td>25571</td>\n",
              "    </tr>\n",
              "    <tr>\n",
              "      <th>54</th>\n",
              "      <td>10618</td>\n",
              "    </tr>\n",
              "    <tr>\n",
              "      <th>118</th>\n",
              "      <td>2890</td>\n",
              "    </tr>\n",
              "    <tr>\n",
              "      <th>98</th>\n",
              "      <td>38275</td>\n",
              "    </tr>\n",
              "  </tbody>\n",
              "</table>\n",
              "<p>100 rows × 1 columns</p>\n",
              "</div><br><label><b>dtype:</b> int64</label>"
            ]
          },
          "metadata": {},
          "execution_count": 17
        }
      ]
    },
    {
      "cell_type": "code",
      "source": [
        "df['Population in thousands (2017)'].mean()"
      ],
      "metadata": {
        "colab": {
          "base_uri": "https://localhost:8080/"
        },
        "id": "KHg244WcqpWM",
        "outputId": "24bd6519-bbcb-4e5a-abd5-77d07502a8b9"
      },
      "execution_count": null,
      "outputs": [
        {
          "output_type": "execute_result",
          "data": {
            "text/plain": [
              "32756.794759825327"
            ]
          },
          "metadata": {},
          "execution_count": 18
        }
      ]
    },
    {
      "cell_type": "code",
      "source": [
        "sample_data['Population in thousands (2017)'].mean()"
      ],
      "metadata": {
        "colab": {
          "base_uri": "https://localhost:8080/"
        },
        "id": "lMCToo5Dq1oC",
        "outputId": "f8b2adf9-6f2b-4815-bf43-e655553c52b5"
      },
      "execution_count": null,
      "outputs": [
        {
          "output_type": "execute_result",
          "data": {
            "text/plain": [
              "34919.2"
            ]
          },
          "metadata": {},
          "execution_count": 19
        }
      ]
    },
    {
      "cell_type": "code",
      "source": [
        "from scipy.stats import binom"
      ],
      "metadata": {
        "id": "BjGpg4D7q3Wf"
      },
      "execution_count": null,
      "outputs": []
    },
    {
      "cell_type": "code",
      "source": [
        "n=5\n",
        "p=0.5\n",
        "k=3"
      ],
      "metadata": {
        "id": "taEJdvb6u7kJ"
      },
      "execution_count": null,
      "outputs": []
    },
    {
      "cell_type": "code",
      "source": [
        "r=list(range(n+1))"
      ],
      "metadata": {
        "id": "oQSi-jTPvPiB"
      },
      "execution_count": null,
      "outputs": []
    },
    {
      "cell_type": "code",
      "source": [
        "mean,var=binom.stats(n,p)"
      ],
      "metadata": {
        "id": "A64bagXZvDTS"
      },
      "execution_count": null,
      "outputs": []
    },
    {
      "cell_type": "code",
      "source": [
        "dist=list(binom.pmf(x,n,p) for x in r)"
      ],
      "metadata": {
        "id": "UcxVdR2ovLOt"
      },
      "execution_count": null,
      "outputs": []
    },
    {
      "cell_type": "code",
      "source": [
        "import matplotlib.pyplot as plt"
      ],
      "metadata": {
        "id": "XurSGbXEvXvS"
      },
      "execution_count": null,
      "outputs": []
    },
    {
      "cell_type": "code",
      "source": [
        "plt.plot(r,dist)"
      ],
      "metadata": {
        "colab": {
          "base_uri": "https://localhost:8080/",
          "height": 447
        },
        "id": "TNjpiYmbvU-n",
        "outputId": "dbd81813-a234-432a-b2dc-31afedee7824"
      },
      "execution_count": null,
      "outputs": [
        {
          "output_type": "execute_result",
          "data": {
            "text/plain": [
              "[<matplotlib.lines.Line2D at 0x796fc7555180>]"
            ]
          },
          "metadata": {},
          "execution_count": 27
        },
        {
          "output_type": "display_data",
          "data": {
            "text/plain": [
              "<Figure size 640x480 with 1 Axes>"
            ],
            "image/png": "[encoded data removed]"
          },
          "metadata": {}
        }
      ]
    },
    {
      "cell_type": "code",
      "source": [],
      "metadata": {
        "id": "AULw5PEVvWhH"
      },
      "execution_count": null,
      "outputs": []
    }
  ]
}