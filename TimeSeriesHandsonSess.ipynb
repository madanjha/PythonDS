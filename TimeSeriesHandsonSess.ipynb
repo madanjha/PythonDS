{
  "nbformat": 4,
  "nbformat_minor": 0,
  "metadata": {
    "colab": {
      "private_outputs": true,
      "provenance": [],
      "include_colab_link": true
    },
    "kernelspec": {
      "name": "python3",
      "display_name": "Python 3"
    },
    "language_info": {
      "name": "python"
    }
  },
  "cells": [
    {
      "cell_type": "markdown",
      "metadata": {
        "id": "view-in-github",
        "colab_type": "text"
      },
      "source": [
        "<a href=\"https://colab.research.google.com/github/madanjha/PythonDS/blob/main/TimeSeriesHandsonSess.ipynb\" target=\"_parent\"><img src=\"https://colab.research.google.com/assets/colab-badge.svg\" alt=\"Open In Colab\"/></a>"
      ]
    },
    {
      "cell_type": "markdown",
      "source": [
        "# Time Series HandsOn"
      ],
      "metadata": {
        "id": "7zY3NmT41shM"
      }
    },
    {
      "cell_type": "markdown",
      "source": [
        "AirPassenger Dataset Link : https://drive.google.com/file/d/1nDdOM0ww0dM4vViMptnpIZhz63lVp23K/view?usp=sharing\n"
      ],
      "metadata": {
        "id": "WoO-FsxX1mxv"
      }
    },
    {
      "cell_type": "markdown",
      "source": [
        "# Importing the libraries"
      ],
      "metadata": {
        "id": "iSLbX40KDezT"
      }
    },
    {
      "cell_type": "code",
      "execution_count": null,
      "metadata": {
        "id": "coyJOFLr1kcE"
      },
      "outputs": [],
      "source": [
        "import numpy as np\n",
        "import pandas as pd\n",
        "import matplotlib.pyplot as plt\n",
        "import seaborn as sns\n",
        "\n",
        "import warnings\n",
        "warnings.filterwarnings('ignore')"
      ]
    },
    {
      "cell_type": "code",
      "source": [
        "df = pd.read_csv('/content/AirPassengers.csv')"
      ],
      "metadata": {
        "id": "Id83iPJ4DzNq"
      },
      "execution_count": null,
      "outputs": []
    },
    {
      "cell_type": "code",
      "source": [
        "df.head()"
      ],
      "metadata": {
        "id": "ZgxkaZc5D8Jo"
      },
      "execution_count": null,
      "outputs": []
    },
    {
      "cell_type": "code",
      "source": [
        "df.shape # We have 12 year of data"
      ],
      "metadata": {
        "id": "dZlVkDeUD9KS"
      },
      "execution_count": null,
      "outputs": []
    },
    {
      "cell_type": "code",
      "source": [
        "df.info()"
      ],
      "metadata": {
        "id": "56Ed6ftAESJv"
      },
      "execution_count": null,
      "outputs": []
    },
    {
      "cell_type": "code",
      "source": [
        "df['Month'] = pd.to_datetime(df['Month'])"
      ],
      "metadata": {
        "id": "YHUQ1OcdEaMl"
      },
      "execution_count": null,
      "outputs": []
    },
    {
      "cell_type": "code",
      "source": [
        "df"
      ],
      "metadata": {
        "id": "wqcgdwpTErG2"
      },
      "execution_count": null,
      "outputs": []
    },
    {
      "cell_type": "code",
      "source": [
        "df.isnull().sum()\n",
        "# If we have very less rows (mean imputation (Centeral Tendencies))"
      ],
      "metadata": {
        "id": "chbrvjZQEr6A"
      },
      "execution_count": null,
      "outputs": []
    },
    {
      "cell_type": "code",
      "source": [
        "df.duplicated().sum()"
      ],
      "metadata": {
        "id": "L_qlN2AcE0a2"
      },
      "execution_count": null,
      "outputs": []
    },
    {
      "cell_type": "code",
      "source": [
        "df.set_index('Month',inplace = True)"
      ],
      "metadata": {
        "id": "-Q5mNx2RGMIz"
      },
      "execution_count": null,
      "outputs": []
    },
    {
      "cell_type": "code",
      "source": [
        "df"
      ],
      "metadata": {
        "id": "FJt84b1PGbOh"
      },
      "execution_count": null,
      "outputs": []
    },
    {
      "cell_type": "code",
      "source": [
        "df.info()"
      ],
      "metadata": {
        "id": "CsCFuAt-Gbwy"
      },
      "execution_count": null,
      "outputs": []
    },
    {
      "cell_type": "markdown",
      "source": [
        "### Let's see the components of Time series (Trend, Seasonality and residue)"
      ],
      "metadata": {
        "id": "lwLBHK1rGvO-"
      }
    },
    {
      "cell_type": "code",
      "source": [
        "plt.plot(df['#Passengers'])"
      ],
      "metadata": {
        "id": "zPzBHpnEGgE6"
      },
      "execution_count": null,
      "outputs": []
    },
    {
      "cell_type": "code",
      "source": [
        "from statsmodels.tsa.seasonal import seasonal_decompose"
      ],
      "metadata": {
        "id": "gZQPKaLhGpty"
      },
      "execution_count": null,
      "outputs": []
    },
    {
      "cell_type": "code",
      "source": [
        "decompose = seasonal_decompose(df['#Passengers'])"
      ],
      "metadata": {
        "id": "k7eFy5Z3HLeX"
      },
      "execution_count": null,
      "outputs": []
    },
    {
      "cell_type": "code",
      "source": [
        "print(decompose.plot())"
      ],
      "metadata": {
        "id": "wb6iJrNVHUih"
      },
      "execution_count": null,
      "outputs": []
    },
    {
      "cell_type": "code",
      "source": [
        "# Yes we do have Trend\n",
        "# Yes we do have seasonality\n",
        "# Yes we do have Residuals\n",
        "\n",
        "# Check if data is stationary or not\n",
        "# By using ADF test (augmented dickey fuller test)"
      ],
      "metadata": {
        "id": "_URZU89eHX9V"
      },
      "execution_count": null,
      "outputs": []
    },
    {
      "cell_type": "code",
      "source": [
        "from statsmodels.tsa.stattools import adfuller"
      ],
      "metadata": {
        "id": "4ee2JH15I_oJ"
      },
      "execution_count": null,
      "outputs": []
    },
    {
      "cell_type": "code",
      "source": [
        "# null hypothesis - Data is not stationary\n",
        "# alt hypothesis - Data is stationary"
      ],
      "metadata": {
        "id": "hZm34evpJGDJ"
      },
      "execution_count": null,
      "outputs": []
    },
    {
      "cell_type": "code",
      "source": [
        "result = adfuller(df['#Passengers'])\n",
        "result"
      ],
      "metadata": {
        "id": "vf8io5acJjli"
      },
      "execution_count": null,
      "outputs": []
    },
    {
      "cell_type": "markdown",
      "source": [
        "* ADF stats\n",
        "* P_value\n",
        "* Lags\n",
        "* observations\n",
        "* Critical values:\n",
        "* AIC"
      ],
      "metadata": {
        "id": "WpdY1Q8xKEf3"
      }
    },
    {
      "cell_type": "code",
      "source": [
        "p_value = result[1]\n",
        "p_value"
      ],
      "metadata": {
        "id": "KU34bMuMJrqz"
      },
      "execution_count": null,
      "outputs": []
    },
    {
      "cell_type": "code",
      "source": [
        "if p_value <=0.05: # Significance level\n",
        "  print('Null hypothesis is rejected thus data is stationary')\n",
        "else:\n",
        "  print('Null Hypothesis is accepted thus data is non stationary')"
      ],
      "metadata": {
        "id": "fWChhQAvJ9rk"
      },
      "execution_count": null,
      "outputs": []
    },
    {
      "cell_type": "code",
      "source": [
        "# Checking stationary data visually\n",
        "# By checking Constant rolling mean, rolling std"
      ],
      "metadata": {
        "id": "uMIqm3vpLFbA"
      },
      "execution_count": null,
      "outputs": []
    },
    {
      "cell_type": "code",
      "source": [
        "rolling_mean = df.rolling(window=12).mean()\n",
        "rolling_std = df.rolling(window=12).std()"
      ],
      "metadata": {
        "id": "Szy8jAdVLzHf"
      },
      "execution_count": null,
      "outputs": []
    },
    {
      "cell_type": "code",
      "source": [
        "df.head(15)"
      ],
      "metadata": {
        "id": "JdE7OjvONBFV"
      },
      "execution_count": null,
      "outputs": []
    },
    {
      "cell_type": "code",
      "source": [
        "rolling_mean.head(15)"
      ],
      "metadata": {
        "id": "4B3tbasjM6l-"
      },
      "execution_count": null,
      "outputs": []
    },
    {
      "cell_type": "code",
      "source": [
        "rolling_mean.isnull().sum() # null = window -1"
      ],
      "metadata": {
        "id": "VsQyf7lAM8J_"
      },
      "execution_count": null,
      "outputs": []
    },
    {
      "cell_type": "code",
      "source": [
        "plt.plot(df,color = 'blue',label = 'Original')\n",
        "plt.plot(rolling_mean,color = 'red',label = 'Rolling Mean')\n",
        "plt.plot(rolling_std,color = 'black',label = 'Rolling Std')\n",
        "plt.legend(loc='best')\n",
        "plt.title('Rolling Mean and std')\n",
        "plt.show()"
      ],
      "metadata": {
        "id": "Un4b17LWNXbm"
      },
      "execution_count": null,
      "outputs": []
    },
    {
      "cell_type": "markdown",
      "source": [
        "# Reduce the trends\n",
        "Log transformation\n",
        "* Without log: Trend will grow exponenitally\n",
        "* With log: Exponential growth become linear, Making it easiser to understand by my model"
      ],
      "metadata": {
        "id": "PwupTnzrOy8p"
      }
    },
    {
      "cell_type": "code",
      "source": [
        "log_df = np.log(df)\n"
      ],
      "metadata": {
        "id": "d8sGoo9YNxbc"
      },
      "execution_count": null,
      "outputs": []
    },
    {
      "cell_type": "code",
      "source": [
        "log_df"
      ],
      "metadata": {
        "id": "oRtF2vt2PeZ9"
      },
      "execution_count": null,
      "outputs": []
    },
    {
      "cell_type": "code",
      "source": [
        "rolling_mean = log_df.rolling(window=12).mean()\n",
        "rolling_std = log_df.rolling(window=12).std()"
      ],
      "metadata": {
        "id": "iEtkOZCMPfIi"
      },
      "execution_count": null,
      "outputs": []
    },
    {
      "cell_type": "code",
      "source": [
        "plt.plot(log_df,color = 'blue',label = 'Original')\n",
        "plt.plot(rolling_mean,color = 'red',label = 'Rolling Mean')\n",
        "plt.plot(rolling_std,color = 'black',label = 'Rolling Std')\n",
        "plt.legend(loc='best')\n",
        "plt.title('Rolling Mean and std')\n",
        "plt.show()"
      ],
      "metadata": {
        "id": "Ktii1gPjPqpd"
      },
      "execution_count": null,
      "outputs": []
    },
    {
      "cell_type": "markdown",
      "source": [
        "Note : now still after transformation we can see the data is not stationary as the rolling mean and std is not yet constant, No we will apply differencing\n"
      ],
      "metadata": {
        "id": "N0YXsJ_3P7jH"
      }
    },
    {
      "cell_type": "markdown",
      "source": [
        "# Differencing\n",
        "* Help us to focus more on change between the values rather than the values itself"
      ],
      "metadata": {
        "id": "qDP7VlIsRIMy"
      }
    },
    {
      "cell_type": "code",
      "source": [
        "# Perform Diff 1 st time (D = 1)\n",
        "diff_data = log_df.diff()\n",
        "diff_data"
      ],
      "metadata": {
        "id": "n5DzgElVPzNl"
      },
      "execution_count": null,
      "outputs": []
    },
    {
      "cell_type": "code",
      "source": [
        "diff_data.dropna(inplace = True)"
      ],
      "metadata": {
        "id": "bFoxGd-tSBLn"
      },
      "execution_count": null,
      "outputs": []
    },
    {
      "cell_type": "code",
      "source": [
        "diff_data"
      ],
      "metadata": {
        "id": "1KH74XBaSNlY"
      },
      "execution_count": null,
      "outputs": []
    },
    {
      "cell_type": "code",
      "source": [
        "rolling_mean = diff_data.rolling(window=12).mean()\n",
        "rolling_std = diff_data.rolling(window=12).std()\n",
        "\n",
        "plt.plot(diff_data,color = 'blue',label = 'Original')\n",
        "plt.plot(rolling_mean,color = 'red',label = 'Rolling Mean')\n",
        "plt.plot(rolling_std,color = 'black',label = 'Rolling Std')\n",
        "plt.legend(loc='best')\n",
        "plt.title('Rolling Mean and std')\n",
        "plt.show()"
      ],
      "metadata": {
        "id": "hwbye6KySOut"
      },
      "execution_count": null,
      "outputs": []
    },
    {
      "cell_type": "code",
      "source": [
        "result = adfuller(diff_data['#Passengers'])\n",
        "result[1]"
      ],
      "metadata": {
        "id": "5dgttG31SZ0h"
      },
      "execution_count": null,
      "outputs": []
    },
    {
      "cell_type": "code",
      "source": [
        "if result[1] <=0.05: # Significance level\n",
        "  print('Null hypothesis is rejected thus data is stationary')\n",
        "else:\n",
        "  print('Null Hypothesis is accepted thus data is non stationary')"
      ],
      "metadata": {
        "id": "RCROSa3aZG0X"
      },
      "execution_count": null,
      "outputs": []
    },
    {
      "cell_type": "code",
      "source": [
        "# We have reached marginal p_value"
      ],
      "metadata": {
        "id": "qDxJNvJTSxV5"
      },
      "execution_count": null,
      "outputs": []
    },
    {
      "cell_type": "code",
      "source": [
        "# Model implementations"
      ],
      "metadata": {
        "id": "A10Eua9OTnNE"
      },
      "execution_count": null,
      "outputs": []
    },
    {
      "cell_type": "code",
      "source": [
        "log_df # d = 1"
      ],
      "metadata": {
        "id": "0SDKHgqNY5bQ"
      },
      "execution_count": null,
      "outputs": []
    },
    {
      "cell_type": "markdown",
      "source": [
        "# Data Split"
      ],
      "metadata": {
        "id": "H4yEYm13cRA7"
      }
    },
    {
      "cell_type": "code",
      "source": [
        "train = log_df.iloc[:120,:] # 10 year of data for training\n",
        "test = log_df.iloc[120:,:] # 2 year of data for testing"
      ],
      "metadata": {
        "id": "c1ldyLFIcQcE"
      },
      "execution_count": null,
      "outputs": []
    },
    {
      "cell_type": "code",
      "source": [
        "from statsmodels.tsa.arima.model import ARIMA"
      ],
      "metadata": {
        "id": "dX0suOAiY7c0"
      },
      "execution_count": null,
      "outputs": []
    },
    {
      "cell_type": "markdown",
      "source": [
        "* P - AR(Auto regressive)\n",
        "* D - Differencing\n",
        "* Q - MA (Moving Average)"
      ],
      "metadata": {
        "id": "OcauY4zgbQBF"
      }
    },
    {
      "cell_type": "code",
      "source": [
        "model = ARIMA(train,order=(1,1,2)) # order of Arima (p = ?(1), d = 1, q=?(2)) | Hit and trial;"
      ],
      "metadata": {
        "id": "iAIhHuvabOiS"
      },
      "execution_count": null,
      "outputs": []
    },
    {
      "cell_type": "code",
      "source": [
        "model = model.fit()"
      ],
      "metadata": {
        "id": "qoVZ8ntfdUsl"
      },
      "execution_count": null,
      "outputs": []
    },
    {
      "cell_type": "code",
      "source": [
        "log_df['Arima_prediction'] = model.predict(start=len(train),end= len(train) + len(test) -1)"
      ],
      "metadata": {
        "id": "K4ffCHTtdYtl"
      },
      "execution_count": null,
      "outputs": []
    },
    {
      "cell_type": "code",
      "source": [
        "log_df"
      ],
      "metadata": {
        "id": "8MCbMQQvetQ2"
      },
      "execution_count": null,
      "outputs": []
    },
    {
      "cell_type": "code",
      "source": [
        "plt.plot(log_df)"
      ],
      "metadata": {
        "id": "v1cOQ3UefA0D"
      },
      "execution_count": null,
      "outputs": []
    },
    {
      "cell_type": "code",
      "source": [
        "# We are not getting good predictions (PDQ should be better)"
      ],
      "metadata": {
        "id": "MXUm4Rz1fbPM"
      },
      "execution_count": null,
      "outputs": []
    },
    {
      "cell_type": "code",
      "source": [
        "import itertools\n",
        "\n",
        "p = range(1,8)\n",
        "d = range(1,2)\n",
        "q = range(1,8)\n",
        "\n",
        "pdq_combination = list(itertools.product(p,d,q))\n",
        "pdq_combination"
      ],
      "metadata": {
        "id": "hegsC5YRfvBa"
      },
      "execution_count": null,
      "outputs": []
    },
    {
      "cell_type": "code",
      "source": [
        "len(pdq_combination)"
      ],
      "metadata": {
        "id": "crO4TWRKgdHK"
      },
      "execution_count": null,
      "outputs": []
    },
    {
      "cell_type": "code",
      "source": [
        "from sklearn.metrics import mean_squared_error"
      ],
      "metadata": {
        "id": "lyVQA2wPglBi"
      },
      "execution_count": null,
      "outputs": []
    },
    {
      "cell_type": "code",
      "source": [
        "rmse = []\n",
        "order1 = []\n",
        "for pdq in pdq_combination:\n",
        "  model = ARIMA(train,order = pdq)\n",
        "  model_fit = model.fit()\n",
        "  pred = model_fit.predict(start=len(train),end= len(train) + len(test) -1)\n",
        "  error = np.sqrt(mean_squared_error(test,pred))\n",
        "  order1.append(pdq)\n",
        "  rmse.append(error)\n",
        "results = pd.DataFrame(index = order1,data=rmse,columns=['RMSE'])"
      ],
      "metadata": {
        "id": "SGfz8ROrg3H-"
      },
      "execution_count": null,
      "outputs": []
    },
    {
      "cell_type": "code",
      "source": [
        "results.sort_values(by='RMSE',ascending=True)"
      ],
      "metadata": {
        "id": "9ZAbc_oRh5nF"
      },
      "execution_count": null,
      "outputs": []
    },
    {
      "cell_type": "code",
      "source": [
        "# p =5\n",
        "# d = 1\n",
        "#q = 4\n",
        "model = ARIMA(train,order=(5,1,4))\n",
        "model = model.fit()"
      ],
      "metadata": {
        "id": "VUub8JPmiGVX"
      },
      "execution_count": null,
      "outputs": []
    },
    {
      "cell_type": "code",
      "source": [
        "log_df['Arima_prediction'] = model.predict(start=len(train),end= len(train) + len(test) -1)"
      ],
      "metadata": {
        "id": "Rc-DJ2q2ixr7"
      },
      "execution_count": null,
      "outputs": []
    },
    {
      "cell_type": "code",
      "source": [
        "log_df"
      ],
      "metadata": {
        "id": "Ccnpm4nFi2_r"
      },
      "execution_count": null,
      "outputs": []
    },
    {
      "cell_type": "code",
      "source": [
        "plt.plot(log_df)"
      ],
      "metadata": {
        "id": "wnHjbyXQi3zq"
      },
      "execution_count": null,
      "outputs": []
    },
    {
      "cell_type": "markdown",
      "source": [
        "# Implementing sarima"
      ],
      "metadata": {
        "id": "uGYRS59yjIhH"
      }
    },
    {
      "cell_type": "code",
      "source": [
        "from statsmodels.tsa.statespace.sarimax import SARIMAX"
      ],
      "metadata": {
        "id": "41MJ2zmKi9zu"
      },
      "execution_count": null,
      "outputs": []
    },
    {
      "cell_type": "code",
      "source": [
        "s_model = SARIMAX(train,order=(5,1,4),seasonal_order=(5,1,4,12)) #p,d,q,s\n",
        "s_model = s_model.fit()"
      ],
      "metadata": {
        "id": "ahfW6L5AjYxk"
      },
      "execution_count": null,
      "outputs": []
    },
    {
      "cell_type": "code",
      "source": [
        "log_df['Sarima_pred'] = s_model.predict(start=len(train),end= len(train) + len(test) -1)"
      ],
      "metadata": {
        "id": "e9K7dFTYjm4W"
      },
      "execution_count": null,
      "outputs": []
    },
    {
      "cell_type": "code",
      "source": [
        "log_df"
      ],
      "metadata": {
        "id": "StcdDd6oj4wu"
      },
      "execution_count": null,
      "outputs": []
    },
    {
      "cell_type": "code",
      "source": [
        "plt.plot(log_df['#Passengers'])\n",
        "plt.plot(log_df['Sarima_pred'])"
      ],
      "metadata": {
        "id": "enAPZG2rj9tV"
      },
      "execution_count": null,
      "outputs": []
    },
    {
      "cell_type": "code",
      "source": [
        "plt.plot(log_df)"
      ],
      "metadata": {
        "id": "s_ZO0P2RkMtv"
      },
      "execution_count": null,
      "outputs": []
    },
    {
      "cell_type": "markdown",
      "source": [
        "# Forecast"
      ],
      "metadata": {
        "id": "spqAzu_8lYWe"
      }
    },
    {
      "cell_type": "code",
      "source": [
        "future = s_model.forecast(steps=60) # Next 5 year"
      ],
      "metadata": {
        "id": "PrOZ6laHlTpR"
      },
      "execution_count": null,
      "outputs": []
    },
    {
      "cell_type": "code",
      "source": [
        "future"
      ],
      "metadata": {
        "id": "00YMDlfxlkjw"
      },
      "execution_count": null,
      "outputs": []
    },
    {
      "cell_type": "code",
      "source": [
        "plt.plot(log_df['#Passengers'])\n",
        "plt.plot(future)\n",
        "plt.show()"
      ],
      "metadata": {
        "id": "b2YjxQdkllXt"
      },
      "execution_count": null,
      "outputs": []
    },
    {
      "cell_type": "code",
      "source": [
        "future"
      ],
      "metadata": {
        "id": "uttVRpSPl1XN"
      },
      "execution_count": null,
      "outputs": []
    },
    {
      "cell_type": "code",
      "source": [
        "round(np.exp(6.085083))"
      ],
      "metadata": {
        "id": "EvVl6EHFm4eA"
      },
      "execution_count": null,
      "outputs": []
    },
    {
      "cell_type": "code",
      "source": [
        "round(np.exp(future))"
      ],
      "metadata": {
        "id": "HNOVt5OAm807"
      },
      "execution_count": null,
      "outputs": []
    },
    {
      "cell_type": "code",
      "source": [],
      "metadata": {
        "id": "v5ff9GhtnLNZ"
      },
      "execution_count": null,
      "outputs": []
    }
  ]
}