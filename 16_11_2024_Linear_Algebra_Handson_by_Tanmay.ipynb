{
  "nbformat": 4,
  "nbformat_minor": 0,
  "metadata": {
    "colab": {
      "provenance": [],
      "include_colab_link": true
    },
    "kernelspec": {
      "name": "python3",
      "display_name": "Python 3"
    },
    "language_info": {
      "name": "python"
    }
  },
  "cells": [
    {
      "cell_type": "markdown",
      "metadata": {
        "id": "view-in-github",
        "colab_type": "text"
      },
      "source": [
        "<a href=\"https://colab.research.google.com/github/madanjha/PythonDS/blob/main/16_11_2024_Linear_Algebra_Handson_by_Tanmay.ipynb\" target=\"_parent\"><img src=\"https://colab.research.google.com/assets/colab-badge.svg\" alt=\"Open In Colab\"/></a>"
      ]
    },
    {
      "cell_type": "markdown",
      "source": [
        "# 1. Matrix Operations\n",
        "**Q1: Basic Matrix Operations**\n",
        "\n",
        "Create two matrices:\n",
        "\n",
        "A random matrix of shape  (3x2)\n",
        "\n",
        " B random matrix of shape  (2x3)\n",
        "\n",
        "Perform the following operations:\n",
        "\n",
        "**Matrix Addition: Compute A + B (if possible).**\n",
        "\n",
        "**Matrix Multiplication: Compute the product of matrices A * B (if possible).**\n",
        "\n",
        "**Scalar Multiplication: Multiply matrix A by a scalar k = 5.**\n"
      ],
      "metadata": {
        "id": "FnfyhwgVuT9k"
      }
    },
    {
      "cell_type": "code",
      "execution_count": null,
      "metadata": {
        "id": "6FWl7XnoXwUw"
      },
      "outputs": [],
      "source": [
        "import numpy as np"
      ]
    },
    {
      "cell_type": "code",
      "source": [
        "A= np.random.randint(1,5,size=(3,2))\n",
        "B= np.random.randint(1,5,size=(2,3))"
      ],
      "metadata": {
        "id": "F7mJuYlRuyOp"
      },
      "execution_count": null,
      "outputs": []
    },
    {
      "cell_type": "code",
      "source": [
        "A"
      ],
      "metadata": {
        "colab": {
          "base_uri": "https://localhost:8080/"
        },
        "id": "v4PYhRXIu9P0",
        "outputId": "d328bae8-8d1f-423c-9be8-4f1375dfe603"
      },
      "execution_count": null,
      "outputs": [
        {
          "output_type": "execute_result",
          "data": {
            "text/plain": [
              "array([[1, 4],\n",
              "       [3, 4],\n",
              "       [3, 3]])"
            ]
          },
          "metadata": {},
          "execution_count": 5
        }
      ]
    },
    {
      "cell_type": "code",
      "source": [
        "B"
      ],
      "metadata": {
        "colab": {
          "base_uri": "https://localhost:8080/"
        },
        "id": "2sx5QHbqu-oZ",
        "outputId": "1d813369-9cc9-481b-804d-08cc3b18d39f"
      },
      "execution_count": null,
      "outputs": [
        {
          "output_type": "execute_result",
          "data": {
            "text/plain": [
              "array([[2, 4, 2],\n",
              "       [1, 2, 3]])"
            ]
          },
          "metadata": {},
          "execution_count": 6
        }
      ]
    },
    {
      "cell_type": "code",
      "source": [
        "A+B # addition is not possible for the dissimilar shapes of matrix"
      ],
      "metadata": {
        "colab": {
          "base_uri": "https://localhost:8080/",
          "height": 141
        },
        "id": "vutSyHxvu-_u",
        "outputId": "333bf25f-9c90-4ef5-a5ba-409a5d7f6a39"
      },
      "execution_count": null,
      "outputs": [
        {
          "output_type": "error",
          "ename": "ValueError",
          "evalue": "operands could not be broadcast together with shapes (3,2) (2,3) ",
          "traceback": [
            "\u001b[0;31m---------------------------------------------------------------------------\u001b[0m",
            "\u001b[0;31mValueError\u001b[0m                                Traceback (most recent call last)",
            "\u001b[0;32m<ipython-input-7-17a53b3d2418>\u001b[0m in \u001b[0;36m<cell line: 1>\u001b[0;34m()\u001b[0m\n\u001b[0;32m----> 1\u001b[0;31m \u001b[0mA\u001b[0m\u001b[0;34m+\u001b[0m\u001b[0mB\u001b[0m\u001b[0;34m\u001b[0m\u001b[0;34m\u001b[0m\u001b[0m\n\u001b[0m",
            "\u001b[0;31mValueError\u001b[0m: operands could not be broadcast together with shapes (3,2) (2,3) "
          ]
        }
      ]
    },
    {
      "cell_type": "code",
      "source": [
        "A*B # multiplication is not possible for the dissimilar shapes of matrix"
      ],
      "metadata": {
        "colab": {
          "base_uri": "https://localhost:8080/",
          "height": 141
        },
        "id": "3wm1Ram0vCcS",
        "outputId": "ae964580-5096-4fe4-c015-956d80d2d65c"
      },
      "execution_count": null,
      "outputs": [
        {
          "output_type": "error",
          "ename": "ValueError",
          "evalue": "operands could not be broadcast together with shapes (3,2) (2,3) ",
          "traceback": [
            "\u001b[0;31m---------------------------------------------------------------------------\u001b[0m",
            "\u001b[0;31mValueError\u001b[0m                                Traceback (most recent call last)",
            "\u001b[0;32m<ipython-input-8-a4df588c3584>\u001b[0m in \u001b[0;36m<cell line: 1>\u001b[0;34m()\u001b[0m\n\u001b[0;32m----> 1\u001b[0;31m \u001b[0mA\u001b[0m\u001b[0;34m*\u001b[0m\u001b[0mB\u001b[0m \u001b[0;31m# multiplication is not possible for the dissimilar shapes of matrix\u001b[0m\u001b[0;34m\u001b[0m\u001b[0;34m\u001b[0m\u001b[0m\n\u001b[0m",
            "\u001b[0;31mValueError\u001b[0m: operands could not be broadcast together with shapes (3,2) (2,3) "
          ]
        }
      ]
    },
    {
      "cell_type": "code",
      "source": [
        "A"
      ],
      "metadata": {
        "colab": {
          "base_uri": "https://localhost:8080/"
        },
        "id": "pOfJnWJPvWZu",
        "outputId": "50da5a1a-789c-4f89-8284-eb15dae18455"
      },
      "execution_count": null,
      "outputs": [
        {
          "output_type": "execute_result",
          "data": {
            "text/plain": [
              "array([[1, 4],\n",
              "       [3, 4],\n",
              "       [3, 3]])"
            ]
          },
          "metadata": {},
          "execution_count": 10
        }
      ]
    },
    {
      "cell_type": "code",
      "source": [
        "5*A"
      ],
      "metadata": {
        "colab": {
          "base_uri": "https://localhost:8080/"
        },
        "id": "YuCQehAyvOjT",
        "outputId": "322d3f16-025e-4546-a089-189f551f2fbb"
      },
      "execution_count": null,
      "outputs": [
        {
          "output_type": "execute_result",
          "data": {
            "text/plain": [
              "array([[ 5, 20],\n",
              "       [15, 20],\n",
              "       [15, 15]])"
            ]
          },
          "metadata": {},
          "execution_count": 9
        }
      ]
    },
    {
      "cell_type": "markdown",
      "source": [
        "# Dot and Cross Product\n",
        "**Q2: Dot and Cross Product**\n",
        "\n",
        "Create two 3D vectors:\n",
        "\n",
        "v1 = [1, 2, 3]\n",
        "v2 = [4, 5, 6]\n",
        "Compute the following:\n",
        "\n",
        "Dot Product: Calculate the dot product of v1 and v2.\n",
        "\n",
        "Cross Product: Calculate the cross product of v1 and v2."
      ],
      "metadata": {
        "id": "2W-JyP4av-Vo"
      }
    },
    {
      "cell_type": "code",
      "source": [
        "v1= np.array([1,2,3])\n",
        "v2= np.array([4,5,6])"
      ],
      "metadata": {
        "id": "I0WK7sWDvUur"
      },
      "execution_count": null,
      "outputs": []
    },
    {
      "cell_type": "code",
      "source": [
        "np.dot(v1,v2)"
      ],
      "metadata": {
        "colab": {
          "base_uri": "https://localhost:8080/"
        },
        "id": "_Ckm5cJHwZGn",
        "outputId": "57568aaa-7719-4d5a-aae9-48e59e4dec0d"
      },
      "execution_count": null,
      "outputs": [
        {
          "output_type": "execute_result",
          "data": {
            "text/plain": [
              "32"
            ]
          },
          "metadata": {},
          "execution_count": 12
        }
      ]
    },
    {
      "cell_type": "code",
      "source": [
        "np.cross(v1,v2)"
      ],
      "metadata": {
        "colab": {
          "base_uri": "https://localhost:8080/"
        },
        "id": "FBjsjqQTweoH",
        "outputId": "5a8ea362-0612-4c6c-995f-825772dda50e"
      },
      "execution_count": null,
      "outputs": [
        {
          "output_type": "execute_result",
          "data": {
            "text/plain": [
              "array([-3,  6, -3])"
            ]
          },
          "metadata": {},
          "execution_count": 13
        }
      ]
    },
    {
      "cell_type": "markdown",
      "source": [
        "# Determinant\n",
        "**Q3: Determinant of a Matrix**\n",
        "\n",
        "Given the matrix:\n",
        "\n",
        "A = A = [[1, 2, 5], [1,3, 4], [4 ,5, 6]]\n",
        "\n",
        "Calculate the determinant of the matrix A. Ensure you check if the determinant is non-zero, as this will affect the next operation (inverse)."
      ],
      "metadata": {
        "id": "2i7DmhOLxKOx"
      }
    },
    {
      "cell_type": "code",
      "source": [
        "A = np.array([[1, 2, 5], [1,3, 4], [4 ,5, 6]])"
      ],
      "metadata": {
        "id": "Mo_HSfDiwqT1"
      },
      "execution_count": null,
      "outputs": []
    },
    {
      "cell_type": "code",
      "source": [
        "A"
      ],
      "metadata": {
        "colab": {
          "base_uri": "https://localhost:8080/"
        },
        "id": "xqz6GFi5x8gi",
        "outputId": "c4952aaf-936e-4a55-a7e9-96aff1949635"
      },
      "execution_count": null,
      "outputs": [
        {
          "output_type": "execute_result",
          "data": {
            "text/plain": [
              "array([[1, 2, 5],\n",
              "       [1, 3, 4],\n",
              "       [4, 5, 6]])"
            ]
          },
          "metadata": {},
          "execution_count": 15
        }
      ]
    },
    {
      "cell_type": "code",
      "source": [
        "np.linalg.det(A)"
      ],
      "metadata": {
        "colab": {
          "base_uri": "https://localhost:8080/"
        },
        "id": "vtAHFhWwx85o",
        "outputId": "a35d46d8-9015-4b7a-c468-c50424222847"
      },
      "execution_count": null,
      "outputs": [
        {
          "output_type": "execute_result",
          "data": {
            "text/plain": [
              "-17.0"
            ]
          },
          "metadata": {},
          "execution_count": 16
        }
      ]
    },
    {
      "cell_type": "code",
      "source": [],
      "metadata": {
        "id": "VqsTxTVMyEqQ"
      },
      "execution_count": null,
      "outputs": []
    },
    {
      "cell_type": "markdown",
      "source": [
        "# Transpose\n",
        "\n",
        "**Q4: Transpose of a Matrix**\n",
        "\n",
        "Given the matrix:\n",
        "\n",
        "A = [[1, 2, 5], [1,3, 4], [4 ,5, 6]]\n",
        "\n",
        "Compute the transpose of matrix A. (The transpose of a matrix swaps its rows and columns.)\n"
      ],
      "metadata": {
        "id": "5woF5qwAyYhb"
      }
    },
    {
      "cell_type": "code",
      "source": [
        "m=np.array([[1, 2, 5], [1,3, 4], [4 ,5, 6]])\n",
        "m\n"
      ],
      "metadata": {
        "colab": {
          "base_uri": "https://localhost:8080/"
        },
        "id": "2YA7faXbyZVs",
        "outputId": "2e4e8160-2363-4d60-ceb1-f302ca6f8d50"
      },
      "execution_count": null,
      "outputs": [
        {
          "output_type": "execute_result",
          "data": {
            "text/plain": [
              "array([[1, 2, 5],\n",
              "       [1, 3, 4],\n",
              "       [4, 5, 6]])"
            ]
          },
          "metadata": {},
          "execution_count": 17
        }
      ]
    },
    {
      "cell_type": "code",
      "source": [
        "#1st method\n",
        "np.transpose(m)"
      ],
      "metadata": {
        "colab": {
          "base_uri": "https://localhost:8080/"
        },
        "id": "jND0wTzcyeTC",
        "outputId": "60759ddb-9773-4d0c-ffb8-99902a7daeb7"
      },
      "execution_count": null,
      "outputs": [
        {
          "output_type": "execute_result",
          "data": {
            "text/plain": [
              "array([[1, 1, 4],\n",
              "       [2, 3, 5],\n",
              "       [5, 4, 6]])"
            ]
          },
          "metadata": {},
          "execution_count": 18
        }
      ]
    },
    {
      "cell_type": "code",
      "source": [
        "# 2nd method\n",
        "m.T"
      ],
      "metadata": {
        "colab": {
          "base_uri": "https://localhost:8080/"
        },
        "id": "Ecb0b40eym69",
        "outputId": "f50c5fe3-5ac9-40a0-f592-b4c3f8c648d3"
      },
      "execution_count": null,
      "outputs": [
        {
          "output_type": "execute_result",
          "data": {
            "text/plain": [
              "array([[1, 1, 4],\n",
              "       [2, 3, 5],\n",
              "       [5, 4, 6]])"
            ]
          },
          "metadata": {},
          "execution_count": 19
        }
      ]
    },
    {
      "cell_type": "code",
      "source": [],
      "metadata": {
        "id": "WClvVNRwywJy"
      },
      "execution_count": null,
      "outputs": []
    },
    {
      "cell_type": "markdown",
      "source": [
        "# Inverse\n",
        "**Q5: Inverse of a Matrix**\n",
        "\n",
        "Given the matrix in question  3:\n",
        "\n",
        "A = [[1, 2, 5], [1,3, 4], [4 ,5, 6]]\n",
        "\n",
        "Compute the inverse of matrix A (if it exists). You should:\n",
        "\n",
        "First calculate the determinant of the matrix.\n",
        "\n",
        "If the determinant is non-zero, calculate the inverse of the matrix.\n"
      ],
      "metadata": {
        "id": "wEp9-U1RzcgY"
      }
    },
    {
      "cell_type": "code",
      "source": [
        "A   #from Question 3"
      ],
      "metadata": {
        "colab": {
          "base_uri": "https://localhost:8080/"
        },
        "id": "c3gNnb0rzmyI",
        "outputId": "9b0f5d62-eb44-4d73-c72f-16621a75ca92"
      },
      "execution_count": null,
      "outputs": [
        {
          "output_type": "execute_result",
          "data": {
            "text/plain": [
              "array([[1, 2, 5],\n",
              "       [1, 3, 4],\n",
              "       [4, 5, 6]])"
            ]
          },
          "metadata": {},
          "execution_count": 20
        }
      ]
    },
    {
      "cell_type": "code",
      "source": [
        "np.linalg.inv(A)"
      ],
      "metadata": {
        "colab": {
          "base_uri": "https://localhost:8080/"
        },
        "id": "z2PAnaZLznzM",
        "outputId": "961cc7c9-fabc-439d-ea71-ede3bfd5182e"
      },
      "execution_count": null,
      "outputs": [
        {
          "output_type": "execute_result",
          "data": {
            "text/plain": [
              "array([[ 0.11764706, -0.76470588,  0.41176471],\n",
              "       [-0.58823529,  0.82352941, -0.05882353],\n",
              "       [ 0.41176471, -0.17647059, -0.05882353]])"
            ]
          },
          "metadata": {},
          "execution_count": 21
        }
      ]
    },
    {
      "cell_type": "markdown",
      "source": [
        "# Rank of a Matrix\n",
        "\n",
        "Q6: Compute the Rank of a Matrix\n",
        "\n",
        "Given the matrix:\n",
        "\n",
        "A = [[1, 2], [2, 4], [3, 6]]\n"
      ],
      "metadata": {
        "id": "RQgsyxNO0a3g"
      }
    },
    {
      "cell_type": "code",
      "source": [
        "M=np.array([[1, 2], [2, 4], [3, 6]])\n",
        "M"
      ],
      "metadata": {
        "colab": {
          "base_uri": "https://localhost:8080/"
        },
        "id": "C99dIUy3zyKD",
        "outputId": "9ecb3f01-4d4a-4ba9-d281-a04dae63d975"
      },
      "execution_count": null,
      "outputs": [
        {
          "output_type": "execute_result",
          "data": {
            "text/plain": [
              "array([[1, 2],\n",
              "       [2, 4],\n",
              "       [3, 6]])"
            ]
          },
          "metadata": {},
          "execution_count": 22
        }
      ]
    },
    {
      "cell_type": "code",
      "source": [
        "np.linalg.matrix_rank(M)"
      ],
      "metadata": {
        "colab": {
          "base_uri": "https://localhost:8080/"
        },
        "id": "tjtkGaGr0wWm",
        "outputId": "a869e6fb-b882-48ae-c0dc-17ac7fd16156"
      },
      "execution_count": null,
      "outputs": [
        {
          "output_type": "execute_result",
          "data": {
            "text/plain": [
              "1"
            ]
          },
          "metadata": {},
          "execution_count": 23
        }
      ]
    },
    {
      "cell_type": "markdown",
      "source": [
        "# . Eigenvalues and Eigenvectors\n",
        "**Q7: Eigenvalues and Eigenvectors**\n",
        "\n",
        "Given the matrix:\n",
        "\n",
        "A = [[4, -2], [1, 1]]\n",
        "\n",
        "Compute the eigenvalues and eigenvectors of matrix A. Verify the result by multiplying the matrix A by each eigenvector and checking if it corresponds to the eigenvalue times the eigenvector."
      ],
      "metadata": {
        "id": "wVy5PM3B1Sjp"
      }
    },
    {
      "cell_type": "code",
      "source": [
        "A = np.array([[4, -2], [1, 1]])"
      ],
      "metadata": {
        "id": "NmUwy2CX00eY"
      },
      "execution_count": null,
      "outputs": []
    },
    {
      "cell_type": "code",
      "source": [
        "A"
      ],
      "metadata": {
        "colab": {
          "base_uri": "https://localhost:8080/"
        },
        "id": "o1zt7qCO1csP",
        "outputId": "47444f2d-43dd-42bd-e0c2-cfb4ef64b167"
      },
      "execution_count": null,
      "outputs": [
        {
          "output_type": "execute_result",
          "data": {
            "text/plain": [
              "array([[ 4, -2],\n",
              "       [ 1,  1]])"
            ]
          },
          "metadata": {},
          "execution_count": 25
        }
      ]
    },
    {
      "cell_type": "code",
      "source": [
        "Eig_val, Eig_vec=np.linalg.eig(A)"
      ],
      "metadata": {
        "id": "yYqPcmIw1dCG"
      },
      "execution_count": null,
      "outputs": []
    },
    {
      "cell_type": "code",
      "source": [
        "Eig_val"
      ],
      "metadata": {
        "colab": {
          "base_uri": "https://localhost:8080/"
        },
        "id": "eTh2IS7L1kDk",
        "outputId": "4c459427-360d-4351-a599-f7b339f6574a"
      },
      "execution_count": null,
      "outputs": [
        {
          "output_type": "execute_result",
          "data": {
            "text/plain": [
              "array([3., 2.])"
            ]
          },
          "metadata": {},
          "execution_count": 28
        }
      ]
    },
    {
      "cell_type": "code",
      "source": [
        "Eig_vec"
      ],
      "metadata": {
        "colab": {
          "base_uri": "https://localhost:8080/"
        },
        "id": "OiBkm3Cl1skq",
        "outputId": "cf89f440-7da5-4bb7-92d3-243351ba566f"
      },
      "execution_count": null,
      "outputs": [
        {
          "output_type": "execute_result",
          "data": {
            "text/plain": [
              "array([[0.89442719, 0.70710678],\n",
              "       [0.4472136 , 0.70710678]])"
            ]
          },
          "metadata": {},
          "execution_count": 30
        }
      ]
    },
    {
      "cell_type": "markdown",
      "source": [
        "# Solve a System of Linear Equations\n",
        "**Solve the system of linear equations**\n",
        "\n",
        "3x+2y=16\n",
        "\n",
        "2x−y=4\n",
        "\n",
        " solve for x and y."
      ],
      "metadata": {
        "id": "1FXeqlVS2spz"
      }
    },
    {
      "cell_type": "code",
      "source": [
        "# 3x+2y=16\n",
        "\n",
        "# 2x+y=4\n",
        "\n",
        "\n",
        "A=np.array([[3,2],[2,1]])"
      ],
      "metadata": {
        "id": "q-k-YCwb2phj"
      },
      "execution_count": null,
      "outputs": []
    },
    {
      "cell_type": "code",
      "source": [
        "A"
      ],
      "metadata": {
        "colab": {
          "base_uri": "https://localhost:8080/"
        },
        "id": "SAt6h3l81tmb",
        "outputId": "b4c06f6c-f1f2-42de-f586-dfed4e356714"
      },
      "execution_count": null,
      "outputs": [
        {
          "output_type": "execute_result",
          "data": {
            "text/plain": [
              "array([[3, 2],\n",
              "       [2, 1]])"
            ]
          },
          "metadata": {},
          "execution_count": 55
        }
      ]
    },
    {
      "cell_type": "code",
      "source": [
        "B=np.array([16,4])"
      ],
      "metadata": {
        "id": "3s_CRAC53Iam"
      },
      "execution_count": null,
      "outputs": []
    },
    {
      "cell_type": "code",
      "source": [
        "B"
      ],
      "metadata": {
        "colab": {
          "base_uri": "https://localhost:8080/"
        },
        "id": "Zye7U3h53Q3u",
        "outputId": "c6160cc8-3404-48a7-a82d-d06585c466e8"
      },
      "execution_count": null,
      "outputs": [
        {
          "output_type": "execute_result",
          "data": {
            "text/plain": [
              "array([16,  4])"
            ]
          },
          "metadata": {},
          "execution_count": 57
        }
      ]
    },
    {
      "cell_type": "code",
      "source": [
        "np.linalg.solve(A,B)"
      ],
      "metadata": {
        "colab": {
          "base_uri": "https://localhost:8080/"
        },
        "id": "QjwKojYC3RTn",
        "outputId": "0006118f-ed74-48ae-9a8e-4701d0ae7ff6"
      },
      "execution_count": null,
      "outputs": [
        {
          "output_type": "execute_result",
          "data": {
            "text/plain": [
              "array([-8., 20.])"
            ]
          },
          "metadata": {},
          "execution_count": 58
        }
      ]
    },
    {
      "cell_type": "code",
      "source": [],
      "metadata": {
        "id": "UrLh3aaM3W-0"
      },
      "execution_count": null,
      "outputs": []
    }
  ]
}