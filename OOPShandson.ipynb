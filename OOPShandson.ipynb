{
  "cells": [
    {
      "cell_type": "markdown",
      "metadata": {
        "id": "view-in-github",
        "colab_type": "text"
      },
      "source": [
        "<a href=\"https://colab.research.google.com/github/madanjha/PythonDS/blob/main/OOPShandson.ipynb\" target=\"_parent\"><img src=\"https://colab.research.google.com/assets/colab-badge.svg\" alt=\"Open In Colab\"/></a>"
      ]
    },
    {
      "cell_type": "code",
      "execution_count": null,
      "id": "fffabefb-c01e-47d1-8aad-f282a9f98200",
      "metadata": {
        "id": "fffabefb-c01e-47d1-8aad-f282a9f98200"
      },
      "outputs": [],
      "source": [
        "# #Q1. Create a student management system for their academic reports. You need to design a class that stores the details of a student and\n",
        "# calculates their av. score based on their marks in 3 subjects.\n",
        "# Additionally, you have to extend this system to manage records for graduate students by inheriting from base class Student"
      ]
    },
    {
      "cell_type": "code",
      "execution_count": null,
      "id": "d124bc83-47ea-49ee-ac4b-18da9942bda3",
      "metadata": {
        "id": "d124bc83-47ea-49ee-ac4b-18da9942bda3",
        "outputId": "88f14dfa-45db-4c8b-dcfc-8d20d5cdfbd6"
      },
      "outputs": [
        {
          "name": "stdout",
          "output_type": "stream",
          "text": [
            "Average score of Poonam is 92.33333333333333\n",
            "Average score of Devan is 91.33333333333333\n",
            "Devan has done a project on Artificial Intelligence in Production Industry in his academic years.\n"
          ]
        }
      ],
      "source": [
        "#Base class\n",
        "class Student:\n",
        "    def __init__(self,name,roll_no,*scores): #*name\n",
        "        self.name = name\n",
        "        self.roll_no = roll_no\n",
        "        self.scores = scores\n",
        "    def cal_average(self):\n",
        "        return sum(self.scores)/len(self.scores)\n",
        "class GraduateStudent(Student): #child class\n",
        "    def __init__(self,name,roll_no,project,*scores):\n",
        "        super().__init__(name,roll_no,*scores)\n",
        "        self.project = project\n",
        "    def display_project(self):\n",
        "        print(f'{self.name} has done a project on {self.project} in his academic years.')\n",
        "S = Student(\"Poonam\",12,89,90,98)\n",
        "avg = S.cal_average()\n",
        "print(f'Average score of {S.name} is {avg}')\n",
        "\n",
        "GS = GraduateStudent(\"Devan\",13,\"Artificial Intelligence in Production Industry\",90,96,88)\n",
        "avg1 = GS.cal_average()\n",
        "print(f'Average score of {GS.name} is {avg1}')\n",
        "GS.display_project()"
      ]
    },
    {
      "cell_type": "code",
      "execution_count": null,
      "id": "48b54e94-e76f-4622-b72f-481fa7fcc2f7",
      "metadata": {
        "id": "48b54e94-e76f-4622-b72f-481fa7fcc2f7"
      },
      "outputs": [],
      "source": [
        "#Q2. You have to develope a Bank Account Management System using encapsulation in python.\n",
        "# The system should allow users to manage their bank accounts by performing common operations like deposit,withdrawal,\n",
        "# setting account holder name and account number and checking their balance"
      ]
    },
    {
      "cell_type": "code",
      "execution_count": null,
      "id": "0d461705-d7b9-4934-8c03-fd428d4411de",
      "metadata": {
        "id": "0d461705-d7b9-4934-8c03-fd428d4411de",
        "outputId": "eb9a9a98-4699-4d41-9374-95d277a68a10"
      },
      "outputs": [
        {
          "name": "stdout",
          "output_type": "stream",
          "text": [
            "Account holder details are : 1234567 belongs to Poonam\n",
            "3000 is deposited and the balance is 23000\n",
            "5000 is withdrawed and the balance is 18000\n"
          ]
        },
        {
          "data": {
            "text/plain": [
              "'Update name is : Devan'"
            ]
          },
          "execution_count": 17,
          "metadata": {},
          "output_type": "execute_result"
        }
      ],
      "source": [
        "class BankAccount:\n",
        "    def __init__(self,accnt_no,accnt_holder,balance=0):\n",
        "        self._acnt_no = accnt_no\n",
        "        self._accnt_holder = accnt_holder\n",
        "        self._balance = balance\n",
        "    def deposit(self,amount):\n",
        "        if amount > 0:\n",
        "            self._balance +=amount\n",
        "            print(f\"{amount} is deposited and the balance is {self._balance}\")\n",
        "        else:\n",
        "            print(\"Invalid\")\n",
        "    def withdrawal(self,amount):\n",
        "        if 0 < amount <= self._balance:\n",
        "            self._balance -= amount\n",
        "            print(f\"{amount} is withdrawed and the balance is {self._balance}\")\n",
        "        elif amount > self._balance:\n",
        "            print(\"Insufficient balance\")\n",
        "        else:\n",
        "            print(\"Invalid\")\n",
        "    def display_balance(self):\n",
        "        return f\"Your current balance is {self._balance}\"\n",
        "    def account_details(self):\n",
        "        return f\"{self._acnt_no} belongs to {self._accnt_holder}\"\n",
        "    def set_name(self,new_name):\n",
        "        self._accnt_holder = new_name\n",
        "        return f\"Update name is : {self._accnt_holder}\"\n",
        "\n",
        "BA = BankAccount(1234567,\"Poonam\",20000)\n",
        "print(f\"Account holder details are : {BA.account_details()}\")\n",
        "\n",
        "BA.deposit(3000)\n",
        "BA.withdrawal(5000)\n",
        "BA.display_balance()\n",
        "BA.set_name(\"Devan\")"
      ]
    },
    {
      "cell_type": "code",
      "execution_count": null,
      "id": "7b46e1cf-2e3d-4b3a-89cb-20e1e7e433c5",
      "metadata": {
        "id": "7b46e1cf-2e3d-4b3a-89cb-20e1e7e433c5"
      },
      "outputs": [],
      "source": [
        "#Q3. Library management system. so you need to create a class Book with specific attributes and methods\n",
        "# that handles the book lending an returning operations.\n",
        "# The system should check if the copies are available before lending the book and update the availibility after each transaction."
      ]
    },
    {
      "cell_type": "code",
      "execution_count": null,
      "id": "9e3a56e0-852a-4acf-a59b-4d2cb86159e8",
      "metadata": {
        "id": "9e3a56e0-852a-4acf-a59b-4d2cb86159e8",
        "outputId": "f6d9c9ab-963d-4c67-f8c1-93f2ac4835f1"
      },
      "outputs": [
        {
          "name": "stdout",
          "output_type": "stream",
          "text": [
            "You borrowed the book Rich dad poor dad\n",
            "copies avaiable are 4\n",
            "Thanks for returning\n",
            "copies avaiable are 5\n",
            "You borrowed the book Mein Kampf\n",
            "copies avaiable are 31\n",
            "Thanks for returning\n",
            "copies avaiable are 32\n"
          ]
        }
      ],
      "source": [
        "class Book:\n",
        "    def __init__(self,title,author,copies):\n",
        "        self.title = title\n",
        "        self.author = author\n",
        "        self.copies = copies\n",
        "    def lending(self):\n",
        "        if self.copies > 0:\n",
        "            self.copies -= 1\n",
        "            print(f\"You borrowed the book {self.title}\")\n",
        "            print(f\"copies avaiable are {self.copies}\")\n",
        "        else:\n",
        "            print(\"Copies aren't available\")\n",
        "    def return_book(self):\n",
        "        self.copies += 1\n",
        "        print(\"Thanks for returning\")\n",
        "        print(f\"copies avaiable are {self.copies}\")\n",
        "B = Book(\"Rich dad poor dad\",\"Robert\",5)\n",
        "B.lending()\n",
        "B.return_book()\n",
        "\n",
        "c = Book(\"Mein Kampf\",\"Hitler\",32)\n",
        "c.lending()\n",
        "c.return_book()"
      ]
    },
    {
      "cell_type": "code",
      "execution_count": null,
      "id": "e79b314c-8b23-4096-b10f-ea16964e39c4",
      "metadata": {
        "id": "e79b314c-8b23-4096-b10f-ea16964e39c4"
      },
      "outputs": [],
      "source": [
        "#Q4. Write a program to display polymorphism in python."
      ]
    },
    {
      "cell_type": "code",
      "execution_count": null,
      "id": "e139c307-d5d8-4da6-9c8c-49bb6523ea28",
      "metadata": {
        "id": "e139c307-d5d8-4da6-9c8c-49bb6523ea28",
        "outputId": "9caa5515-15af-4db7-f3c0-dcd09c4ce1d4"
      },
      "outputs": [
        {
          "name": "stdout",
          "output_type": "stream",
          "text": [
            "Shape : Rectangle, Area : 8\n",
            "Shape : Square, Area : 9\n"
          ]
        }
      ],
      "source": [
        "class rectangle:\n",
        "    def __init__(self,length,width):\n",
        "        self.length = length\n",
        "        self.width = width\n",
        "    def area(self):\n",
        "        return self.length * self.width   #side * side\n",
        "    def display_details(self):\n",
        "        print(f'Shape : Rectangle, Area : {self.area()}')\n",
        "class Square(rectangle):\n",
        "    def __init__(self,side):\n",
        "        super().__init__(side,side) #length = side width = side\n",
        "    def display_details(self):\n",
        "       print(f'Shape : Square, Area : {self.area()}')\n",
        "# def show_all(shape):\n",
        "#     shape.display_details()\n",
        "\n",
        "R = rectangle(4,2)\n",
        "S = Square(3)\n",
        "R.display_details()\n",
        "S.display_details()"
      ]
    },
    {
      "cell_type": "code",
      "execution_count": null,
      "id": "fdaf10f3-6757-4729-9324-d66dc0474567",
      "metadata": {
        "id": "fdaf10f3-6757-4729-9324-d66dc0474567"
      },
      "outputs": [],
      "source": []
    }
  ],
  "metadata": {
    "kernelspec": {
      "display_name": "Python 3 (ipykernel)",
      "language": "python",
      "name": "python3"
    },
    "language_info": {
      "codemirror_mode": {
        "name": "ipython",
        "version": 3
      },
      "file_extension": ".py",
      "mimetype": "text/x-python",
      "name": "python",
      "nbconvert_exporter": "python",
      "pygments_lexer": "ipython3",
      "version": "3.11.7"
    },
    "colab": {
      "provenance": [],
      "include_colab_link": true
    }
  },
  "nbformat": 4,
  "nbformat_minor": 5
}